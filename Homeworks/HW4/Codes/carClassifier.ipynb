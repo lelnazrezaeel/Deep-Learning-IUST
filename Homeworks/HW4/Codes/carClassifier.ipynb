{
  "cells": [
    {
      "cell_type": "code",
      "execution_count": 43,
      "metadata": {
        "colab": {
          "base_uri": "https://localhost:8080/"
        },
        "id": "02ik9B4YDzpA",
        "outputId": "1b16f190-d034-4bbf-8aee-1eff806b9074"
      },
      "outputs": [
        {
          "name": "stdout",
          "output_type": "stream",
          "text": [
            "Drive already mounted at /content/drive; to attempt to forcibly remount, call drive.mount(\"/content/drive\", force_remount=True).\n"
          ]
        }
      ],
      "source": [
        "import sys\n",
        "import glob\n",
        "import cv2\n",
        "import numpy as np\n",
        "import os\n",
        "\n",
        "from shutil import copytree\n",
        "from shutil import rmtree\n",
        "\n",
        "\n",
        "\n",
        "import pickle\n",
        "import math, re\n",
        "from os import path\n",
        "\n",
        "import tensorflow as tf\n",
        "import tensorflow.keras as keras\n",
        "from keras_preprocessing.image import ImageDataGenerator\n",
        "from tensorflow.keras import layers\n",
        "from tensorflow.keras import Sequential, Model\n",
        "from tensorflow.keras.applications import MobileNet\n",
        "from sklearn.model_selection import train_test_split\n",
        "from tensorflow.keras.callbacks import EarlyStopping, ReduceLROnPlateau, ModelCheckpoint\n",
        "from tensorflow.keras.losses import CategoricalCrossentropy\n",
        "from tensorflow.keras.optimizers import Adamax, RMSprop\n",
        "import matplotlib.pyplot as plt\n",
        "\n",
        "import pandas as pd\n",
        "import random\n",
        "import shutil\n",
        "import pathlib\n",
        "\n",
        "from google.colab import drive\n",
        "drive.mount('/content/drive')"
      ]
    },
    {
      "cell_type": "markdown",
      "metadata": {
        "id": "k7trQz3vOvt0"
      },
      "source": [
        "## **Data preparation**\n",
        "\n",
        "In this cell you're going to:\n",
        "1.   Read images\n",
        "2.   Preprocess them\n",
        "3.   Create labels from the dirs.\n",
        "\n",
        "Don't forget to create test, val and train sets\n",
        "\n",
        "Split them appropriately\n",
        "\n",
        "If you want to use **ImageDataGenerator** please write your final dataset in a directory\n"
      ]
    },
    {
      "cell_type": "code",
      "execution_count": 9,
      "metadata": {
        "id": "Wvj93O5uOq5Q"
      },
      "outputs": [],
      "source": [
        "#####################################\n",
        "##### Your implementation here ######\n",
        "#!unzip \"drive/MyDrive/data/dataset.zip\"\n",
        "\n",
        "labels = os.listdir(\"./dataset\")\n",
        "\n",
        "os.mkdir(\"data\")\n",
        "os.mkdir(\"data/train\")\n",
        "os.mkdir(\"data/test\")\n",
        "os.mkdir(\"data/validation\")\n",
        "\n",
        "for label in labels:\n",
        "  filenames = os.listdir(f\"./dataset/{label}\")\n",
        "  random.shuffle(filenames)\n",
        "\n",
        "  split_1 = int(0.8 * len(filenames))\n",
        "  split_2 = int(0.9 * len(filenames))\n",
        "\n",
        "  os.mkdir(os.path.join(\"data/train\",label))\n",
        "  os.mkdir(os.path.join(\"data/validation\",label))\n",
        "  os.mkdir(os.path.join(\"data/test\",label))\n",
        "\n",
        "  train_filenames = filenames[:split_1]\n",
        "  validation_filenames = filenames[split_1:split_2]\n",
        "  test_filenames = filenames[split_2:]\n",
        "\n",
        "  for tf in train_filenames:\n",
        "    shutil.copy(f\"./dataset/{label}/{tf}\", f\"data/train/{label}/{tf}\")\n",
        "  for vf in validation_filenames:\n",
        "    shutil.copy(f\"./dataset/{label}/{vf}\", f\"data/validation/{label}/{vf}\")\n",
        "  for tf in test_filenames:\n",
        "    shutil.copy(f\"./dataset/{label}/{tf}\", f\"data/test/{label}/{tf}\")\n",
        "\n",
        "#####################################"
      ]
    },
    {
      "cell_type": "markdown",
      "metadata": {
        "id": "wGRHt1xKQl5I"
      },
      "source": [
        "## **Define global variable**\n",
        "\n",
        "Feel free to change them"
      ]
    },
    {
      "cell_type": "code",
      "execution_count": 32,
      "metadata": {
        "id": "LgKAYMVDQO2r"
      },
      "outputs": [],
      "source": [
        "num_classes = 5\n",
        "EPOCHS = 50\n",
        "BATCH_SIZE = 20\n",
        "\n",
        "BASE_FOLDER = './data/'"
      ]
    },
    {
      "cell_type": "markdown",
      "metadata": {
        "id": "EcK030kfTjlH"
      },
      "source": [
        "## **Create your own CNN model**"
      ]
    },
    {
      "cell_type": "code",
      "execution_count": 17,
      "metadata": {
        "id": "gQTkM922iB1L"
      },
      "outputs": [],
      "source": [
        "from tensorflow.keras.models import Sequential\n",
        "from tensorflow.keras.layers import Dense, Activation, Conv2D, Flatten, MaxPooling2D\n",
        "from tensorflow.keras.optimizers import Adam\n",
        "from tensorflow.keras.losses import BinaryCrossentropy\n",
        "from sklearn.model_selection import train_test_split\n",
        "import tensorflow as tf\n",
        "from tensorflow.keras import layers"
      ]
    },
    {
      "cell_type": "code",
      "execution_count": 22,
      "metadata": {
        "id": "Fd_B3oMsRUWk"
      },
      "outputs": [],
      "source": [
        "def create_cnn_model():\n",
        "  '''\n",
        "  In this function you should create your CNN model and define layers\n",
        "  via Sequential or Functional API\n",
        "  \n",
        "  Feel free to set hyperparameters of model as you desired\n",
        "\n",
        "  Then compile your model and define optimizer ans loss function\n",
        "\n",
        "  Please set your metrices to monitor the accuracy\n",
        "\n",
        "  At the end of the code please print the summary of the model\n",
        "\n",
        "  Arguments:\n",
        "  output: created model\n",
        "  '''\n",
        "  #####################################\n",
        "  ##### Your implementation here ######\n",
        "\n",
        "  model = Sequential()\n",
        "  model.add(Conv2D(32, 3, padding=\"same\", activation='relu', input_shape=(150,150,3)))\n",
        "  model.add(MaxPooling2D(pool_size=(2, 2)))\n",
        "  model.add(Conv2D(64, 3, padding=\"same\", activation='relu'))\n",
        "  model.add(MaxPooling2D(pool_size=(2, 2)))\n",
        "  model.add(Conv2D(64, 3, padding=\"same\", activation='relu'))\n",
        "  model.add(MaxPooling2D(pool_size=(2, 2)))\n",
        "  model.add(Flatten())\n",
        "  model.add(Dense(128, activation='relu'))\n",
        "  model.add(Dense(num_classes, activation='softmax'))\n",
        "\n",
        "  model.compile(\n",
        "    optimizer=Adam(learning_rate=1e-3),\n",
        "    loss=CategoricalCrossentropy(),\n",
        "    metrics=['accuracy']\n",
        "  )\n",
        "\n",
        "  summary = model.summary()\n",
        "  print(summary)\n",
        "  #####################################\n",
        "\n",
        "  return model"
      ]
    },
    {
      "cell_type": "code",
      "execution_count": 29,
      "metadata": {
        "id": "k2mnIG0MSe_4"
      },
      "outputs": [],
      "source": [
        "def create_callbacks():\n",
        "  '''\n",
        "  We prefer use three of the callbacks in the keras API\n",
        "\n",
        "  1. early stopping: take a look at https://keras.io/api/callbacks/early_stopping/\n",
        "  2. reduce_lr: take a look at https://keras.io/api/callbacks/reduce_lr_on_plateau/\n",
        "  3. model_checkpoints: take a look at https://keras.io/api/callbacks/model_checkpoint/\n",
        "\n",
        "  Arguments:\n",
        "    output: a list of callbacks\n",
        "\n",
        "  '''\n",
        "  #####################################\n",
        "  ##### Your implementation here ######  \n",
        "  early_stopping = EarlyStopping(\n",
        "    monitor='loss', \n",
        "    patience=3\n",
        "  )\n",
        "  reduce_lr = ReduceLROnPlateau(\n",
        "    monitor='val_loss', \n",
        "    factor=0.2, \n",
        "    patience=5, \n",
        "    min_lr=0.001, \n",
        "    verbos=0\n",
        "  )\n",
        "  model_checkpoint = ModelCheckpoint(\n",
        "    filepath=\"./checkpoint\", \n",
        "    save_weights_only=True, \n",
        "    monitor='val_accuracy',\n",
        "    mode='max',\n",
        "    save_best_only=True,\n",
        "    verbos=0\n",
        "  )\n",
        "\n",
        "  callbacks = [early_stopping, reduce_lr, model_checkpoint]\n",
        "\n",
        "\n",
        "  #####################################\n",
        "\n",
        "  return callbacks"
      ]
    },
    {
      "cell_type": "code",
      "execution_count": 30,
      "metadata": {
        "id": "5kDFNRpkS-jg"
      },
      "outputs": [],
      "source": [
        "def train_model_naive_split():\n",
        "  '''\n",
        "  We need to first read our stored data then fit our created model with provided callbacks\n",
        "\n",
        "  For this use the https://www.tensorflow.org/api_docs/python/tf/keras/preprocessing/image/ImageDataGenerator function\n",
        "\n",
        "  You can load your data in a way you feel comfortable and there is no force to use this methods\n",
        "\n",
        "  outputs: The History of the training process\n",
        "  '''\n",
        "  #####################################\n",
        "  ##### Your implementation here ######  \n",
        "\n",
        "  train_datagen = ImageDataGenerator(\n",
        "    rotation_range=40,\n",
        "    width_shift_range=0.2,\n",
        "    height_shift_range=0.2,\n",
        "    rescale=1./255,\n",
        "    shear_range=0.2,\n",
        "    zoom_range=0.2,\n",
        "    horizontal_flip=True,\n",
        "    fill_mode='nearest'\n",
        "  )\n",
        "  train_iterator = train_datagen.flow_from_directory(\n",
        "    f'{BASE_FOLDER}train',\n",
        "    target_size=(150, 150),\n",
        "    batch_size=BATCH_SIZE,\n",
        "    class_mode='categorical',\n",
        "    shuffle=True,\n",
        "    seed=42\n",
        "  )\n",
        "  validation_datagen = ImageDataGenerator(\n",
        "    rescale=1./255,\n",
        "  )\n",
        "  validation_iterator = validation_datagen.flow_from_directory(\n",
        "    f'{BASE_FOLDER}validation',\n",
        "    target_size=(150, 150),\n",
        "    batch_size=BATCH_SIZE,\n",
        "    class_mode='categorical'\n",
        "  )\n",
        "  model = create_cnn_model()\n",
        "  history =  model.fit(\n",
        "    train_iterator,\n",
        "    epochs=EPOCHS,\n",
        "    validation_data=validation_iterator,\n",
        "    callbacks=create_callbacks()\n",
        "  )\n",
        "\n",
        "  #####################################\n",
        "\n",
        "  return history"
      ]
    },
    {
      "cell_type": "code",
      "execution_count": 33,
      "metadata": {
        "colab": {
          "base_uri": "https://localhost:8080/"
        },
        "id": "MFczBeEqWWnH",
        "outputId": "02e823ab-1c63-4e53-e82d-e5bb571a6665"
      },
      "outputs": [
        {
          "name": "stdout",
          "output_type": "stream",
          "text": [
            "Found 1680 images belonging to 5 classes.\n",
            "Found 209 images belonging to 5 classes.\n",
            "Model: \"sequential_1\"\n",
            "_________________________________________________________________\n",
            " Layer (type)                Output Shape              Param #   \n",
            "=================================================================\n",
            " conv2d_3 (Conv2D)           (None, 150, 150, 32)      896       \n",
            "                                                                 \n",
            " max_pooling2d_3 (MaxPooling  (None, 75, 75, 32)       0         \n",
            " 2D)                                                             \n",
            "                                                                 \n",
            " conv2d_4 (Conv2D)           (None, 75, 75, 64)        18496     \n",
            "                                                                 \n",
            " max_pooling2d_4 (MaxPooling  (None, 37, 37, 64)       0         \n",
            " 2D)                                                             \n",
            "                                                                 \n",
            " conv2d_5 (Conv2D)           (None, 37, 37, 64)        36928     \n",
            "                                                                 \n",
            " max_pooling2d_5 (MaxPooling  (None, 18, 18, 64)       0         \n",
            " 2D)                                                             \n",
            "                                                                 \n",
            " flatten_1 (Flatten)         (None, 20736)             0         \n",
            "                                                                 \n",
            " dense_2 (Dense)             (None, 128)               2654336   \n",
            "                                                                 \n",
            " dense_3 (Dense)             (None, 5)                 645       \n",
            "                                                                 \n",
            "=================================================================\n",
            "Total params: 2,711,301\n",
            "Trainable params: 2,711,301\n",
            "Non-trainable params: 0\n",
            "_________________________________________________________________\n",
            "None\n",
            "Epoch 1/50\n",
            "84/84 [==============================] - 90s 1s/step - loss: 1.6426 - accuracy: 0.1923 - val_loss: 1.6085 - val_accuracy: 0.2249 - lr: 0.0010\n",
            "Epoch 2/50\n",
            "84/84 [==============================] - 88s 1s/step - loss: 1.6096 - accuracy: 0.2167 - val_loss: 1.6082 - val_accuracy: 0.2201 - lr: 0.0010\n",
            "Epoch 3/50\n",
            "84/84 [==============================] - 87s 1s/step - loss: 1.6081 - accuracy: 0.2262 - val_loss: 1.6019 - val_accuracy: 0.2057 - lr: 0.0010\n",
            "Epoch 4/50\n",
            "84/84 [==============================] - 90s 1s/step - loss: 1.6050 - accuracy: 0.2274 - val_loss: 1.6007 - val_accuracy: 0.2105 - lr: 0.0010\n",
            "Epoch 5/50\n",
            "84/84 [==============================] - 88s 1s/step - loss: 1.5993 - accuracy: 0.2464 - val_loss: 1.6019 - val_accuracy: 0.2201 - lr: 0.0010\n",
            "Epoch 6/50\n",
            "84/84 [==============================] - 87s 1s/step - loss: 1.5996 - accuracy: 0.2429 - val_loss: 1.5856 - val_accuracy: 0.2536 - lr: 0.0010\n",
            "Epoch 7/50\n",
            "84/84 [==============================] - 86s 1s/step - loss: 1.5866 - accuracy: 0.2661 - val_loss: 1.6080 - val_accuracy: 0.2392 - lr: 0.0010\n",
            "Epoch 8/50\n",
            "84/84 [==============================] - 86s 1s/step - loss: 1.5597 - accuracy: 0.2601 - val_loss: 1.5783 - val_accuracy: 0.3301 - lr: 0.0010\n",
            "Epoch 9/50\n",
            "84/84 [==============================] - 86s 1s/step - loss: 1.5608 - accuracy: 0.2804 - val_loss: 1.5759 - val_accuracy: 0.2536 - lr: 0.0010\n",
            "Epoch 10/50\n",
            "84/84 [==============================] - 86s 1s/step - loss: 1.5555 - accuracy: 0.2857 - val_loss: 1.5636 - val_accuracy: 0.3110 - lr: 0.0010\n",
            "Epoch 11/50\n",
            "84/84 [==============================] - 86s 1s/step - loss: 1.5453 - accuracy: 0.2821 - val_loss: 1.5743 - val_accuracy: 0.3014 - lr: 0.0010\n",
            "Epoch 12/50\n",
            "84/84 [==============================] - 86s 1s/step - loss: 1.5442 - accuracy: 0.2994 - val_loss: 1.5703 - val_accuracy: 0.2919 - lr: 0.0010\n",
            "Epoch 13/50\n",
            "84/84 [==============================] - 86s 1s/step - loss: 1.5396 - accuracy: 0.3024 - val_loss: 1.5566 - val_accuracy: 0.2919 - lr: 0.0010\n",
            "Epoch 14/50\n",
            "84/84 [==============================] - 86s 1s/step - loss: 1.5299 - accuracy: 0.3101 - val_loss: 1.5527 - val_accuracy: 0.3014 - lr: 0.0010\n",
            "Epoch 15/50\n",
            "84/84 [==============================] - 86s 1s/step - loss: 1.5198 - accuracy: 0.3089 - val_loss: 1.5471 - val_accuracy: 0.3014 - lr: 0.0010\n",
            "Epoch 16/50\n",
            "84/84 [==============================] - 86s 1s/step - loss: 1.5159 - accuracy: 0.2940 - val_loss: 1.5410 - val_accuracy: 0.3301 - lr: 0.0010\n",
            "Epoch 17/50\n",
            "84/84 [==============================] - 85s 1s/step - loss: 1.5141 - accuracy: 0.3060 - val_loss: 1.5520 - val_accuracy: 0.3254 - lr: 0.0010\n",
            "Epoch 18/50\n",
            "84/84 [==============================] - 85s 1s/step - loss: 1.5247 - accuracy: 0.3161 - val_loss: 1.5289 - val_accuracy: 0.3301 - lr: 0.0010\n",
            "Epoch 19/50\n",
            "84/84 [==============================] - 86s 1s/step - loss: 1.5084 - accuracy: 0.3185 - val_loss: 1.4869 - val_accuracy: 0.3589 - lr: 0.0010\n",
            "Epoch 20/50\n",
            "84/84 [==============================] - 85s 1s/step - loss: 1.4925 - accuracy: 0.3446 - val_loss: 1.4865 - val_accuracy: 0.3589 - lr: 0.0010\n",
            "Epoch 21/50\n",
            "84/84 [==============================] - 85s 1s/step - loss: 1.5030 - accuracy: 0.3339 - val_loss: 1.5067 - val_accuracy: 0.3349 - lr: 0.0010\n",
            "Epoch 22/50\n",
            "84/84 [==============================] - 86s 1s/step - loss: 1.4904 - accuracy: 0.3244 - val_loss: 1.5273 - val_accuracy: 0.3445 - lr: 0.0010\n",
            "Epoch 23/50\n",
            "84/84 [==============================] - 85s 1s/step - loss: 1.4658 - accuracy: 0.3583 - val_loss: 1.5017 - val_accuracy: 0.3780 - lr: 0.0010\n",
            "Epoch 24/50\n",
            "84/84 [==============================] - 86s 1s/step - loss: 1.4684 - accuracy: 0.3423 - val_loss: 1.4957 - val_accuracy: 0.3684 - lr: 0.0010\n",
            "Epoch 25/50\n",
            "84/84 [==============================] - 86s 1s/step - loss: 1.4722 - accuracy: 0.3446 - val_loss: 1.4953 - val_accuracy: 0.3493 - lr: 0.0010\n",
            "Epoch 26/50\n",
            "84/84 [==============================] - 86s 1s/step - loss: 1.4567 - accuracy: 0.3518 - val_loss: 1.4988 - val_accuracy: 0.3445 - lr: 0.0010\n",
            "Epoch 27/50\n",
            "84/84 [==============================] - 86s 1s/step - loss: 1.4431 - accuracy: 0.3536 - val_loss: 1.5341 - val_accuracy: 0.3445 - lr: 0.0010\n",
            "Epoch 28/50\n",
            "84/84 [==============================] - 86s 1s/step - loss: 1.4407 - accuracy: 0.3619 - val_loss: 1.4985 - val_accuracy: 0.3397 - lr: 0.0010\n",
            "Epoch 29/50\n",
            "84/84 [==============================] - 87s 1s/step - loss: 1.4326 - accuracy: 0.3506 - val_loss: 1.5551 - val_accuracy: 0.3541 - lr: 0.0010\n",
            "Epoch 30/50\n",
            "84/84 [==============================] - 86s 1s/step - loss: 1.4386 - accuracy: 0.3690 - val_loss: 1.5424 - val_accuracy: 0.3397 - lr: 0.0010\n",
            "Epoch 31/50\n",
            "84/84 [==============================] - 87s 1s/step - loss: 1.4183 - accuracy: 0.3744 - val_loss: 1.4406 - val_accuracy: 0.3732 - lr: 0.0010\n",
            "Epoch 32/50\n",
            "84/84 [==============================] - 86s 1s/step - loss: 1.4065 - accuracy: 0.3905 - val_loss: 1.4387 - val_accuracy: 0.3684 - lr: 0.0010\n",
            "Epoch 33/50\n",
            "84/84 [==============================] - 86s 1s/step - loss: 1.3927 - accuracy: 0.3970 - val_loss: 1.4779 - val_accuracy: 0.3780 - lr: 0.0010\n",
            "Epoch 34/50\n",
            "84/84 [==============================] - 86s 1s/step - loss: 1.3886 - accuracy: 0.3970 - val_loss: 1.5734 - val_accuracy: 0.3541 - lr: 0.0010\n",
            "Epoch 35/50\n",
            "84/84 [==============================] - 87s 1s/step - loss: 1.3948 - accuracy: 0.3964 - val_loss: 1.4093 - val_accuracy: 0.4211 - lr: 0.0010\n",
            "Epoch 36/50\n",
            "84/84 [==============================] - 87s 1s/step - loss: 1.3472 - accuracy: 0.4274 - val_loss: 1.5012 - val_accuracy: 0.3780 - lr: 0.0010\n",
            "Epoch 37/50\n",
            "84/84 [==============================] - 86s 1s/step - loss: 1.3478 - accuracy: 0.4298 - val_loss: 1.5191 - val_accuracy: 0.3876 - lr: 0.0010\n",
            "Epoch 38/50\n",
            "84/84 [==============================] - 87s 1s/step - loss: 1.3520 - accuracy: 0.4179 - val_loss: 1.4127 - val_accuracy: 0.3828 - lr: 0.0010\n",
            "Epoch 39/50\n",
            "84/84 [==============================] - 87s 1s/step - loss: 1.3501 - accuracy: 0.4214 - val_loss: 1.4107 - val_accuracy: 0.4067 - lr: 0.0010\n"
          ]
        }
      ],
      "source": [
        "## Train the model\n",
        "\n",
        "history = train_model_naive_split()"
      ]
    },
    {
      "cell_type": "code",
      "execution_count": 34,
      "metadata": {
        "colab": {
          "base_uri": "https://localhost:8080/",
          "height": 545
        },
        "id": "MRtRUeVsWeJR",
        "outputId": "39d27428-86b6-4038-dd2c-4801c8662380"
      },
      "outputs": [
        {
          "data": {
            "image/png": "[encoded data removed]",
            "text/plain": [
              "<Figure size 432x288 with 1 Axes>"
            ]
          },
          "metadata": {
            "needs_background": "light"
          },
          "output_type": "display_data"
        },
        {
          "data": {
            "image/png": "[encoded data removed]",
            "text/plain": [
              "<Figure size 432x288 with 1 Axes>"
            ]
          },
          "metadata": {
            "needs_background": "light"
          },
          "output_type": "display_data"
        }
      ],
      "source": [
        "## just run the bellow cell and see the acc and loss plots\n",
        "\n",
        "acc = history.history['accuracy']\n",
        "val_acc = history.history['val_accuracy']\n",
        "loss = history.history['loss']\n",
        "val_loss = history.history['val_loss']\n",
        "\n",
        "epochs = range(len(acc))\n",
        "\n",
        "plt.plot(epochs, acc, 'r', label='Training accuracy')\n",
        "plt.plot(epochs, val_acc, 'b', label='Validation accuracy')\n",
        "plt.title('Training and validation accuracy')\n",
        "plt.legend()\n",
        "\n",
        "plt.figure()\n",
        "\n",
        "plt.plot(epochs, loss, 'r', label='Training Loss')\n",
        "plt.plot(epochs, val_loss, 'b', label='Validation Loss')\n",
        "plt.title('Training and validation loss')\n",
        "plt.legend()\n",
        "\n",
        "plt.show()"
      ]
    },
    {
      "cell_type": "code",
      "execution_count": 36,
      "metadata": {
        "id": "5iEUcT-yWtPl"
      },
      "outputs": [],
      "source": [
        "def load_and_predict(model, path):\n",
        "  '''\n",
        "  This function is used to generate the models predictions on test data\n",
        "\n",
        "  If you loaded your data in other way please change the function to produce your predictions correctly\n",
        "\n",
        "  If not, just run the cell\n",
        "  '''\n",
        "  test_generator = ImageDataGenerator(rescale=1. / 255)\n",
        "  path = \"./dataset\"\n",
        "  test_iterator = test_generator.flow_from_directory(\n",
        "        path,\n",
        "        target_size=(224, 224),\n",
        "        shuffle=False,\n",
        "        class_mode='categorical',\n",
        "        batch_size=1) \n",
        "\n",
        "  ids = []\n",
        "  for filename in test_iterator.filenames:\n",
        "    print(filename)\n",
        "    ids.append(filename)\n",
        "\n",
        "  predict_result = model.predict(test_iterator, steps=len(test_iterator.filenames))\n",
        "  predictions = []\n",
        "  for index, prediction in enumerate(predict_result):\n",
        "    classes = np.argmax(prediction)\n",
        "    predictions.append([ids[index], classes])\n",
        "  predictions.sort()\n",
        "\n",
        "  return predictions"
      ]
    },
    {
      "cell_type": "code",
      "execution_count": 37,
      "metadata": {
        "id": "JnnoIf87Yrau"
      },
      "outputs": [],
      "source": [
        "def store_prediction(model_path, test_data_path, result_path):\n",
        "  '''\n",
        "  A function to run the load and predict function\n",
        "\n",
        "  just run the cell\n",
        "  '''\n",
        "  model = keras.models.load_model(model_path, compile = True)\n",
        "\n",
        "  predictions = load_and_predict(model, test_data_path)\n",
        "\n",
        "  df = pd.DataFrame(data=predictions, columns=['image_id', 'label'])\n",
        "  df = df.set_index(['image_id'])\n",
        "\n",
        "  print(df.head())\n",
        "  print('Writing submission')\n",
        "  df.to_csv(result_path)"
      ]
    },
    {
      "cell_type": "code",
      "execution_count": 42,
      "metadata": {
        "id": "nQJQGX8JW60A"
      },
      "outputs": [],
      "source": [
        "store_prediction('./models/IranianCars/my_own_model.h5', './data/test/', './results.csv')"
      ]
    },
    {
      "cell_type": "markdown",
      "metadata": {
        "id": "DzosYT3jaWXY"
      },
      "source": [
        "Here your own CNN model implementation has done"
      ]
    },
    {
      "cell_type": "markdown",
      "metadata": {
        "id": "dmOU1p6KaVaP"
      },
      "source": [
        "## **Transfer learning from a pre-trained model**\n",
        "\n",
        "This implementation is as the same to the previous one except in the model creation and training sections\n",
        "\n",
        "So use the other ones for code simplicity "
      ]
    },
    {
      "cell_type": "code",
      "execution_count": 44,
      "metadata": {
        "id": "0wzy1GJsZ_Zs"
      },
      "outputs": [],
      "source": [
        "def create_cnn_model():\n",
        "  from keras.applications.mobilenet_v2 import MobileNetV2, preprocess_input\n",
        "  '''\n",
        "  In this function you need to implement a cnn model from pre-trained one\n",
        "\n",
        "  We recommand use the MobileNetV2 network\n",
        "\n",
        "  See the bellow link:\n",
        "\n",
        "  https://keras.io/api/applications/mobilenet/\n",
        "\n",
        "  don't forget to fine-tune the last layer\n",
        "\n",
        "  Use the imagenet weights\n",
        "\n",
        "  '''\n",
        "  #####################################\n",
        "  ##### Your implementation here ######    \n",
        "  added_model = MobileNetV2(\n",
        "    input_shape=(150, 150, 3),\n",
        "    include_top=False,\n",
        "    weights=\"imagenet\",\n",
        "    classes=5,\n",
        "    classifier_activation=\"softmax\"\n",
        "  )\n",
        "  \n",
        "  model = Sequential()\n",
        "  model.add(added_model)\n",
        "  model.add(Flatten())\n",
        "  model.add(Dense(128, activation='relu'))\n",
        "  model.add(Dense(5, activation='softmax'))\n",
        "\n",
        "  added_model.trainable = False\n",
        "  model.compile(\n",
        "    optimizer=Adam(learning_rate=1e-3),\n",
        "    loss=CategoricalCrossentropy(),\n",
        "    metrics=['accuracy']\n",
        "  )\n",
        "\n",
        "  #####################################\n",
        "  return model"
      ]
    },
    {
      "cell_type": "code",
      "execution_count": 45,
      "metadata": {
        "colab": {
          "base_uri": "https://localhost:8080/"
        },
        "id": "YRGQaUKOdOv3",
        "outputId": "66ec44fd-3975-42d9-c111-45109ffa9364"
      },
      "outputs": [
        {
          "name": "stderr",
          "output_type": "stream",
          "text": [
            "WARNING:tensorflow:`input_shape` is undefined or non-square, or `rows` is not in [96, 128, 160, 192, 224]. Weights for input shape (224, 224) will be loaded as the default.\n"
          ]
        },
        {
          "name": "stdout",
          "output_type": "stream",
          "text": [
            "Found 1680 images belonging to 5 classes.\n",
            "Found 209 images belonging to 5 classes.\n",
            "Downloading data from https://storage.googleapis.com/tensorflow/keras-applications/mobilenet_v2/mobilenet_v2_weights_tf_dim_ordering_tf_kernels_1.0_224_no_top.h5\n",
            "9406464/9406464 [==============================] - 0s 0us/step\n",
            "Epoch 1/50\n",
            "84/84 [==============================] - 68s 599ms/step - loss: 4.4422 - accuracy: 0.3131 - val_loss: 2.0129 - val_accuracy: 0.4450 - lr: 0.0010\n",
            "Epoch 2/50\n",
            "84/84 [==============================] - 48s 565ms/step - loss: 1.7329 - accuracy: 0.4958 - val_loss: 1.4128 - val_accuracy: 0.5359 - lr: 0.0010\n",
            "Epoch 3/50\n",
            "84/84 [==============================] - 48s 573ms/step - loss: 1.8751 - accuracy: 0.5024 - val_loss: 2.0335 - val_accuracy: 0.4450 - lr: 0.0010\n",
            "Epoch 4/50\n",
            "84/84 [==============================] - 47s 556ms/step - loss: 1.4540 - accuracy: 0.5542 - val_loss: 1.3660 - val_accuracy: 0.5598 - lr: 0.0010\n",
            "Epoch 5/50\n",
            "84/84 [==============================] - 48s 564ms/step - loss: 1.3128 - accuracy: 0.5869 - val_loss: 1.3402 - val_accuracy: 0.5263 - lr: 0.0010\n",
            "Epoch 6/50\n",
            "84/84 [==============================] - 48s 574ms/step - loss: 1.1393 - accuracy: 0.6083 - val_loss: 1.0968 - val_accuracy: 0.5742 - lr: 0.0010\n",
            "Epoch 7/50\n",
            "84/84 [==============================] - 47s 562ms/step - loss: 1.1287 - accuracy: 0.5935 - val_loss: 1.1677 - val_accuracy: 0.5742 - lr: 0.0010\n",
            "Epoch 8/50\n",
            "84/84 [==============================] - 47s 560ms/step - loss: 1.0268 - accuracy: 0.6560 - val_loss: 1.2996 - val_accuracy: 0.5455 - lr: 0.0010\n",
            "Epoch 9/50\n",
            "84/84 [==============================] - 48s 564ms/step - loss: 0.9354 - accuracy: 0.6571 - val_loss: 1.1096 - val_accuracy: 0.6124 - lr: 0.0010\n",
            "Epoch 10/50\n",
            "84/84 [==============================] - 50s 589ms/step - loss: 0.9589 - accuracy: 0.6524 - val_loss: 1.2262 - val_accuracy: 0.5981 - lr: 0.0010\n",
            "Epoch 11/50\n",
            "84/84 [==============================] - 47s 552ms/step - loss: 0.8790 - accuracy: 0.6738 - val_loss: 1.1117 - val_accuracy: 0.6220 - lr: 0.0010\n",
            "Epoch 12/50\n",
            "84/84 [==============================] - 48s 564ms/step - loss: 0.9030 - accuracy: 0.6601 - val_loss: 1.0600 - val_accuracy: 0.5646 - lr: 0.0010\n",
            "Epoch 13/50\n",
            "84/84 [==============================] - 47s 559ms/step - loss: 0.8405 - accuracy: 0.6970 - val_loss: 1.0924 - val_accuracy: 0.6268 - lr: 0.0010\n",
            "Epoch 14/50\n",
            "84/84 [==============================] - 46s 546ms/step - loss: 0.9624 - accuracy: 0.6530 - val_loss: 1.0353 - val_accuracy: 0.6077 - lr: 0.0010\n",
            "Epoch 15/50\n",
            "84/84 [==============================] - 46s 548ms/step - loss: 0.8513 - accuracy: 0.6827 - val_loss: 1.0362 - val_accuracy: 0.6172 - lr: 0.0010\n",
            "Epoch 16/50\n",
            "84/84 [==============================] - 47s 557ms/step - loss: 0.8612 - accuracy: 0.6833 - val_loss: 1.0816 - val_accuracy: 0.6220 - lr: 0.0010\n"
          ]
        }
      ],
      "source": [
        "## train the model but don't forget adapte the hyper-parameters\n",
        "\n",
        "history=train_model_naive_split()"
      ]
    },
    {
      "cell_type": "code",
      "execution_count": 46,
      "metadata": {
        "colab": {
          "base_uri": "https://localhost:8080/",
          "height": 545
        },
        "id": "AUNsb1LydmPx",
        "outputId": "5d88b5ff-98a2-4e59-a485-71c54cd56f42"
      },
      "outputs": [
        {
          "data": {
            "image/png": "[encoded data removed]",
            "text/plain": [
              "<Figure size 432x288 with 1 Axes>"
            ]
          },
          "metadata": {
            "needs_background": "light"
          },
          "output_type": "display_data"
        },
        {
          "data": {
            "image/png": "[encoded data removed]",
            "text/plain": [
              "<Figure size 432x288 with 1 Axes>"
            ]
          },
          "metadata": {
            "needs_background": "light"
          },
          "output_type": "display_data"
        }
      ],
      "source": [
        "acc = history.history['accuracy']\n",
        "val_acc = history.history['val_accuracy']\n",
        "loss = history.history['loss']\n",
        "val_loss = history.history['val_loss']\n",
        "\n",
        "epochs = range(len(acc))\n",
        "\n",
        "plt.plot(epochs, acc, 'r', label='Training accuracy')\n",
        "plt.plot(epochs, val_acc, 'b', label='Validation accuracy')\n",
        "plt.title('Training and validation accuracy')\n",
        "plt.legend()\n",
        "\n",
        "plt.figure()\n",
        "\n",
        "plt.plot(epochs, loss, 'r', label='Training Loss')\n",
        "plt.plot(epochs, val_loss, 'b', label='Validation Loss')\n",
        "plt.title('Training and validation loss')\n",
        "plt.legend()\n",
        "\n",
        "plt.show()"
      ]
    },
    {
      "cell_type": "code",
      "execution_count": null,
      "metadata": {
        "id": "VWJ3V90mdvoY"
      },
      "outputs": [],
      "source": [
        "store_prediction('./models/IranianCars/my_own_model.h5', './data/test/', './results.csv')"
      ]
    },
    {
      "cell_type": "markdown",
      "metadata": {
        "id": "jIKSfy8FQW-H"
      },
      "source": [
        "## **Grad-CAM**\n",
        "For some random images from different classes, show the heatmaps based on the grad-cam algorithm that you have learned."
      ]
    },
    {
      "cell_type": "code",
      "execution_count": 60,
      "metadata": {
        "id": "LBUsPAX6sUdA"
      },
      "outputs": [],
      "source": [
        "import matplotlib.cm as cm\n",
        "from keras.applications.mobilenet_v2 import MobileNetV2, preprocess_input"
      ]
    },
    {
      "cell_type": "code",
      "execution_count": 50,
      "metadata": {
        "colab": {
          "base_uri": "https://localhost:8080/"
        },
        "id": "3x7Ptp2JtqJi",
        "outputId": "5a87659b-08fe-4f9a-c4cc-a249e118923e"
      },
      "outputs": [
        {
          "data": {
            "text/plain": [
              "['saipa_saina', 'iranKhodro_dena', 'kia_cerato', 'mazda_3', 'peugeot_206']"
            ]
          },
          "execution_count": 50,
          "metadata": {},
          "output_type": "execute_result"
        }
      ],
      "source": [
        "labels = os.listdir(\"./dataset\")\n",
        "labels"
      ]
    },
    {
      "cell_type": "code",
      "execution_count": 61,
      "metadata": {
        "id": "zSzQETVi0FSG"
      },
      "outputs": [],
      "source": [
        "def get_img_array(img_path, size):\n",
        "    img = keras.preprocessing.image.load_img(img_path, target_size=(size))\n",
        "    array = keras.preprocessing.image.img_to_array(img)\n",
        "    array = np.expand_dims(array, axis=0)\n",
        "    return array"
      ]
    },
    {
      "cell_type": "code",
      "execution_count": 62,
      "metadata": {
        "id": "LxEYBbYPQf4R"
      },
      "outputs": [],
      "source": [
        "def make_gradcam_heatmap(img_array, model, last_conv_layer_name, pred_index=None):\n",
        "    grad_model = tf.keras.models.Model(\n",
        "        [model.inputs], [model.get_layer(last_conv_layer_name).output, model.output]\n",
        "    )\n",
        "\n",
        "    with tf.GradientTape() as tape:\n",
        "        last_conv_layer_output, preds = grad_model(img_array)\n",
        "        if pred_index is None:\n",
        "            pred_index = tf.argmax(preds[0])\n",
        "        class_channel = preds[:, pred_index]\n",
        "\n",
        "    grads = tape.gradient(class_channel, last_conv_layer_output)\n",
        "\n",
        "    pooled_grads = tf.reduce_mean(grads, axis=(0, 1, 2))\n",
        "\n",
        "    last_conv_layer_output = last_conv_layer_output[0]\n",
        "    heatmap = last_conv_layer_output @ pooled_grads[..., tf.newaxis]\n",
        "    heatmap = tf.squeeze(heatmap)\n",
        "\n",
        "    heatmap = tf.maximum(heatmap, 0) / tf.math.reduce_max(heatmap)\n",
        "    return heatmap.numpy()"
      ]
    },
    {
      "cell_type": "code",
      "execution_count": 63,
      "metadata": {
        "id": "UTHPTe2frU5e"
      },
      "outputs": [],
      "source": [
        "def make_superimposed(img_path, heatmap, cam_path, alpha=0.4):\n",
        "    img = keras.preprocessing.image.load_img(img_path)\n",
        "    img = keras.preprocessing.image.img_to_array(img)\n",
        "    \n",
        "    heatmap = np.uint8(255 * heatmap)\n",
        "\n",
        "    jet = cm.get_cmap(\"jet\")\n",
        "\n",
        "    jet_colors = jet(np.arange(256))[:, :3]\n",
        "    jet_heatmap = jet_colors[heatmap]\n",
        "\n",
        "    jet_heatmap = keras.preprocessing.image.array_to_img(jet_heatmap)\n",
        "    jet_heatmap = jet_heatmap.resize((img.shape[1], img.shape[0]))\n",
        "    jet_heatmap = keras.preprocessing.image.img_to_array(jet_heatmap)\n",
        "\n",
        "    superimposed_img = jet_heatmap * alpha + img\n",
        "    superimposed_img = keras.preprocessing.image.array_to_img(superimposed_img)\n",
        "\n",
        "    superimposed_img.save(cam_path)\n",
        "\n",
        "    image = cv2.imread(cam_path)\n",
        "    plt.imshow(image)"
      ]
    },
    {
      "cell_type": "code",
      "execution_count": 64,
      "metadata": {
        "id": "fPZNAdeV2DOy"
      },
      "outputs": [],
      "source": [
        "img_array = preprocess_input(get_img_array(\"./data/test/iranKhodro_dena/129.jpg\", size=(150,150)))\n",
        "model = create_cnn_model()\n",
        "model.layers[-1].activation = None\n",
        "heatmap = make_gradcam_heatmap(img_array, model, 'dense_15')\n",
        "make_superimposed(\"./data/test/iranKhodro_dena/129.jpg\", heatmap)"
      ]
    },
    {
      "cell_type": "code",
      "execution_count": 53,
      "metadata": {
        "id": "0ntQned-vFsF"
      },
      "outputs": [],
      "source": [
        "images=[]\n",
        "images.append(cv2.imread(\"./data/test/iranKhodro_dena/129.jpg\"))\n",
        "images.append(cv2.imread(\"./data/test/kia_cerato/100.jpg\"))\n",
        "images.append(cv2.imread(\"./data/test/mazda_3/105.jpg\"))\n",
        "images.append(cv2.imread(\"./data/test/peugeot_206/103.jpg\"))\n",
        "images.append(cv2.imread(\"./data/test/saipa_saina/114.jpg\"))"
      ]
    }
  ],
  "metadata": {
    "colab": {
      "provenance": []
    },
    "kernelspec": {
      "display_name": "Python 3",
      "language": "python",
      "name": "python3"
    },
    "language_info": {
      "name": "python",
      "version": "3.10.2 (tags/v3.10.2:a58ebcc, Jan 17 2022, 14:12:15) [MSC v.1929 64 bit (AMD64)]"
    },
    "vscode": {
      "interpreter": {
        "hash": "fb4569285eef3a3450cb62085a5b1e0da4bce0af555edc33dcf29baf3acc1368"
      }
    }
  },
  "nbformat": 4,
  "nbformat_minor": 0
}
