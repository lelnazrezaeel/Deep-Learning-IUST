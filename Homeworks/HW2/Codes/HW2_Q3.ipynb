{
  "cells": [
    {
      "cell_type": "markdown",
      "metadata": {
        "id": "9DGZ7qMLPM_J"
      },
      "source": [
        "## Import some prerequirement"
      ]
    },
    {
      "cell_type": "code",
      "execution_count": 1,
      "metadata": {
        "id": "uqz_Q2yROq1g"
      },
      "outputs": [],
      "source": [
        "import os\n",
        "import cv2\n",
        "import numpy as np\n",
        "import tensorflow as tf\n",
        "import matplotlib.pyplot as plt\n",
        "from tensorflow.keras.layers import Input, Flatten, Dense\n",
        "from tensorflow.keras.models import Model\n",
        "from tensorflow.keras.optimizers import SGD, Adam, RMSprop, Adagrad\n",
        "import datetime\n",
        "%load_ext tensorboard"
      ]
    },
    {
      "cell_type": "markdown",
      "metadata": {
        "id": "Da_-mxp7QdjB"
      },
      "source": [
        "## Set hyperparameters"
      ]
    },
    {
      "cell_type": "code",
      "execution_count": 2,
      "metadata": {
        "id": "zRlfdCizMcHG"
      },
      "outputs": [],
      "source": [
        "IMG_WIDTH = 28\n",
        "IMG_HEIGHT = 28\n",
        "EPOCHS = 5\n",
        "BATCH_SIZE= 64\n",
        "n_classes = 10"
      ]
    },
    {
      "cell_type": "markdown",
      "metadata": {
        "id": "pVp5VcJvc1C2"
      },
      "source": [
        "## Initialize train and test data"
      ]
    },
    {
      "cell_type": "code",
      "execution_count": 3,
      "metadata": {
        "id": "5x_C3sDuQmlt"
      },
      "outputs": [],
      "source": [
        "data = np.load('mnist.npz')\n",
        "[x_train, y_train, x_test, y_test] = data['x_train'], data['y_train'], data['x_test'], data['y_test']"
      ]
    },
    {
      "cell_type": "markdown",
      "metadata": {},
      "source": [
        "## Train shape"
      ]
    },
    {
      "cell_type": "code",
      "execution_count": 4,
      "metadata": {},
      "outputs": [
        {
          "name": "stdout",
          "output_type": "stream",
          "text": [
            "(60000, 28, 28)\n"
          ]
        }
      ],
      "source": [
        "print(x_train.shape)"
      ]
    },
    {
      "cell_type": "markdown",
      "metadata": {
        "id": "omseU3OQQs4K"
      },
      "source": [
        "## Show dataset"
      ]
    },
    {
      "cell_type": "code",
      "execution_count": 5,
      "metadata": {
        "id": "y1XvM-DaPYOG"
      },
      "outputs": [
        {
          "data": {
            "image/png": "[encoded data removed]",
            "text/plain": [
              "<Figure size 2500x400 with 8 Axes>"
            ]
          },
          "metadata": {},
          "output_type": "display_data"
        }
      ],
      "source": [
        "plt.figure(figsize=(25,4))\n",
        "for i in range(8):\n",
        "    plt.subplot(1,8,i+1)\n",
        "    plt.imshow(x_train[i], cmap='gray')\n",
        "    plt.xticks([])\n",
        "    plt.yticks([])\n",
        "    plt.title(y_train[i])"
      ]
    },
    {
      "cell_type": "markdown",
      "metadata": {
        "id": "VazcvGGRHjZu"
      },
      "source": [
        "## Define model"
      ]
    },
    {
      "cell_type": "code",
      "execution_count": 6,
      "metadata": {
        "id": "1TCJHBSUsLSS"
      },
      "outputs": [],
      "source": [
        "def build_model(input_shape, num_classes):\n",
        "  # Input Layer\n",
        "  input = Input(input_shape)\n",
        "  model = Flatten()(input)\n",
        "\n",
        "  # Hidden Layer\n",
        "  model = Dense(128, activation=\"relu\")(model)\n",
        "\n",
        "  # Output Layer\n",
        "  output = Dense(num_classes, activation=\"softmax\")(model)\n",
        "\n",
        "  return Model(inputs = input, outputs = output)"
      ]
    },
    {
      "cell_type": "markdown",
      "metadata": {
        "id": "X1QKfUHLKsJ5"
      },
      "source": [
        "## Compile and fit model for SGD optimizer"
      ]
    },
    {
      "cell_type": "code",
      "execution_count": 7,
      "metadata": {
        "id": "1yaeMNzsKxuz"
      },
      "outputs": [
        {
          "name": "stdout",
          "output_type": "stream",
          "text": [
            "Epoch 1/5\n",
            "750/750 [==============================] - 2s 2ms/step - loss: 16.9750 - accuracy: 0.3555 - val_loss: 1.5080 - val_accuracy: 0.4615\n",
            "Epoch 2/5\n",
            "750/750 [==============================] - 1s 1ms/step - loss: 1.5239 - accuracy: 0.4759 - val_loss: 1.3303 - val_accuracy: 0.5523\n",
            "Epoch 3/5\n",
            "750/750 [==============================] - 1s 2ms/step - loss: 1.3398 - accuracy: 0.5326 - val_loss: 1.5651 - val_accuracy: 0.5678\n",
            "Epoch 4/5\n",
            "750/750 [==============================] - 1s 2ms/step - loss: 1.4214 - accuracy: 0.4919 - val_loss: 1.2917 - val_accuracy: 0.5363\n",
            "Epoch 5/5\n",
            "750/750 [==============================] - 1s 2ms/step - loss: 1.2352 - accuracy: 0.5623 - val_loss: 1.1775 - val_accuracy: 0.5667\n"
          ]
        }
      ],
      "source": [
        "model_SGD = build_model(\n",
        "    input_shape= (IMG_WIDTH, IMG_HEIGHT),\n",
        "    num_classes= n_classes\n",
        ")\n",
        "# Compile model\n",
        "model_SGD.compile(\n",
        "    optimizer = SGD(learning_rate=0.01),\n",
        "    loss = \"sparse_categorical_crossentropy\",\n",
        "    metrics = ['accuracy']\n",
        ")\n",
        "log_dir = \"logs/fit/\" + datetime.datetime.now().strftime(\"%Y%m%d-%H%M%S\") \n",
        "tensorboard_callback = tf.keras.callbacks.TensorBoard(log_dir=log_dir, histogram_freq=1)\n",
        "# Fit model\n",
        "history = model_SGD.fit(\n",
        "    x = x_train,\n",
        "    y = y_train,\n",
        "    batch_size = BATCH_SIZE,\n",
        "    epochs = EPOCHS,\n",
        "    validation_split = 0.2,\n",
        "    callbacks=[tensorboard_callback]\n",
        ")"
      ]
    },
    {
      "cell_type": "markdown",
      "metadata": {},
      "source": [
        "## Compile and fit model for Adam optimizer"
      ]
    },
    {
      "cell_type": "code",
      "execution_count": 8,
      "metadata": {},
      "outputs": [
        {
          "name": "stdout",
          "output_type": "stream",
          "text": [
            "Epoch 1/5\n",
            "750/750 [==============================] - 2s 2ms/step - loss: 3.5014 - accuracy: 0.7477 - val_loss: 0.7195 - val_accuracy: 0.8361\n",
            "Epoch 2/5\n",
            "750/750 [==============================] - 2s 2ms/step - loss: 0.7179 - accuracy: 0.8166 - val_loss: 0.8555 - val_accuracy: 0.7304\n",
            "Epoch 3/5\n",
            "750/750 [==============================] - 2s 2ms/step - loss: 0.9132 - accuracy: 0.7546 - val_loss: 1.0434 - val_accuracy: 0.6694\n",
            "Epoch 4/5\n",
            "750/750 [==============================] - 1s 2ms/step - loss: 1.2547 - accuracy: 0.5901 - val_loss: 1.4569 - val_accuracy: 0.4604\n",
            "Epoch 5/5\n",
            "750/750 [==============================] - 1s 2ms/step - loss: 1.4844 - accuracy: 0.4779 - val_loss: 1.6009 - val_accuracy: 0.4684\n"
          ]
        }
      ],
      "source": [
        "model_Adam = build_model(\n",
        "    input_shape= (IMG_WIDTH, IMG_HEIGHT),\n",
        "    num_classes= n_classes\n",
        ")\n",
        "# Compile model\n",
        "model_Adam.compile(\n",
        "    optimizer = Adam(learning_rate=0.01),\n",
        "    loss = \"sparse_categorical_crossentropy\",\n",
        "    metrics = ['accuracy']\n",
        ")\n",
        "log_dir = \"logs/fit/\" + datetime.datetime.now().strftime(\"%Y%m%d-%H%M%S\") +\"/\"\n",
        "tensorboard_callback = tf.keras.callbacks.TensorBoard(log_dir=log_dir, histogram_freq=1)\n",
        "# Fit model\n",
        "history = model_Adam.fit(\n",
        "    x = x_train,\n",
        "    y = y_train,\n",
        "    batch_size = BATCH_SIZE,\n",
        "    epochs = EPOCHS,\n",
        "    validation_split = 0.2,\n",
        "    callbacks=[tensorboard_callback]\n",
        ")"
      ]
    },
    {
      "cell_type": "markdown",
      "metadata": {},
      "source": [
        "## Compile and fit model for RMSProp optimizer"
      ]
    },
    {
      "cell_type": "code",
      "execution_count": 9,
      "metadata": {},
      "outputs": [
        {
          "name": "stdout",
          "output_type": "stream",
          "text": [
            "Epoch 1/5\n",
            "750/750 [==============================] - 2s 2ms/step - loss: 8.1932 - accuracy: 0.6443 - val_loss: 1.2899 - val_accuracy: 0.6850\n",
            "Epoch 2/5\n",
            "750/750 [==============================] - 1s 2ms/step - loss: 1.4492 - accuracy: 0.7059 - val_loss: 1.2154 - val_accuracy: 0.6877\n",
            "Epoch 3/5\n",
            "750/750 [==============================] - 2s 2ms/step - loss: 1.4700 - accuracy: 0.7104 - val_loss: 1.5658 - val_accuracy: 0.7218\n",
            "Epoch 4/5\n",
            "750/750 [==============================] - 1s 2ms/step - loss: 1.5154 - accuracy: 0.7050 - val_loss: 1.3991 - val_accuracy: 0.7263\n",
            "Epoch 5/5\n",
            "750/750 [==============================] - 2s 2ms/step - loss: 1.4106 - accuracy: 0.7090 - val_loss: 1.7323 - val_accuracy: 0.7176\n"
          ]
        }
      ],
      "source": [
        "model_RMSProp = build_model(\n",
        "    input_shape= (IMG_WIDTH, IMG_HEIGHT),\n",
        "    num_classes= n_classes\n",
        ")\n",
        "# Compile model\n",
        "model_RMSProp.compile(\n",
        "    optimizer = RMSprop(learning_rate=0.01),\n",
        "    loss = \"sparse_categorical_crossentropy\",\n",
        "    metrics = ['accuracy']\n",
        ")\n",
        "log_dir = \"logs/fit/\" + datetime.datetime.now().strftime(\"%Y%m%d-%H%M%S\") +\"/\"\n",
        "tensorboard_callback = tf.keras.callbacks.TensorBoard(log_dir=log_dir, histogram_freq=1)\n",
        "# Fit model\n",
        "history = model_RMSProp.fit(\n",
        "    x = x_train,\n",
        "    y = y_train,\n",
        "    batch_size = BATCH_SIZE,\n",
        "    epochs = EPOCHS,\n",
        "    validation_split = 0.2,\n",
        "    callbacks=[tensorboard_callback]\n",
        ")"
      ]
    },
    {
      "cell_type": "markdown",
      "metadata": {},
      "source": [
        "## Compile and fit model for AdaGrad optimizer"
      ]
    },
    {
      "cell_type": "code",
      "execution_count": 10,
      "metadata": {},
      "outputs": [
        {
          "name": "stdout",
          "output_type": "stream",
          "text": [
            "Epoch 1/5\n",
            "750/750 [==============================] - 2s 2ms/step - loss: 4.3525 - accuracy: 0.8569 - val_loss: 1.1206 - val_accuracy: 0.8879\n",
            "Epoch 2/5\n",
            "750/750 [==============================] - 2s 2ms/step - loss: 0.8413 - accuracy: 0.8988 - val_loss: 0.8565 - val_accuracy: 0.8988\n",
            "Epoch 3/5\n",
            "750/750 [==============================] - 1s 2ms/step - loss: 0.5475 - accuracy: 0.9145 - val_loss: 0.7281 - val_accuracy: 0.9048\n",
            "Epoch 4/5\n",
            "750/750 [==============================] - 1s 2ms/step - loss: 0.4071 - accuracy: 0.9267 - val_loss: 0.6525 - val_accuracy: 0.9079\n",
            "Epoch 5/5\n",
            "750/750 [==============================] - 1s 2ms/step - loss: 0.3298 - accuracy: 0.9345 - val_loss: 0.6069 - val_accuracy: 0.9148\n"
          ]
        }
      ],
      "source": [
        "model_AdaGrad = build_model(\n",
        "    input_shape= (IMG_WIDTH, IMG_HEIGHT),\n",
        "    num_classes= n_classes\n",
        ")\n",
        "# Compile model\n",
        "model_AdaGrad.compile(\n",
        "    optimizer = Adagrad(learning_rate=0.01),\n",
        "    loss = \"sparse_categorical_crossentropy\",\n",
        "    metrics = ['accuracy']\n",
        ")\n",
        "log_dir = \"logs/fit/\" + datetime.datetime.now().strftime(\"%Y%m%d-%H%M%S\") +\"/\"\n",
        "tensorboard_callback = tf.keras.callbacks.TensorBoard(log_dir=log_dir, histogram_freq=1)\n",
        "# Fit model\n",
        "history = model_AdaGrad.fit(\n",
        "    x = x_train,\n",
        "    y = y_train,\n",
        "    batch_size = BATCH_SIZE,\n",
        "    epochs = EPOCHS,\n",
        "    validation_split = 0.2,\n",
        "    callbacks=[tensorboard_callback]\n",
        ")"
      ]
    },
    {
      "cell_type": "markdown",
      "metadata": {
        "id": "y6hFEj66HnQL"
      },
      "source": [
        "## Load and compile best model"
      ]
    },
    {
      "cell_type": "code",
      "execution_count": 68,
      "metadata": {
        "id": "WGMIz6WGHiNM"
      },
      "outputs": [],
      "source": [
        "# load best model\n",
        "best_model = model_AdaGrad\n",
        "# compile best model\n",
        "best_model.compile(\n",
        "    optimizer = Adagrad(learning_rate=0.01),\n",
        "    loss = \"sparse_categorical_crossentropy\",\n",
        "    metrics = ['accuracy']\n",
        ")"
      ]
    },
    {
      "cell_type": "markdown",
      "metadata": {
        "id": "Ya1E9pHzLOBG"
      },
      "source": [
        "## Evaluate best model"
      ]
    },
    {
      "cell_type": "code",
      "execution_count": 71,
      "metadata": {
        "id": "1iJYPtFXHMFb"
      },
      "outputs": [
        {
          "name": "stdout",
          "output_type": "stream",
          "text": [
            "938/938 [==============================] - 1s 735us/step - loss: 2.3012 - accuracy: 0.1124\n",
            "157/157 [==============================] - 0s 772us/step - loss: 2.3034 - accuracy: 0.1136\n",
            "Train evaluation is:  [2.301168441772461, 0.11236666887998581]\n",
            "Test evaluation is:  [2.3033528327941895, 0.1136000007390976]\n"
          ]
        }
      ],
      "source": [
        "# evaluate best model\n",
        "train_evaluate = best_model.evaluate(x_train, y_train, batch_size=BATCH_SIZE)\n",
        "test_evaluate = best_model.evaluate(x_test, y_test, batch_size=BATCH_SIZE)\n",
        "print(\"Train evaluation is: \", train_evaluate)\n",
        "print(\"Test evaluation is: \", test_evaluate)"
      ]
    },
    {
      "cell_type": "markdown",
      "metadata": {
        "id": "J8gdZX4QIN3i"
      },
      "source": [
        "## Get Reports"
      ]
    },
    {
      "cell_type": "code",
      "execution_count": 63,
      "metadata": {
        "id": "_rXoX8ybIQnQ"
      },
      "outputs": [],
      "source": [
        "# get report of metrics\n",
        "from sklearn.metrics import classification_report, confusion_matrix\n"
      ]
    }
  ],
  "metadata": {
    "accelerator": "GPU",
    "colab": {
      "provenance": [],
      "toc_visible": true
    },
    "kernelspec": {
      "display_name": "Python 3.10.2 64-bit",
      "language": "python",
      "name": "python3"
    },
    "language_info": {
      "codemirror_mode": {
        "name": "ipython",
        "version": 3
      },
      "file_extension": ".py",
      "mimetype": "text/x-python",
      "name": "python",
      "nbconvert_exporter": "python",
      "pygments_lexer": "ipython3",
      "version": "3.10.2"
    },
    "vscode": {
      "interpreter": {
        "hash": "fb4569285eef3a3450cb62085a5b1e0da4bce0af555edc33dcf29baf3acc1368"
      }
    }
  },
  "nbformat": 4,
  "nbformat_minor": 0
}
