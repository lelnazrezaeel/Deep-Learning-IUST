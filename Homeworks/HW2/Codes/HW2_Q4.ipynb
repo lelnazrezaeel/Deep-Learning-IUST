{
  "cells": [
    {
      "cell_type": "markdown",
      "metadata": {
        "id": "GrFpZXNQB9FW"
      },
      "source": [
        "#### Copyright 2018 Google LLC."
      ]
    },
    {
      "cell_type": "code",
      "execution_count": null,
      "metadata": {
        "id": "43_9Kh8LCDPK"
      },
      "outputs": [],
      "source": [
        "# Licensed under the Apache License, Version 2.0 (the \"License\");\n",
        "# you may not use this file except in compliance with the License.\n",
        "# You may obtain a copy of the License at\n",
        "#\n",
        "# https://www.apache.org/licenses/LICENSE-2.0\n",
        "#\n",
        "# Unless required by applicable law or agreed to in writing, software\n",
        "# distributed under the License is distributed on an \"AS IS\" BASIS,\n",
        "# WITHOUT WARRANTIES OR CONDITIONS OF ANY KIND, either express or implied.\n",
        "# See the License for the specific language governing permissions and\n",
        "# limitations under the License."
      ]
    },
    {
      "cell_type": "markdown",
      "metadata": {
        "id": "YHK6DyunSbs4"
      },
      "source": [
        "# Cat vs. Dog Image Classification\n"
      ]
    },
    {
      "cell_type": "code",
      "execution_count": 63,
      "metadata": {
        "id": "xvnAdS6YFTQZ"
      },
      "outputs": [],
      "source": [
        "## Set These Parameters\n",
        "last_layer_neurons = 2\n",
        "last_layer_activation = 'sigmoid'\n",
        "loss_function = 'binary_crossentropy'"
      ]
    },
    {
      "cell_type": "code",
      "execution_count": 23,
      "metadata": {
        "id": "XK-IN_zNgLlT"
      },
      "outputs": [],
      "source": [
        "from tensorflow.keras.preprocessing.image import ImageDataGenerator\n",
        "\n",
        "datagen = ImageDataGenerator(\n",
        "      rotation_range=40,\n",
        "      width_shift_range=0.2,\n",
        "      height_shift_range=0.2,\n",
        "      shear_range=0.2,\n",
        "      zoom_range=0.2,\n",
        "      horizontal_flip=True,\n",
        "      fill_mode='nearest')"
      ]
    },
    {
      "cell_type": "code",
      "execution_count": 24,
      "metadata": {
        "id": "dhztKtUSFMXp",
        "colab": {
          "base_uri": "https://localhost:8080/"
        },
        "outputId": "a2f012eb-5da1-4262-8b44-da1cc26218e0"
      },
      "outputs": [
        {
          "output_type": "stream",
          "name": "stdout",
          "text": [
            "--2022-11-11 13:38:58--  https://storage.googleapis.com/mledu-datasets/cats_and_dogs_filtered.zip\n",
            "Resolving storage.googleapis.com (storage.googleapis.com)... 142.250.4.128, 74.125.24.128, 172.217.194.128, ...\n",
            "Connecting to storage.googleapis.com (storage.googleapis.com)|142.250.4.128|:443... connected.\n",
            "HTTP request sent, awaiting response... 200 OK\n",
            "Length: 68606236 (65M) [application/zip]\n",
            "Saving to: ‘/tmp/cats_and_dogs_filtered.zip’\n",
            "\n",
            "/tmp/cats_and_dogs_ 100%[===================>]  65.43M  16.2MB/s    in 5.7s    \n",
            "\n",
            "2022-11-11 13:39:04 (11.5 MB/s) - ‘/tmp/cats_and_dogs_filtered.zip’ saved [68606236/68606236]\n",
            "\n"
          ]
        }
      ],
      "source": [
        "!wget --no-check-certificate \\\n",
        "   https://storage.googleapis.com/mledu-datasets/cats_and_dogs_filtered.zip -O \\\n",
        "   /tmp/cats_and_dogs_filtered.zip"
      ]
    },
    {
      "cell_type": "code",
      "execution_count": 47,
      "metadata": {
        "id": "LWkSRoJRfvGL"
      },
      "outputs": [],
      "source": [
        "import os\n",
        "import zipfile\n",
        "\n",
        "local_zip = '/tmp/cats_and_dogs_filtered.zip'\n",
        "zip_ref = zipfile.ZipFile(local_zip, 'r')\n",
        "zip_ref.extractall('/tmp')\n",
        "zip_ref.close()\n",
        "  \n",
        "base_dir = '/tmp/cats_and_dogs_filtered'\n",
        "train_dir = os.path.join(base_dir, 'train')\n",
        "validation_dir = os.path.join(base_dir, 'validation')\n",
        "\n",
        "# Directory with our training cat pictures\n",
        "train_cats_dir = os.path.join(train_dir, 'cats')\n",
        "\n",
        "# Directory with our training dog pictures\n",
        "train_dogs_dir = os.path.join(train_dir, 'dogs')\n",
        "\n",
        "# Directory with our validation cat pictures\n",
        "validation_cats_dir = os.path.join(validation_dir, 'cats')\n",
        "\n",
        "# Directory with our validation dog pictures\n",
        "validation_dogs_dir = os.path.join(validation_dir, 'dogs')\n",
        "\n",
        "train_cat_fnames = os.listdir(train_cats_dir)\n",
        "train_dog_fnames = os.listdir(train_dogs_dir)"
      ]
    },
    {
      "cell_type": "markdown",
      "metadata": {
        "id": "02r1oXaegECk"
      },
      "source": [
        "Next, let's apply the `datagen` transformations to a cat image from the training set to produce five random variants. Rerun the cell a few times to see fresh batches of random variants."
      ]
    },
    {
      "cell_type": "code",
      "execution_count": 64,
      "metadata": {
        "id": "e8HgwcAbmdcu",
        "colab": {
          "base_uri": "https://localhost:8080/"
        },
        "outputId": "322cfcb0-54bc-4ef0-ad89-0225d2a20cb9"
      },
      "outputs": [
        {
          "output_type": "stream",
          "name": "stdout",
          "text": [
            "Found 2000 images belonging to 2 classes.\n",
            "Found 1000 images belonging to 2 classes.\n"
          ]
        }
      ],
      "source": [
        "# Adding rescale, rotation_range, width_shift_range, height_shift_range,\n",
        "# shear_range, zoom_range, and horizontal flip to our ImageDataGenerator\n",
        "train_datagen = ImageDataGenerator(\n",
        "    rescale=1./255,\n",
        "    rotation_range=20,\n",
        "    width_shift_range=0.1,\n",
        "    height_shift_range=0.1,\n",
        "    # shear_range=0.2,\n",
        "    # zoom_range=0.2,\n",
        "    horizontal_flip=True,)\n",
        "\n",
        "# Note that the validation data should not be augmented!\n",
        "val_datagen = ImageDataGenerator(rescale=1./255)\n",
        "\n",
        "#\n",
        "class_mode = 'binary' if last_layer_neurons == 1 else 'categorical'\n",
        "\n",
        "# Flow training images in batches of 32 using train_datagen generator\n",
        "train_generator = train_datagen.flow_from_directory(\n",
        "        train_dir,  # This is the source directory for training images\n",
        "        target_size=(150, 150),  # All images will be resized to 150x150\n",
        "        batch_size=20,\n",
        "        # Since we use binary_crossentropy loss, we need binary labels\n",
        "        class_mode=class_mode)\n",
        "\n",
        "# Flow validation images in batches of 32 using val_datagen generator\n",
        "validation_generator = val_datagen.flow_from_directory(\n",
        "        validation_dir,\n",
        "        target_size=(150, 150),\n",
        "        batch_size=20,\n",
        "        class_mode=class_mode)"
      ]
    },
    {
      "cell_type": "markdown",
      "metadata": {
        "id": "K-3PrfDwDJjB"
      },
      "source": [
        "If we train a new network using this data augmentation configuration, our network will never see the same input twice. However the inputs that it sees are still heavily intercorrelated, so this might not be quite enough to completely get rid of overfitting."
      ]
    },
    {
      "cell_type": "markdown",
      "metadata": {
        "id": "lYguAfH3gyv6"
      },
      "source": [
        "## Building a Small ConvNet\n"
      ]
    },
    {
      "cell_type": "code",
      "execution_count": 65,
      "metadata": {
        "id": "SVC4FgxiDje6"
      },
      "outputs": [],
      "source": [
        "from tensorflow.keras import layers\n",
        "from tensorflow.keras import Model\n",
        "from tensorflow.keras import optimizers\n",
        "\n",
        "# Our input feature map is 150x150x3: 150x150 for the image pixels, and 3 for\n",
        "# the three color channels: R, G, and B\n",
        "img_input = layers.Input(shape=(150, 150, 3))\n",
        "\n",
        "# First convolution extracts 32 filters that are 3x3\n",
        "# Convolution is followed by max-pooling layer with a 2x2 window\n",
        "x = layers.Conv2D(32, 3, activation='relu')(img_input) \n",
        "x = layers.MaxPooling2D(2)(x)\n",
        "\n",
        "# Second convolution extracts 64 filters that are 3x3\n",
        "# Convolution is followed by max-pooling layer with a 2x2 window\n",
        "x = layers.Conv2D(64, 3, activation='relu')(x) \n",
        "x = layers.MaxPooling2D(2)(x)\n",
        "\n",
        "# Third convolution extracts 128 filters that are 3x3\n",
        "# Convolution is followed by max-pooling layer with a 2x2 window\n",
        "x = layers.Convolution2D(128, 3, activation='relu')(x) \n",
        "x = layers.MaxPooling2D(2)(x)\n",
        "\n",
        "# Flatten feature map to a 1-dim tensor\n",
        "x = layers.Flatten()(x)\n",
        "\n",
        "# Create a fully connected layer with ReLU activation and 512 hidden units\n",
        "x = layers.Dense(512, activation='relu')(x) \n",
        "\n",
        "# Add a dropout rate of 0.5\n",
        "x = layers.Dropout(0.2)(x)\n",
        "\n",
        "# add output layer\n",
        "output = layers.Dense(last_layer_neurons, activation=last_layer_activation)(x)\n",
        "\n",
        "# Configure and compile the model\n",
        "model = Model(img_input, output)\n",
        "model.compile(loss=loss_function,\n",
        "              optimizer=optimizers.RMSprop(lr=1e-3),\n",
        "              metrics=['acc'])"
      ]
    },
    {
      "cell_type": "code",
      "execution_count": 66,
      "metadata": {
        "cellView": "code",
        "id": "SdW6geEVi2S8",
        "colab": {
          "base_uri": "https://localhost:8080/"
        },
        "outputId": "5cc0d054-7257-485b-d265-714948a33e65"
      },
      "outputs": [
        {
          "output_type": "stream",
          "name": "stdout",
          "text": [
            "Epoch 1/50\n",
            "100/100 [==============================] - 19s 182ms/step - loss: 0.9924 - acc: 0.5210 - val_loss: 0.6828 - val_acc: 0.5510\n",
            "Epoch 2/50\n",
            "100/100 [==============================] - 17s 172ms/step - loss: 0.7072 - acc: 0.5685 - val_loss: 0.6421 - val_acc: 0.6490\n",
            "Epoch 3/50\n",
            "100/100 [==============================] - 17s 173ms/step - loss: 0.6653 - acc: 0.6255 - val_loss: 0.6544 - val_acc: 0.6150\n",
            "Epoch 4/50\n",
            "100/100 [==============================] - 17s 172ms/step - loss: 0.6290 - acc: 0.6655 - val_loss: 0.6412 - val_acc: 0.6390\n",
            "Epoch 5/50\n",
            "100/100 [==============================] - 17s 173ms/step - loss: 0.6042 - acc: 0.6890 - val_loss: 0.5601 - val_acc: 0.7160\n",
            "Epoch 6/50\n",
            "100/100 [==============================] - 17s 172ms/step - loss: 0.5867 - acc: 0.6795 - val_loss: 0.5615 - val_acc: 0.7140\n",
            "Epoch 7/50\n",
            "100/100 [==============================] - 17s 171ms/step - loss: 0.5788 - acc: 0.7050 - val_loss: 0.5562 - val_acc: 0.7090\n",
            "Epoch 8/50\n",
            "100/100 [==============================] - 17s 170ms/step - loss: 0.5619 - acc: 0.7155 - val_loss: 0.5495 - val_acc: 0.7170\n",
            "Epoch 9/50\n",
            "100/100 [==============================] - 17s 172ms/step - loss: 0.5491 - acc: 0.7295 - val_loss: 0.5272 - val_acc: 0.7280\n",
            "Epoch 10/50\n",
            "100/100 [==============================] - 17s 172ms/step - loss: 0.5490 - acc: 0.7200 - val_loss: 0.5472 - val_acc: 0.7230\n",
            "Epoch 11/50\n",
            "100/100 [==============================] - 17s 171ms/step - loss: 0.5483 - acc: 0.7285 - val_loss: 0.5573 - val_acc: 0.7240\n",
            "Epoch 12/50\n",
            "100/100 [==============================] - 17s 174ms/step - loss: 0.5183 - acc: 0.7445 - val_loss: 0.5558 - val_acc: 0.7330\n",
            "Epoch 13/50\n",
            "100/100 [==============================] - 17s 171ms/step - loss: 0.5254 - acc: 0.7515 - val_loss: 0.6543 - val_acc: 0.7020\n",
            "Epoch 14/50\n",
            "100/100 [==============================] - 17s 171ms/step - loss: 0.5136 - acc: 0.7650 - val_loss: 0.4979 - val_acc: 0.7640\n",
            "Epoch 15/50\n",
            "100/100 [==============================] - 17s 171ms/step - loss: 0.4970 - acc: 0.7645 - val_loss: 0.7087 - val_acc: 0.6530\n",
            "Epoch 16/50\n",
            "100/100 [==============================] - 17s 173ms/step - loss: 0.4957 - acc: 0.7695 - val_loss: 0.5479 - val_acc: 0.7370\n",
            "Epoch 17/50\n",
            "100/100 [==============================] - 18s 175ms/step - loss: 0.4612 - acc: 0.7900 - val_loss: 0.5950 - val_acc: 0.7290\n",
            "Epoch 18/50\n",
            "100/100 [==============================] - 17s 171ms/step - loss: 0.4923 - acc: 0.7740 - val_loss: 0.4729 - val_acc: 0.7800\n",
            "Epoch 19/50\n",
            "100/100 [==============================] - 17s 172ms/step - loss: 0.4729 - acc: 0.7800 - val_loss: 0.4927 - val_acc: 0.7730\n",
            "Epoch 20/50\n",
            "100/100 [==============================] - 17s 173ms/step - loss: 0.4566 - acc: 0.7910 - val_loss: 0.6052 - val_acc: 0.7070\n",
            "Epoch 21/50\n",
            "100/100 [==============================] - 17s 172ms/step - loss: 0.4485 - acc: 0.7945 - val_loss: 0.4773 - val_acc: 0.7820\n",
            "Epoch 22/50\n",
            "100/100 [==============================] - 17s 173ms/step - loss: 0.4455 - acc: 0.7895 - val_loss: 0.6630 - val_acc: 0.7380\n",
            "Epoch 23/50\n",
            "100/100 [==============================] - 17s 173ms/step - loss: 0.4361 - acc: 0.8110 - val_loss: 0.5001 - val_acc: 0.7850\n",
            "Epoch 24/50\n",
            "100/100 [==============================] - 17s 171ms/step - loss: 0.4270 - acc: 0.8035 - val_loss: 0.6047 - val_acc: 0.7660\n",
            "Epoch 25/50\n",
            "100/100 [==============================] - 17s 171ms/step - loss: 0.4389 - acc: 0.8080 - val_loss: 0.4768 - val_acc: 0.7700\n",
            "Epoch 26/50\n",
            "100/100 [==============================] - 17s 173ms/step - loss: 0.4140 - acc: 0.8075 - val_loss: 0.4903 - val_acc: 0.7870\n",
            "Epoch 27/50\n",
            "100/100 [==============================] - 17s 172ms/step - loss: 0.4163 - acc: 0.8165 - val_loss: 0.4648 - val_acc: 0.7970\n",
            "Epoch 28/50\n",
            "100/100 [==============================] - 17s 171ms/step - loss: 0.4199 - acc: 0.8180 - val_loss: 0.4739 - val_acc: 0.7900\n",
            "Epoch 29/50\n",
            "100/100 [==============================] - 17s 172ms/step - loss: 0.4221 - acc: 0.8195 - val_loss: 0.4972 - val_acc: 0.7630\n",
            "Epoch 30/50\n",
            "100/100 [==============================] - 17s 172ms/step - loss: 0.4138 - acc: 0.8165 - val_loss: 0.5229 - val_acc: 0.7710\n",
            "Epoch 31/50\n",
            "100/100 [==============================] - 17s 171ms/step - loss: 0.4062 - acc: 0.8235 - val_loss: 0.4477 - val_acc: 0.7850\n",
            "Epoch 32/50\n",
            "100/100 [==============================] - 17s 171ms/step - loss: 0.4165 - acc: 0.8205 - val_loss: 0.5467 - val_acc: 0.7900\n",
            "Epoch 33/50\n",
            "100/100 [==============================] - 17s 171ms/step - loss: 0.4101 - acc: 0.8295 - val_loss: 0.4760 - val_acc: 0.7900\n",
            "Epoch 34/50\n",
            "100/100 [==============================] - 18s 181ms/step - loss: 0.3977 - acc: 0.8300 - val_loss: 0.4509 - val_acc: 0.7990\n",
            "Epoch 35/50\n",
            "100/100 [==============================] - 17s 170ms/step - loss: 0.3991 - acc: 0.8280 - val_loss: 0.4705 - val_acc: 0.7850\n",
            "Epoch 36/50\n",
            "100/100 [==============================] - 17s 170ms/step - loss: 0.4002 - acc: 0.8250 - val_loss: 0.4703 - val_acc: 0.8030\n",
            "Epoch 37/50\n",
            "100/100 [==============================] - 17s 171ms/step - loss: 0.3715 - acc: 0.8335 - val_loss: 1.2379 - val_acc: 0.7140\n",
            "Epoch 38/50\n",
            "100/100 [==============================] - 17s 169ms/step - loss: 0.3905 - acc: 0.8385 - val_loss: 0.4743 - val_acc: 0.7970\n",
            "Epoch 39/50\n",
            "100/100 [==============================] - 17s 169ms/step - loss: 0.4141 - acc: 0.8305 - val_loss: 0.4611 - val_acc: 0.8010\n",
            "Epoch 40/50\n",
            "100/100 [==============================] - 17s 172ms/step - loss: 0.3908 - acc: 0.8305 - val_loss: 0.5194 - val_acc: 0.7980\n",
            "Epoch 41/50\n",
            "100/100 [==============================] - 17s 169ms/step - loss: 0.3908 - acc: 0.8365 - val_loss: 0.4538 - val_acc: 0.7970\n",
            "Epoch 42/50\n",
            "100/100 [==============================] - 17s 169ms/step - loss: 0.3947 - acc: 0.8350 - val_loss: 0.5614 - val_acc: 0.8080\n",
            "Epoch 43/50\n",
            "100/100 [==============================] - 17s 169ms/step - loss: 0.3930 - acc: 0.8415 - val_loss: 0.4547 - val_acc: 0.7860\n",
            "Epoch 44/50\n",
            "100/100 [==============================] - 17s 170ms/step - loss: 0.3908 - acc: 0.8345 - val_loss: 0.4750 - val_acc: 0.7920\n",
            "Epoch 45/50\n",
            "100/100 [==============================] - 17s 169ms/step - loss: 0.3798 - acc: 0.8375 - val_loss: 0.5287 - val_acc: 0.7590\n",
            "Epoch 46/50\n",
            "100/100 [==============================] - 17s 171ms/step - loss: 0.3850 - acc: 0.8310 - val_loss: 0.6397 - val_acc: 0.7780\n",
            "Epoch 47/50\n",
            "100/100 [==============================] - 17s 169ms/step - loss: 0.3955 - acc: 0.8375 - val_loss: 0.4702 - val_acc: 0.7910\n",
            "Epoch 48/50\n",
            "100/100 [==============================] - 17s 170ms/step - loss: 0.3888 - acc: 0.8320 - val_loss: 0.5202 - val_acc: 0.8190\n",
            "Epoch 49/50\n",
            "100/100 [==============================] - 17s 170ms/step - loss: 0.3962 - acc: 0.8430 - val_loss: 0.6041 - val_acc: 0.7620\n",
            "Epoch 50/50\n",
            "100/100 [==============================] - 18s 178ms/step - loss: 0.3735 - acc: 0.8420 - val_loss: 0.4524 - val_acc: 0.8170\n"
          ]
        }
      ],
      "source": [
        "history = model.fit(\n",
        "      train_generator,\n",
        "      epochs=50,\n",
        "      validation_data=validation_generator,\n",
        "      verbose=1)"
      ]
    },
    {
      "cell_type": "markdown",
      "metadata": {
        "id": "1LTWMLV6SUvP"
      },
      "source": [
        "Note that with data augmentation in place, the 2,000 training images are randomly transformed each time a new training epoch runs, which means that the model will never see the same image twice during training."
      ]
    },
    {
      "cell_type": "markdown",
      "metadata": {
        "id": "IZqvC9UJlWc2"
      },
      "source": [
        "## Evaluate the Results\n",
        "\n",
        "Let's evaluate the results of model training with data augmentation and dropout:"
      ]
    },
    {
      "cell_type": "code",
      "execution_count": 67,
      "metadata": {
        "id": "NKCjHegASXaA",
        "colab": {
          "base_uri": "https://localhost:8080/",
          "height": 563
        },
        "outputId": "b4b6ad59-fdfe-4293-c8b4-24a71ee061e8"
      },
      "outputs": [
        {
          "output_type": "execute_result",
          "data": {
            "text/plain": [
              "Text(0.5, 1.0, 'Training and validation loss')"
            ]
          },
          "metadata": {},
          "execution_count": 67
        },
        {
          "output_type": "display_data",
          "data": {
            "text/plain": [
              "<Figure size 432x288 with 1 Axes>"
            ],
            "image/png": "[encoded data removed]"
          },
          "metadata": {
            "needs_background": "light"
          }
        },
        {
          "output_type": "display_data",
          "data": {
            "text/plain": [
              "<Figure size 432x288 with 1 Axes>"
            ],
            "image/png": "[encoded data removed]"
          },
          "metadata": {
            "needs_background": "light"
          }
        }
      ],
      "source": [
        "from matplotlib import pyplot as plt\n",
        "\n",
        "# Retrieve a list of accuracy results on training and validation data\n",
        "# sets for each training epoch\n",
        "acc = history.history['acc']\n",
        "val_acc = history.history['val_acc']\n",
        "\n",
        "# Retrieve a list of list results on training and validation data\n",
        "# sets for each training epoch\n",
        "loss = history.history['loss']\n",
        "val_loss = history.history['val_loss']\n",
        "\n",
        "# Get number of epochs\n",
        "epochs = range(len(acc))\n",
        "\n",
        "# Plot training and validation accuracy per epoch\n",
        "plt.plot(epochs, acc)\n",
        "plt.plot(epochs, val_acc)\n",
        "plt.title('Training and validation accuracy')\n",
        "\n",
        "plt.figure()\n",
        "\n",
        "# Plot training and validation loss per epoch\n",
        "plt.plot(epochs, loss)\n",
        "plt.plot(epochs, val_loss)\n",
        "plt.title('Training and validation loss')"
      ]
    }
  ],
  "metadata": {
    "accelerator": "GPU",
    "colab": {
      "collapsed_sections": [
        "GrFpZXNQB9FW"
      ],
      "provenance": []
    },
    "kernelspec": {
      "display_name": "Python 3.10.2 64-bit",
      "language": "python",
      "name": "python3"
    },
    "language_info": {
      "codemirror_mode": {
        "name": "ipython",
        "version": 3
      },
      "file_extension": ".py",
      "mimetype": "text/x-python",
      "name": "python",
      "nbconvert_exporter": "python",
      "pygments_lexer": "ipython3",
      "version": "3.10.2"
    },
    "vscode": {
      "interpreter": {
        "hash": "fb4569285eef3a3450cb62085a5b1e0da4bce0af555edc33dcf29baf3acc1368"
      }
    }
  },
  "nbformat": 4,
  "nbformat_minor": 0
}