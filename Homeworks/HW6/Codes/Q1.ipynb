{
  "nbformat": 4,
  "nbformat_minor": 0,
  "metadata": {
    "colab": {
      "provenance": []
    },
    "kernelspec": {
      "name": "python3",
      "display_name": "Python 3"
    },
    "language_info": {
      "name": "python"
    }
  },
  "cells": [
    {
      "cell_type": "code",
      "execution_count": 1,
      "metadata": {
        "id": "32O5QjDPPiho"
      },
      "outputs": [],
      "source": [
        "import numpy as np"
      ]
    },
    {
      "cell_type": "markdown",
      "source": [
        "#<font color=\"cyan\">Input</font>"
      ],
      "metadata": {
        "id": "OavdU3e3Q8f7"
      }
    },
    {
      "cell_type": "code",
      "source": [
        "x = np.array([[20, 17, 32, 42, 65],\n",
        "              [13, 65, 96, 53, 21],\n",
        "              [45, 63, 74, 38, 64],\n",
        "              [23, 76, 40, 34, 26],\n",
        "              [14, 66, 78, 49, 23]])"
      ],
      "metadata": {
        "id": "Y-aB6sMiROln"
      },
      "execution_count": 2,
      "outputs": []
    },
    {
      "cell_type": "markdown",
      "source": [
        "#<font color=\"orange\">Batch Noramlization</font>"
      ],
      "metadata": {
        "id": "VipC21XiQdgU"
      }
    },
    {
      "cell_type": "code",
      "source": [
        "mean = x.mean(axis=0)\n",
        "var = x.var(axis=0)\n",
        "std = np.sqrt(var)\n",
        "batch_noramlization = (x - mean) / std\n",
        "np.set_printoptions(precision=2)\n",
        "print(\"Batch Normalization : \\n\", batch_noramlization)"
      ],
      "metadata": {
        "colab": {
          "base_uri": "https://localhost:8080/"
        },
        "id": "yOvoE43GRtvn",
        "outputId": "a16b9c49-ae35-4d44-a891-7255ed885bc3"
      },
      "execution_count": 9,
      "outputs": [
        {
          "output_type": "stream",
          "name": "stdout",
          "text": [
            "Batch Normalization : \n",
            " [[-0.26 -1.95 -1.32 -0.17  1.25]\n",
            " [-0.86  0.37  1.32  1.41 -0.93]\n",
            " [ 1.89  0.27  0.41 -0.75  1.2 ]\n",
            " [ 0.    0.9  -0.99 -1.32 -0.68]\n",
            " [-0.78  0.42  0.58  0.83 -0.83]]\n"
          ]
        }
      ]
    },
    {
      "cell_type": "markdown",
      "source": [
        "#<font color=\"orange\">Layer Noramlization</font>"
      ],
      "metadata": {
        "id": "4uObx7IOX-Ws"
      }
    },
    {
      "cell_type": "code",
      "source": [
        "mean = x.mean(axis=1)\n",
        "var = x.var(axis=1)\n",
        "std = np.sqrt(var)\n",
        "layer_noramlization = (x - mean) / std\n",
        "np.set_printoptions(precision=2)\n",
        "print(\"Layer Normalization : \\n\", layer_noramlization)"
      ],
      "metadata": {
        "id": "6WMkUB9qYBsf",
        "outputId": "e52898ad-769e-425f-966d-3110f11bffe3",
        "colab": {
          "base_uri": "https://localhost:8080/"
        }
      },
      "execution_count": 10,
      "outputs": [
        {
          "output_type": "stream",
          "name": "stdout",
          "text": [
            "Layer Normalization : \n",
            " [[-0.88 -1.08 -1.87  0.12  0.78]\n",
            " [-1.28  0.51  2.96  0.69 -1.02]\n",
            " [ 0.56  0.44  1.3  -0.09  0.74]\n",
            " [-0.7   0.87 -1.27 -0.3  -0.82]\n",
            " [-1.22  0.54  1.6   0.48 -0.94]]\n"
          ]
        }
      ]
    }
  ]
}