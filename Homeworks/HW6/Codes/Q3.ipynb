{
  "cells": [
    {
      "cell_type": "code",
      "execution_count": 4,
      "metadata": {
        "id": "zmxo2g4QGjOh"
      },
      "outputs": [],
      "source": [
        "import cv2\n",
        "import numpy as np\n",
        "import random\n",
        "from matplotlib import pyplot as plt\n",
        "from tensorflow import keras\n",
        "from tensorflow.keras.utils import to_categorical\n",
        "from tensorflow.keras import Model, Sequential\n",
        "from tensorflow.keras.layers import Input, Flatten, Activation, Dense, Dropout, BatchNormalization, Conv2D, MaxPool2D\n",
        "from tensorflow.keras.optimizers import Adam\n",
        "from tensorflow.keras.losses import CategoricalCrossentropy"
      ]
    },
    {
      "cell_type": "markdown",
      "metadata": {
        "id": "bSXHDbbZLHZ0"
      },
      "source": [
        "# prepare data"
      ]
    },
    {
      "cell_type": "code",
      "execution_count": 5,
      "metadata": {
        "colab": {
          "base_uri": "https://localhost:8080/"
        },
        "id": "9-gUZ9ZwLHEH",
        "outputId": "efc6345f-a35b-41b8-be6e-edc5ef8cdcbd"
      },
      "outputs": [
        {
          "name": "stdout",
          "output_type": "stream",
          "text": [
            "Downloading data from https://www.cs.toronto.edu/~kriz/cifar-10-python.tar.gz\n",
            "170498071/170498071 [==============================] - 14s 0us/step\n"
          ]
        },
        {
          "name": "stderr",
          "output_type": "stream",
          "text": [
            "<ipython-input-5-1db45bc5de0d>:6: DeprecationWarning: `np.bool` is a deprecated alias for the builtin `bool`. To silence this warning, use `bool` by itself. Doing this will not modify any behavior and is safe. If you specifically wanted the numpy scalar type, use `np.bool_` here.\n",
            "Deprecated in NumPy 1.20; for more details and guidance: https://numpy.org/devdocs/release/1.20.0-notes.html#deprecations\n",
            "  unlabeld_index = np.ones(y_train.shape, np.bool)\n"
          ]
        }
      ],
      "source": [
        "(x_train, y_train), (x_test, y_test) = keras.datasets.cifar10.load_data()\n",
        "\n",
        "x_train = x_train / 255.0\n",
        "x_test = x_test / 255.0\n",
        "\n",
        "unlabeld_index = np.ones(y_train.shape, np.bool)\n",
        "\n",
        "N = 20\n",
        "for i in range(10):\n",
        "  idx = np.where(y_train == i)[0][:N]\n",
        "  unlabeld_index[idx] = 0\n",
        "\n",
        "x_unlabeld = x_train[np.where(unlabeld_index)[0], ...]\n",
        "\n",
        "x_train = x_train[np.where(~unlabeld_index)[0], ...]\n",
        "y_train = y_train[np.where(~unlabeld_index)[0], ...]"
      ]
    },
    {
      "cell_type": "markdown",
      "metadata": {
        "id": "pYDI-yTH9Tbf"
      },
      "source": [
        "#**<font color=#c94ce6>Define hyperparameters</font>**"
      ]
    },
    {
      "cell_type": "code",
      "execution_count": 6,
      "metadata": {
        "id": "ntX0MNA-9ZF_"
      },
      "outputs": [],
      "source": [
        "INPUT_SHAPE = x_train.shape[1:]\n",
        "EPOCHS = 50\n",
        "BATCH_SIZE = 32\n",
        "NUM_CLASSES = 10"
      ]
    },
    {
      "cell_type": "markdown",
      "metadata": {
        "id": "SCt_88rcAciX"
      },
      "source": [
        "#**<font color=#4589ad>Make y_train and y-test categorical</font>**"
      ]
    },
    {
      "cell_type": "code",
      "execution_count": 7,
      "metadata": {
        "id": "hedTZxlQAWOb"
      },
      "outputs": [],
      "source": [
        "y_train = to_categorical(y_train, num_classes=NUM_CLASSES)\n",
        "y_test = to_categorical(y_test, num_classes=NUM_CLASSES)"
      ]
    },
    {
      "cell_type": "code",
      "execution_count": 8,
      "metadata": {
        "colab": {
          "base_uri": "https://localhost:8080/"
        },
        "id": "AdM1DXorH9eJ",
        "outputId": "2d909ff2-ebde-43c3-fcde-96a953403911"
      },
      "outputs": [
        {
          "name": "stdout",
          "output_type": "stream",
          "text": [
            "0.051293306\n",
            "0.0\n",
            "0.0\n"
          ]
        }
      ],
      "source": [
        "# examples of categorical crossentropy\n",
        "cce = keras.losses.CategoricalCrossentropy()\n",
        "\n",
        "# a labeled data from the second class\n",
        "y_true = [[0, 1, 0, 0]]\n",
        "y_pred = [[0.05, 0.95, 0, 0]]\n",
        "print(cce(y_true, y_pred).numpy())\n",
        "\n",
        "# an ulabeled data\n",
        "y_true = [[0, 0, 0, 0]]\n",
        "y_pred = [[0.05, 0.95, 0, 0]]\n",
        "print(cce(y_true, y_pred).numpy())\n",
        "\n",
        "# another ulabeled data\n",
        "y_true = [[0, 0, 0, 0]]\n",
        "y_pred = [[0.1, 0.4, 0.3, 0.2]]\n",
        "print(cce(y_true, y_pred).numpy())"
      ]
    },
    {
      "cell_type": "markdown",
      "metadata": {
        "id": "17fUr5vf8gQd"
      },
      "source": [
        "#**<font color=\"orange\">Define model</font>**"
      ]
    },
    {
      "cell_type": "code",
      "execution_count": 9,
      "metadata": {
        "id": "rnoxNe4U8f5f"
      },
      "outputs": [],
      "source": [
        "def model_maker(input_shape=INPUT_SHAPE):\n",
        "  inputs = Input(shape=(input_shape))\n",
        "  x = Conv2D(32, (3, 3), activation='relu')(inputs)\n",
        "  x = BatchNormalization(axis=-1)(x)\n",
        "  x = MaxPool2D(pool_size=(3, 3))(x)\n",
        "  x = Dropout(rate=0.25)(x)\n",
        "\n",
        "  x = Conv2D(64, (3, 3), activation='relu')(x)\n",
        "  x = BatchNormalization(axis=-1)(x)\n",
        "  x = MaxPool2D(pool_size=(2, 2))(x)\n",
        "  x = Dropout(rate=0.25)(x)\n",
        "\n",
        "  x = Conv2D(128, (3, 3), activation='relu')(x)\n",
        "  x = BatchNormalization(axis=-1)(x)\n",
        "  x = MaxPool2D(pool_size=(2, 2))(x)\n",
        "  x = Dropout(rate=0.25)(x)\n",
        "\n",
        "  x = Flatten()(x)\n",
        "  x = Dense(1024, activation='relu')(x)\n",
        "  x = BatchNormalization()(x)\n",
        "  output = Dropout(rate=0.5)(x)\n",
        "\n",
        "  model = Model(inputs=inputs, outputs=output, name='base')\n",
        "  return model"
      ]
    },
    {
      "cell_type": "code",
      "execution_count": 10,
      "metadata": {
        "colab": {
          "base_uri": "https://localhost:8080/"
        },
        "id": "0SCniTpsJNWg",
        "outputId": "7d98a5d2-510d-4c21-cfef-36ae7d54feb9"
      },
      "outputs": [
        {
          "name": "stdout",
          "output_type": "stream",
          "text": [
            "Model: \"base\"\n",
            "_________________________________________________________________\n",
            " Layer (type)                Output Shape              Param #   \n",
            "=================================================================\n",
            " input_1 (InputLayer)        [(None, 32, 32, 3)]       0         \n",
            "                                                                 \n",
            " conv2d (Conv2D)             (None, 30, 30, 32)        896       \n",
            "                                                                 \n",
            " batch_normalization (BatchN  (None, 30, 30, 32)       128       \n",
            " ormalization)                                                   \n",
            "                                                                 \n",
            " max_pooling2d (MaxPooling2D  (None, 10, 10, 32)       0         \n",
            " )                                                               \n",
            "                                                                 \n",
            " dropout (Dropout)           (None, 10, 10, 32)        0         \n",
            "                                                                 \n",
            " conv2d_1 (Conv2D)           (None, 8, 8, 64)          18496     \n",
            "                                                                 \n",
            " batch_normalization_1 (Batc  (None, 8, 8, 64)         256       \n",
            " hNormalization)                                                 \n",
            "                                                                 \n",
            " max_pooling2d_1 (MaxPooling  (None, 4, 4, 64)         0         \n",
            " 2D)                                                             \n",
            "                                                                 \n",
            " dropout_1 (Dropout)         (None, 4, 4, 64)          0         \n",
            "                                                                 \n",
            " conv2d_2 (Conv2D)           (None, 2, 2, 128)         73856     \n",
            "                                                                 \n",
            " batch_normalization_2 (Batc  (None, 2, 2, 128)        512       \n",
            " hNormalization)                                                 \n",
            "                                                                 \n",
            " max_pooling2d_2 (MaxPooling  (None, 1, 1, 128)        0         \n",
            " 2D)                                                             \n",
            "                                                                 \n",
            " dropout_2 (Dropout)         (None, 1, 1, 128)         0         \n",
            "                                                                 \n",
            " flatten (Flatten)           (None, 128)               0         \n",
            "                                                                 \n",
            " dense (Dense)               (None, 1024)              132096    \n",
            "                                                                 \n",
            " batch_normalization_3 (Batc  (None, 1024)             4096      \n",
            " hNormalization)                                                 \n",
            "                                                                 \n",
            " dropout_3 (Dropout)         (None, 1024)              0         \n",
            "                                                                 \n",
            "=================================================================\n",
            "Total params: 230,336\n",
            "Trainable params: 227,840\n",
            "Non-trainable params: 2,496\n",
            "_________________________________________________________________\n"
          ]
        }
      ],
      "source": [
        "model_maker().summary()"
      ]
    },
    {
      "cell_type": "markdown",
      "metadata": {
        "id": "CiuZFMP8K-RR"
      },
      "source": [
        "#**<font color=#e32929>Define plot function</font>**"
      ]
    },
    {
      "cell_type": "code",
      "execution_count": 11,
      "metadata": {
        "id": "FqoImCOPLJN7"
      },
      "outputs": [],
      "source": [
        "def plot(history, title):\n",
        "  acc = history.history['accuracy']\n",
        "  val_acc = history.history['val_accuracy']\n",
        "  loss = history.history['loss']\n",
        "  val_loss = history.history['val_loss']\n",
        "\n",
        "  fig, (ax1, ax2) = plt.subplots(1, 2)\n",
        "  fig.tight_layout(pad=4)\n",
        "  fig.suptitle(title)\n",
        "\n",
        "  ax1.set_title('Accuracy')\n",
        "  ax1.plot(acc)\n",
        "  ax1.plot(val_acc)\n",
        "  ax1.set_ylabel('accuracy')\n",
        "  ax1.set_xlabel('epoch')\n",
        "  ax1.legend(['training', 'validation'], loc='lower right')\n",
        "\n",
        "  ax2.set_title('Loss')\n",
        "  ax2.plot(loss)\n",
        "  ax2.plot(val_loss)\n",
        "  ax2.set_ylabel('loss')\n",
        "  ax2.set_xlabel('epoch')\n",
        "  ax2.legend(['training', 'validation'], loc='upper right')\n",
        "\n",
        "  fig.show()"
      ]
    },
    {
      "cell_type": "markdown",
      "metadata": {
        "id": "F3an5zKu4gfZ"
      },
      "source": [
        "#**<font color=\"cyan\">Q3.A</font>**"
      ]
    },
    {
      "cell_type": "code",
      "execution_count": 12,
      "metadata": {
        "id": "rL29jUt_5qeT"
      },
      "outputs": [],
      "source": [
        "base_model = model_maker()\n",
        "model_1 = Sequential()\n",
        "model_1.add(base_model)\n",
        "model_1.add(Dense(units=10, activation='softmax'))"
      ]
    },
    {
      "cell_type": "markdown",
      "metadata": {
        "id": "DQ1GW5FOMUbH"
      },
      "source": [
        "##**<font color=#d0f002>Q3.A) Compile model</font>**"
      ]
    },
    {
      "cell_type": "code",
      "execution_count": 13,
      "metadata": {
        "colab": {
          "base_uri": "https://localhost:8080/"
        },
        "id": "-KQPEoz6MjJG",
        "outputId": "4bb2cf33-f3d3-4265-b343-ab2baa90cd3f"
      },
      "outputs": [
        {
          "name": "stdout",
          "output_type": "stream",
          "text": [
            "Model: \"sequential\"\n",
            "_________________________________________________________________\n",
            " Layer (type)                Output Shape              Param #   \n",
            "=================================================================\n",
            " base (Functional)           (None, 1024)              230336    \n",
            "                                                                 \n",
            " dense_2 (Dense)             (None, 10)                10250     \n",
            "                                                                 \n",
            "=================================================================\n",
            "Total params: 240,586\n",
            "Trainable params: 238,090\n",
            "Non-trainable params: 2,496\n",
            "_________________________________________________________________\n"
          ]
        }
      ],
      "source": [
        "model_1.compile(\n",
        "  optimizer=Adam(0.001),\n",
        "  loss=CategoricalCrossentropy(),\n",
        "  metrics=['accuracy'],\n",
        ")\n",
        "model_1.summary()"
      ]
    },
    {
      "cell_type": "markdown",
      "metadata": {
        "id": "lhIW80UXP7zK"
      },
      "source": [
        "##**<font color=#d0f002>Q3.A) Fit model</font>**"
      ]
    },
    {
      "cell_type": "code",
      "execution_count": 14,
      "metadata": {
        "colab": {
          "base_uri": "https://localhost:8080/"
        },
        "id": "gRGEUI2pQAut",
        "outputId": "f7cba236-d061-4b35-eb65-35efbc2bad43"
      },
      "outputs": [
        {
          "name": "stdout",
          "output_type": "stream",
          "text": [
            "Epoch 1/50\n",
            "7/7 - 11s - loss: 3.5385 - accuracy: 0.1150 - val_loss: 2.2961 - val_accuracy: 0.1375 - 11s/epoch - 2s/step\n",
            "Epoch 2/50\n",
            "7/7 - 1s - loss: 2.7972 - accuracy: 0.1950 - val_loss: 2.2904 - val_accuracy: 0.1556 - 849ms/epoch - 121ms/step\n",
            "Epoch 3/50\n",
            "7/7 - 1s - loss: 2.7748 - accuracy: 0.2250 - val_loss: 2.2915 - val_accuracy: 0.1046 - 832ms/epoch - 119ms/step\n",
            "Epoch 4/50\n",
            "7/7 - 1s - loss: 2.4352 - accuracy: 0.3000 - val_loss: 2.3025 - val_accuracy: 0.1002 - 884ms/epoch - 126ms/step\n",
            "Epoch 5/50\n",
            "7/7 - 1s - loss: 2.3834 - accuracy: 0.3500 - val_loss: 2.3219 - val_accuracy: 0.1000 - 1s/epoch - 188ms/step\n",
            "Epoch 6/50\n",
            "7/7 - 1s - loss: 2.2764 - accuracy: 0.2950 - val_loss: 2.3430 - val_accuracy: 0.1000 - 851ms/epoch - 122ms/step\n",
            "Epoch 7/50\n",
            "7/7 - 1s - loss: 2.1960 - accuracy: 0.3750 - val_loss: 2.3652 - val_accuracy: 0.1008 - 859ms/epoch - 123ms/step\n",
            "Epoch 8/50\n",
            "7/7 - 1s - loss: 2.3269 - accuracy: 0.3150 - val_loss: 2.3966 - val_accuracy: 0.1011 - 860ms/epoch - 123ms/step\n",
            "Epoch 9/50\n",
            "7/7 - 1s - loss: 2.0494 - accuracy: 0.3950 - val_loss: 2.4164 - val_accuracy: 0.1258 - 1s/epoch - 189ms/step\n",
            "Epoch 10/50\n",
            "7/7 - 1s - loss: 2.1647 - accuracy: 0.3900 - val_loss: 2.4537 - val_accuracy: 0.1002 - 871ms/epoch - 124ms/step\n",
            "Epoch 11/50\n",
            "7/7 - 1s - loss: 1.8003 - accuracy: 0.4700 - val_loss: 2.5298 - val_accuracy: 0.1003 - 1s/epoch - 188ms/step\n",
            "Epoch 12/50\n",
            "7/7 - 1s - loss: 1.8686 - accuracy: 0.4550 - val_loss: 2.6496 - val_accuracy: 0.1000 - 866ms/epoch - 124ms/step\n",
            "Epoch 13/50\n",
            "7/7 - 1s - loss: 1.7823 - accuracy: 0.4100 - val_loss: 2.7108 - val_accuracy: 0.1006 - 1s/epoch - 187ms/step\n",
            "Epoch 14/50\n",
            "7/7 - 1s - loss: 1.8738 - accuracy: 0.4300 - val_loss: 2.7119 - val_accuracy: 0.1031 - 1s/epoch - 189ms/step\n",
            "Epoch 15/50\n",
            "7/7 - 1s - loss: 1.6025 - accuracy: 0.4600 - val_loss: 2.7346 - val_accuracy: 0.1100 - 891ms/epoch - 127ms/step\n",
            "Epoch 16/50\n",
            "7/7 - 1s - loss: 1.7773 - accuracy: 0.4300 - val_loss: 2.8769 - val_accuracy: 0.1005 - 1s/epoch - 188ms/step\n",
            "Epoch 17/50\n",
            "7/7 - 1s - loss: 1.6301 - accuracy: 0.4650 - val_loss: 2.9621 - val_accuracy: 0.1043 - 863ms/epoch - 123ms/step\n",
            "Epoch 18/50\n",
            "7/7 - 1s - loss: 1.6723 - accuracy: 0.4450 - val_loss: 2.9880 - val_accuracy: 0.1203 - 1s/epoch - 188ms/step\n",
            "Epoch 19/50\n",
            "7/7 - 1s - loss: 1.4868 - accuracy: 0.5250 - val_loss: 3.0420 - val_accuracy: 0.1042 - 1s/epoch - 188ms/step\n",
            "Epoch 20/50\n",
            "7/7 - 1s - loss: 1.2912 - accuracy: 0.5250 - val_loss: 3.0771 - val_accuracy: 0.1100 - 871ms/epoch - 124ms/step\n",
            "Epoch 21/50\n",
            "7/7 - 1s - loss: 1.2859 - accuracy: 0.5800 - val_loss: 3.1172 - val_accuracy: 0.1106 - 905ms/epoch - 129ms/step\n",
            "Epoch 22/50\n",
            "7/7 - 1s - loss: 1.1796 - accuracy: 0.5850 - val_loss: 3.1675 - val_accuracy: 0.1129 - 1s/epoch - 187ms/step\n",
            "Epoch 23/50\n",
            "7/7 - 1s - loss: 1.2364 - accuracy: 0.5800 - val_loss: 3.2565 - val_accuracy: 0.1105 - 1s/epoch - 188ms/step\n",
            "Epoch 24/50\n",
            "7/7 - 1s - loss: 1.0697 - accuracy: 0.6100 - val_loss: 3.5014 - val_accuracy: 0.1009 - 1s/epoch - 188ms/step\n",
            "Epoch 25/50\n",
            "7/7 - 1s - loss: 1.1863 - accuracy: 0.5950 - val_loss: 3.7569 - val_accuracy: 0.1008 - 844ms/epoch - 121ms/step\n",
            "Epoch 26/50\n",
            "7/7 - 1s - loss: 1.0752 - accuracy: 0.6700 - val_loss: 3.7553 - val_accuracy: 0.1076 - 1s/epoch - 188ms/step\n",
            "Epoch 27/50\n",
            "7/7 - 1s - loss: 1.0855 - accuracy: 0.6150 - val_loss: 3.6531 - val_accuracy: 0.1030 - 1s/epoch - 188ms/step\n",
            "Epoch 28/50\n",
            "7/7 - 1s - loss: 1.2637 - accuracy: 0.6450 - val_loss: 3.6395 - val_accuracy: 0.1040 - 1s/epoch - 189ms/step\n",
            "Epoch 29/50\n",
            "7/7 - 1s - loss: 1.0102 - accuracy: 0.6500 - val_loss: 3.6740 - val_accuracy: 0.1052 - 883ms/epoch - 126ms/step\n",
            "Epoch 30/50\n",
            "7/7 - 1s - loss: 1.0757 - accuracy: 0.6050 - val_loss: 3.8056 - val_accuracy: 0.1047 - 842ms/epoch - 120ms/step\n",
            "Epoch 31/50\n",
            "7/7 - 1s - loss: 0.9243 - accuracy: 0.6850 - val_loss: 4.0650 - val_accuracy: 0.1037 - 864ms/epoch - 123ms/step\n",
            "Epoch 32/50\n",
            "7/7 - 1s - loss: 1.0914 - accuracy: 0.6100 - val_loss: 4.2372 - val_accuracy: 0.1041 - 861ms/epoch - 123ms/step\n",
            "Epoch 33/50\n",
            "7/7 - 1s - loss: 0.8882 - accuracy: 0.7100 - val_loss: 4.1862 - val_accuracy: 0.1083 - 863ms/epoch - 123ms/step\n",
            "Epoch 34/50\n",
            "7/7 - 1s - loss: 0.7991 - accuracy: 0.6900 - val_loss: 4.3696 - val_accuracy: 0.1061 - 867ms/epoch - 124ms/step\n",
            "Epoch 35/50\n",
            "7/7 - 1s - loss: 0.9185 - accuracy: 0.7100 - val_loss: 4.2519 - val_accuracy: 0.1082 - 1s/epoch - 188ms/step\n",
            "Epoch 36/50\n",
            "7/7 - 1s - loss: 0.8674 - accuracy: 0.6850 - val_loss: 4.3198 - val_accuracy: 0.1135 - 863ms/epoch - 123ms/step\n",
            "Epoch 37/50\n",
            "7/7 - 1s - loss: 0.8648 - accuracy: 0.7050 - val_loss: 4.8798 - val_accuracy: 0.1096 - 870ms/epoch - 124ms/step\n",
            "Epoch 38/50\n",
            "7/7 - 1s - loss: 0.7700 - accuracy: 0.7550 - val_loss: 5.1465 - val_accuracy: 0.1112 - 1s/epoch - 188ms/step\n",
            "Epoch 39/50\n",
            "7/7 - 1s - loss: 0.6255 - accuracy: 0.7800 - val_loss: 4.6354 - val_accuracy: 0.1267 - 1s/epoch - 188ms/step\n",
            "Epoch 40/50\n",
            "7/7 - 1s - loss: 0.6990 - accuracy: 0.7350 - val_loss: 4.3996 - val_accuracy: 0.1323 - 1s/epoch - 195ms/step\n",
            "Epoch 41/50\n",
            "7/7 - 1s - loss: 0.5739 - accuracy: 0.7800 - val_loss: 4.2049 - val_accuracy: 0.1426 - 1s/epoch - 194ms/step\n",
            "Epoch 42/50\n",
            "7/7 - 1s - loss: 0.6044 - accuracy: 0.8000 - val_loss: 4.5677 - val_accuracy: 0.1497 - 1s/epoch - 192ms/step\n",
            "Epoch 43/50\n",
            "7/7 - 1s - loss: 0.7031 - accuracy: 0.7800 - val_loss: 4.8801 - val_accuracy: 0.1244 - 1s/epoch - 188ms/step\n",
            "Epoch 44/50\n",
            "7/7 - 1s - loss: 0.5457 - accuracy: 0.8000 - val_loss: 5.0714 - val_accuracy: 0.1181 - 872ms/epoch - 125ms/step\n",
            "Epoch 45/50\n",
            "7/7 - 1s - loss: 0.5837 - accuracy: 0.7950 - val_loss: 5.1086 - val_accuracy: 0.1126 - 857ms/epoch - 122ms/step\n",
            "Epoch 46/50\n",
            "7/7 - 1s - loss: 0.7143 - accuracy: 0.7450 - val_loss: 5.2026 - val_accuracy: 0.1136 - 870ms/epoch - 124ms/step\n",
            "Epoch 47/50\n",
            "7/7 - 1s - loss: 0.6088 - accuracy: 0.8050 - val_loss: 5.2373 - val_accuracy: 0.1164 - 1s/epoch - 188ms/step\n",
            "Epoch 48/50\n",
            "7/7 - 1s - loss: 0.6006 - accuracy: 0.7800 - val_loss: 5.2538 - val_accuracy: 0.1209 - 873ms/epoch - 125ms/step\n",
            "Epoch 49/50\n",
            "7/7 - 1s - loss: 0.6188 - accuracy: 0.8050 - val_loss: 5.4273 - val_accuracy: 0.1228 - 872ms/epoch - 125ms/step\n",
            "Epoch 50/50\n",
            "7/7 - 1s - loss: 0.5861 - accuracy: 0.8100 - val_loss: 5.4459 - val_accuracy: 0.1207 - 864ms/epoch - 123ms/step\n"
          ]
        }
      ],
      "source": [
        "history = model_1.fit(\n",
        "  x_train, y_train,\n",
        "  batch_size=BATCH_SIZE,\n",
        "  epochs=EPOCHS,\n",
        "  validation_data=[x_test, y_test],\n",
        "  verbose=2\n",
        ")"
      ]
    },
    {
      "cell_type": "markdown",
      "metadata": {
        "id": "xOlKLAZ-SLgP"
      },
      "source": [
        "##**<font color=#d0f002>Q3.A) Plot results</font>**"
      ]
    },
    {
      "cell_type": "code",
      "execution_count": 15,
      "metadata": {
        "colab": {
          "base_uri": "https://localhost:8080/",
          "height": 287
        },
        "id": "OJpNblPsSOs2",
        "outputId": "6c0a8aed-ad7b-41e7-ca9f-7ad9010acb85"
      },
      "outputs": [
        {
          "data": {
            "image/png": "[encoded data removed]",
            "text/plain": [
              "<Figure size 432x288 with 2 Axes>"
            ]
          },
          "metadata": {
            "needs_background": "light"
          },
          "output_type": "display_data"
        }
      ],
      "source": [
        "plot(history, \"Model 1\")"
      ]
    },
    {
      "attachments": {},
      "cell_type": "markdown",
      "metadata": {
        "id": "wc0vIJjSUvze"
      },
      "source": [
        "#**<font color=\"cyan\">Q3.B</font>**"
      ]
    },
    {
      "cell_type": "code",
      "execution_count": 16,
      "metadata": {
        "id": "BbsUN7Z9U0nK"
      },
      "outputs": [],
      "source": [
        "x_train_rotated = np.zeros_like(x_unlabeld)\n",
        "y_train_rotated = np.zeros((x_unlabeld.shape[0], 4))"
      ]
    },
    {
      "cell_type": "code",
      "execution_count": 17,
      "metadata": {
        "colab": {
          "base_uri": "https://localhost:8080/",
          "height": 284
        },
        "id": "jqHCyqSrivDR",
        "outputId": "5d23a280-d280-4189-b02b-f31928dce3a4"
      },
      "outputs": [
        {
          "name": "stdout",
          "output_type": "stream",
          "text": [
            "[0. 0. 0. 1.]\n"
          ]
        },
        {
          "data": {
            "image/png": "[encoded data removed]",
            "text/plain": [
              "<Figure size 432x288 with 1 Axes>"
            ]
          },
          "metadata": {
            "needs_background": "light"
          },
          "output_type": "display_data"
        }
      ],
      "source": [
        "labels = [0, 1, 2, 3]\n",
        "\n",
        "for i in range(x_train_rotated.shape[0]):\n",
        "  label = random.choices(labels, weights=[1, 3, 3, 3], k=1)[0]\n",
        "  if (label == 0):\n",
        "    rotated_image = x_unlabeld[i]\n",
        "  elif (label == 1):\n",
        "    rotated_image = np.rot90(x_unlabeld[i])\n",
        "  elif (label == 2):\n",
        "    rotated_image = np.rot90(np.rot90(x_unlabeld[i]))\n",
        "  else:\n",
        "    rotated_image = np.rot90(np.rot90(np.rot90(x_unlabeld[i])))\n",
        "  x_train_rotated[i] = rotated_image\n",
        "  y_train_rotated[i] = to_categorical(label, num_classes=4)\n",
        "\n",
        "plt.imshow(x_train_rotated[4], interpolation='nearest')\n",
        "print(y_train_rotated[4])\n",
        "plt.show()"
      ]
    },
    {
      "cell_type": "code",
      "execution_count": 18,
      "metadata": {
        "id": "lL0sCjZY4W-S"
      },
      "outputs": [],
      "source": [
        "base_model = model_maker()\n",
        "model_test = Sequential()\n",
        "model_test.add(base_model)\n",
        "model_test.add(Dense(units=4, activation='softmax'))"
      ]
    },
    {
      "cell_type": "markdown",
      "metadata": {
        "id": "JheacQXt4uYS"
      },
      "source": [
        "##**<font color=#d0f002>Q3.B) Compile test model</font>**"
      ]
    },
    {
      "cell_type": "code",
      "execution_count": 19,
      "metadata": {
        "colab": {
          "base_uri": "https://localhost:8080/"
        },
        "id": "mPBtcxaD40cm",
        "outputId": "9b3169a3-c862-4c8e-bb02-c023f8fc7153"
      },
      "outputs": [
        {
          "name": "stdout",
          "output_type": "stream",
          "text": [
            "Model: \"sequential\"\n",
            "_________________________________________________________________\n",
            " Layer (type)                Output Shape              Param #   \n",
            "=================================================================\n",
            " base (Functional)           (None, 1024)              230336    \n",
            "                                                                 \n",
            " dense_2 (Dense)             (None, 10)                10250     \n",
            "                                                                 \n",
            "=================================================================\n",
            "Total params: 240,586\n",
            "Trainable params: 238,090\n",
            "Non-trainable params: 2,496\n",
            "_________________________________________________________________\n"
          ]
        }
      ],
      "source": [
        "model_test.compile(\n",
        "  optimizer=Adam(0.001),\n",
        "  loss=CategoricalCrossentropy(),\n",
        "  metrics=['accuracy'],\n",
        ")\n",
        "model_1.summary()"
      ]
    },
    {
      "cell_type": "markdown",
      "metadata": {
        "id": "Jtp9wd306pud"
      },
      "source": [
        "##**<font color=#d0f002>Q3.B) Fit model</font>**"
      ]
    },
    {
      "cell_type": "code",
      "execution_count": 20,
      "metadata": {
        "colab": {
          "base_uri": "https://localhost:8080/"
        },
        "id": "KyKBm0XS6sSj",
        "outputId": "254f6af5-5c53-475e-c45f-b9dc00f42f54"
      },
      "outputs": [
        {
          "name": "stdout",
          "output_type": "stream",
          "text": [
            "Epoch 1/50\n",
            "1245/1245 [==============================] - 8s 6ms/step - loss: 1.3767 - accuracy: 0.4484 - val_loss: 1.0961 - val_accuracy: 0.5289\n",
            "Epoch 2/50\n",
            "1245/1245 [==============================] - 7s 5ms/step - loss: 1.1111 - accuracy: 0.5340 - val_loss: 1.0098 - val_accuracy: 0.5805\n",
            "Epoch 3/50\n",
            "1245/1245 [==============================] - 7s 6ms/step - loss: 1.0656 - accuracy: 0.5543 - val_loss: 0.9702 - val_accuracy: 0.5957\n",
            "Epoch 4/50\n",
            "1245/1245 [==============================] - 7s 5ms/step - loss: 1.0248 - accuracy: 0.5770 - val_loss: 0.9256 - val_accuracy: 0.6151\n",
            "Epoch 5/50\n",
            "1245/1245 [==============================] - 7s 5ms/step - loss: 0.9801 - accuracy: 0.5933 - val_loss: 0.9096 - val_accuracy: 0.6208\n",
            "Epoch 6/50\n",
            "1245/1245 [==============================] - 7s 5ms/step - loss: 0.9531 - accuracy: 0.6069 - val_loss: 0.8688 - val_accuracy: 0.6463\n",
            "Epoch 7/50\n",
            "1245/1245 [==============================] - 7s 6ms/step - loss: 0.9281 - accuracy: 0.6208 - val_loss: 0.8888 - val_accuracy: 0.6417\n",
            "Epoch 8/50\n",
            "1245/1245 [==============================] - 7s 6ms/step - loss: 0.9063 - accuracy: 0.6321 - val_loss: 0.8240 - val_accuracy: 0.6707\n",
            "Epoch 9/50\n",
            "1245/1245 [==============================] - 7s 5ms/step - loss: 0.8917 - accuracy: 0.6373 - val_loss: 0.8199 - val_accuracy: 0.6771\n",
            "Epoch 10/50\n",
            "1245/1245 [==============================] - 7s 6ms/step - loss: 0.8712 - accuracy: 0.6479 - val_loss: 0.8186 - val_accuracy: 0.6744\n",
            "Epoch 11/50\n",
            "1245/1245 [==============================] - 7s 6ms/step - loss: 0.8597 - accuracy: 0.6522 - val_loss: 0.7821 - val_accuracy: 0.6855\n",
            "Epoch 12/50\n",
            "1245/1245 [==============================] - 7s 6ms/step - loss: 0.8424 - accuracy: 0.6585 - val_loss: 0.8326 - val_accuracy: 0.6564\n",
            "Epoch 13/50\n",
            "1245/1245 [==============================] - 7s 5ms/step - loss: 0.8332 - accuracy: 0.6647 - val_loss: 0.7724 - val_accuracy: 0.6862\n",
            "Epoch 14/50\n",
            "1245/1245 [==============================] - 7s 5ms/step - loss: 0.8183 - accuracy: 0.6715 - val_loss: 0.8139 - val_accuracy: 0.6633\n",
            "Epoch 15/50\n",
            "1245/1245 [==============================] - 7s 6ms/step - loss: 0.8216 - accuracy: 0.6699 - val_loss: 0.7830 - val_accuracy: 0.6849\n",
            "Epoch 16/50\n",
            "1245/1245 [==============================] - 7s 6ms/step - loss: 0.8048 - accuracy: 0.6755 - val_loss: 0.7806 - val_accuracy: 0.6820\n",
            "Epoch 17/50\n",
            "1245/1245 [==============================] - 7s 6ms/step - loss: 0.8003 - accuracy: 0.6779 - val_loss: 0.7384 - val_accuracy: 0.7080\n",
            "Epoch 18/50\n",
            "1245/1245 [==============================] - 7s 5ms/step - loss: 0.7904 - accuracy: 0.6842 - val_loss: 0.7675 - val_accuracy: 0.6945\n",
            "Epoch 19/50\n",
            "1245/1245 [==============================] - 7s 5ms/step - loss: 0.7821 - accuracy: 0.6875 - val_loss: 0.7866 - val_accuracy: 0.6826\n",
            "Epoch 20/50\n",
            "1245/1245 [==============================] - 7s 6ms/step - loss: 0.7773 - accuracy: 0.6878 - val_loss: 0.7200 - val_accuracy: 0.7118\n",
            "Epoch 21/50\n",
            "1245/1245 [==============================] - 7s 5ms/step - loss: 0.7675 - accuracy: 0.6947 - val_loss: 0.7605 - val_accuracy: 0.6988\n",
            "Epoch 22/50\n",
            "1245/1245 [==============================] - 7s 5ms/step - loss: 0.7639 - accuracy: 0.6975 - val_loss: 0.7798 - val_accuracy: 0.7000\n",
            "Epoch 23/50\n",
            "1245/1245 [==============================] - 7s 5ms/step - loss: 0.7538 - accuracy: 0.7008 - val_loss: 0.7127 - val_accuracy: 0.7214\n",
            "Epoch 24/50\n",
            "1245/1245 [==============================] - 7s 6ms/step - loss: 0.7527 - accuracy: 0.7004 - val_loss: 0.7411 - val_accuracy: 0.7090\n",
            "Epoch 25/50\n",
            "1245/1245 [==============================] - 7s 5ms/step - loss: 0.7415 - accuracy: 0.7051 - val_loss: 0.7609 - val_accuracy: 0.7041\n",
            "Epoch 26/50\n",
            "1245/1245 [==============================] - 7s 5ms/step - loss: 0.7414 - accuracy: 0.7048 - val_loss: 0.7441 - val_accuracy: 0.7048\n",
            "Epoch 27/50\n",
            "1245/1245 [==============================] - 7s 6ms/step - loss: 0.7381 - accuracy: 0.7058 - val_loss: 0.7333 - val_accuracy: 0.7103\n",
            "Epoch 28/50\n",
            "1245/1245 [==============================] - 7s 6ms/step - loss: 0.7352 - accuracy: 0.7077 - val_loss: 0.7475 - val_accuracy: 0.7016\n",
            "Epoch 29/50\n",
            "1245/1245 [==============================] - 7s 5ms/step - loss: 0.7295 - accuracy: 0.7119 - val_loss: 0.6908 - val_accuracy: 0.7225\n",
            "Epoch 30/50\n",
            "1245/1245 [==============================] - 6s 5ms/step - loss: 0.7251 - accuracy: 0.7141 - val_loss: 0.6852 - val_accuracy: 0.7298\n",
            "Epoch 31/50\n",
            "1245/1245 [==============================] - 7s 6ms/step - loss: 0.7148 - accuracy: 0.7171 - val_loss: 0.7313 - val_accuracy: 0.7078\n",
            "Epoch 32/50\n",
            "1245/1245 [==============================] - 7s 5ms/step - loss: 0.7135 - accuracy: 0.7182 - val_loss: 0.6713 - val_accuracy: 0.7361\n",
            "Epoch 33/50\n",
            "1245/1245 [==============================] - 7s 6ms/step - loss: 0.7116 - accuracy: 0.7171 - val_loss: 0.7133 - val_accuracy: 0.7139\n",
            "Epoch 34/50\n",
            "1245/1245 [==============================] - 7s 6ms/step - loss: 0.7072 - accuracy: 0.7200 - val_loss: 0.7082 - val_accuracy: 0.7269\n",
            "Epoch 35/50\n",
            "1245/1245 [==============================] - 7s 5ms/step - loss: 0.7031 - accuracy: 0.7202 - val_loss: 0.6688 - val_accuracy: 0.7372\n",
            "Epoch 36/50\n",
            "1245/1245 [==============================] - 7s 6ms/step - loss: 0.7007 - accuracy: 0.7242 - val_loss: 0.7120 - val_accuracy: 0.7218\n",
            "Epoch 37/50\n",
            "1245/1245 [==============================] - 8s 6ms/step - loss: 0.7019 - accuracy: 0.7242 - val_loss: 0.6718 - val_accuracy: 0.7352\n",
            "Epoch 38/50\n",
            "1245/1245 [==============================] - 8s 6ms/step - loss: 0.6939 - accuracy: 0.7240 - val_loss: 0.6721 - val_accuracy: 0.7357\n",
            "Epoch 39/50\n",
            "1245/1245 [==============================] - 7s 6ms/step - loss: 0.6937 - accuracy: 0.7279 - val_loss: 0.6722 - val_accuracy: 0.7362\n",
            "Epoch 40/50\n",
            "1245/1245 [==============================] - 7s 5ms/step - loss: 0.6899 - accuracy: 0.7278 - val_loss: 0.6688 - val_accuracy: 0.7402\n",
            "Epoch 41/50\n",
            "1245/1245 [==============================] - 7s 6ms/step - loss: 0.6900 - accuracy: 0.7293 - val_loss: 0.6843 - val_accuracy: 0.7346\n",
            "Epoch 42/50\n",
            "1245/1245 [==============================] - 7s 5ms/step - loss: 0.6838 - accuracy: 0.7322 - val_loss: 0.6580 - val_accuracy: 0.7424\n",
            "Epoch 43/50\n",
            "1245/1245 [==============================] - 7s 5ms/step - loss: 0.6810 - accuracy: 0.7317 - val_loss: 0.6610 - val_accuracy: 0.7424\n",
            "Epoch 44/50\n",
            "1245/1245 [==============================] - 7s 6ms/step - loss: 0.6772 - accuracy: 0.7338 - val_loss: 0.6800 - val_accuracy: 0.7349\n",
            "Epoch 45/50\n",
            "1245/1245 [==============================] - 7s 5ms/step - loss: 0.6771 - accuracy: 0.7336 - val_loss: 0.6810 - val_accuracy: 0.7361\n",
            "Epoch 46/50\n",
            "1245/1245 [==============================] - 7s 5ms/step - loss: 0.6785 - accuracy: 0.7324 - val_loss: 0.6917 - val_accuracy: 0.7329\n",
            "Epoch 47/50\n",
            "1245/1245 [==============================] - 7s 6ms/step - loss: 0.6707 - accuracy: 0.7371 - val_loss: 0.6682 - val_accuracy: 0.7362\n",
            "Epoch 48/50\n",
            "1245/1245 [==============================] - 7s 6ms/step - loss: 0.6713 - accuracy: 0.7358 - val_loss: 0.7374 - val_accuracy: 0.7159\n",
            "Epoch 49/50\n",
            "1245/1245 [==============================] - 6s 5ms/step - loss: 0.6668 - accuracy: 0.7400 - val_loss: 0.7162 - val_accuracy: 0.7156\n",
            "Epoch 50/50\n",
            "1245/1245 [==============================] - 7s 5ms/step - loss: 0.6672 - accuracy: 0.7360 - val_loss: 0.6947 - val_accuracy: 0.7285\n"
          ]
        }
      ],
      "source": [
        "history = model_test.fit(\n",
        "  x_train_rotated, y_train_rotated,\n",
        "  batch_size=BATCH_SIZE,\n",
        "  epochs=EPOCHS,\n",
        "  validation_split=0.2,\n",
        ")"
      ]
    },
    {
      "cell_type": "markdown",
      "metadata": {
        "id": "_lKPxIYp-QCU"
      },
      "source": [
        "##**<font color=#d0f002>Q3.B) Plot results</font>**"
      ]
    },
    {
      "cell_type": "code",
      "execution_count": 21,
      "metadata": {
        "colab": {
          "base_uri": "https://localhost:8080/",
          "height": 287
        },
        "id": "N3KH-Fq9-RH5",
        "outputId": "3ce3f5c1-c6e4-4d8c-e062-1cc6346cacae"
      },
      "outputs": [
        {
          "data": {
            "image/png": "[encoded data removed]",
            "text/plain": [
              "<Figure size 432x288 with 2 Axes>"
            ]
          },
          "metadata": {
            "needs_background": "light"
          },
          "output_type": "display_data"
        }
      ],
      "source": [
        "plot(history, \"Model test\")"
      ]
    },
    {
      "cell_type": "code",
      "execution_count": 23,
      "metadata": {
        "id": "LcclbZcJBsQc"
      },
      "outputs": [],
      "source": [
        "model_2 = Sequential()\n",
        "model_2.add(model_test.layers[0])\n",
        "model_2.add(Dense(units=10, activation='softmax'))"
      ]
    },
    {
      "cell_type": "markdown",
      "metadata": {
        "id": "wVQ487sUBkvA"
      },
      "source": [
        "##**<font color=#d0f002>Q3.B) Compile new model</font>**"
      ]
    },
    {
      "cell_type": "code",
      "execution_count": 27,
      "metadata": {
        "colab": {
          "base_uri": "https://localhost:8080/"
        },
        "id": "_T3pMmPnCYE6",
        "outputId": "638789e6-f21e-4978-da39-4d61cda63b31"
      },
      "outputs": [
        {
          "name": "stdout",
          "output_type": "stream",
          "text": [
            "Model: \"sequential_3\"\n",
            "_________________________________________________________________\n",
            " Layer (type)                Output Shape              Param #   \n",
            "=================================================================\n",
            " base (Functional)           (None, 1024)              230336    \n",
            "                                                                 \n",
            " dense_5 (Dense)             (None, 10)                10250     \n",
            "                                                                 \n",
            "=================================================================\n",
            "Total params: 240,586\n",
            "Trainable params: 238,090\n",
            "Non-trainable params: 2,496\n",
            "_________________________________________________________________\n"
          ]
        }
      ],
      "source": [
        "model_2.compile(\n",
        "  optimizer=Adam(learning_rate=0.0001),\n",
        "  loss=CategoricalCrossentropy(),\n",
        "  metrics=['accuracy'],\n",
        ")\n",
        "model_2.summary()"
      ]
    },
    {
      "cell_type": "markdown",
      "metadata": {
        "id": "V2JokezmCOog"
      },
      "source": [
        "##**<font color=#d0f002>Q3.B) Fit new model</font>**"
      ]
    },
    {
      "cell_type": "code",
      "execution_count": 25,
      "metadata": {
        "colab": {
          "base_uri": "https://localhost:8080/"
        },
        "id": "Fws6Q4C3CRzm",
        "outputId": "0ab9506b-140d-483e-ee6c-eeef8c072546"
      },
      "outputs": [
        {
          "name": "stdout",
          "output_type": "stream",
          "text": [
            "Epoch 1/50\n",
            "7/7 [==============================] - 2s 194ms/step - loss: 2.3400 - accuracy: 0.0900 - val_loss: 2.3032 - val_accuracy: 0.1123\n",
            "Epoch 2/50\n",
            "7/7 [==============================] - 1s 141ms/step - loss: 2.3393 - accuracy: 0.0800 - val_loss: 2.2969 - val_accuracy: 0.1221\n",
            "Epoch 3/50\n",
            "7/7 [==============================] - 1s 147ms/step - loss: 2.3000 - accuracy: 0.1150 - val_loss: 2.2911 - val_accuracy: 0.1286\n",
            "Epoch 4/50\n",
            "7/7 [==============================] - 1s 145ms/step - loss: 2.2974 - accuracy: 0.1400 - val_loss: 2.2855 - val_accuracy: 0.1347\n",
            "Epoch 5/50\n",
            "7/7 [==============================] - 1s 219ms/step - loss: 2.2929 - accuracy: 0.1000 - val_loss: 2.2803 - val_accuracy: 0.1418\n",
            "Epoch 6/50\n",
            "7/7 [==============================] - 1s 146ms/step - loss: 2.2838 - accuracy: 0.1100 - val_loss: 2.2752 - val_accuracy: 0.1484\n",
            "Epoch 7/50\n",
            "7/7 [==============================] - 1s 219ms/step - loss: 2.2690 - accuracy: 0.1250 - val_loss: 2.2701 - val_accuracy: 0.1559\n",
            "Epoch 8/50\n",
            "7/7 [==============================] - 1s 219ms/step - loss: 2.2754 - accuracy: 0.1200 - val_loss: 2.2645 - val_accuracy: 0.1642\n",
            "Epoch 9/50\n",
            "7/7 [==============================] - 1s 220ms/step - loss: 2.2566 - accuracy: 0.1850 - val_loss: 2.2590 - val_accuracy: 0.1718\n",
            "Epoch 10/50\n",
            "7/7 [==============================] - 1s 149ms/step - loss: 2.2473 - accuracy: 0.1600 - val_loss: 2.2536 - val_accuracy: 0.1796\n",
            "Epoch 11/50\n",
            "7/7 [==============================] - 1s 147ms/step - loss: 2.2506 - accuracy: 0.1500 - val_loss: 2.2484 - val_accuracy: 0.1858\n",
            "Epoch 12/50\n",
            "7/7 [==============================] - 1s 149ms/step - loss: 2.2309 - accuracy: 0.1650 - val_loss: 2.2433 - val_accuracy: 0.1933\n",
            "Epoch 13/50\n",
            "7/7 [==============================] - 1s 220ms/step - loss: 2.2336 - accuracy: 0.2100 - val_loss: 2.2380 - val_accuracy: 0.2000\n",
            "Epoch 14/50\n",
            "7/7 [==============================] - 1s 149ms/step - loss: 2.2283 - accuracy: 0.1900 - val_loss: 2.2332 - val_accuracy: 0.2053\n",
            "Epoch 15/50\n",
            "7/7 [==============================] - 1s 222ms/step - loss: 2.2127 - accuracy: 0.2200 - val_loss: 2.2278 - val_accuracy: 0.2103\n",
            "Epoch 16/50\n",
            "7/7 [==============================] - 1s 149ms/step - loss: 2.2320 - accuracy: 0.1850 - val_loss: 2.2221 - val_accuracy: 0.2159\n",
            "Epoch 17/50\n",
            "7/7 [==============================] - 1s 146ms/step - loss: 2.2046 - accuracy: 0.2100 - val_loss: 2.2175 - val_accuracy: 0.2197\n",
            "Epoch 18/50\n",
            "7/7 [==============================] - 1s 219ms/step - loss: 2.1951 - accuracy: 0.1900 - val_loss: 2.2133 - val_accuracy: 0.2255\n",
            "Epoch 19/50\n",
            "7/7 [==============================] - 1s 219ms/step - loss: 2.2018 - accuracy: 0.2000 - val_loss: 2.2095 - val_accuracy: 0.2299\n",
            "Epoch 20/50\n",
            "7/7 [==============================] - 1s 150ms/step - loss: 2.1664 - accuracy: 0.2750 - val_loss: 2.2054 - val_accuracy: 0.2327\n",
            "Epoch 21/50\n",
            "7/7 [==============================] - 1s 219ms/step - loss: 2.1729 - accuracy: 0.2300 - val_loss: 2.2005 - val_accuracy: 0.2383\n",
            "Epoch 22/50\n",
            "7/7 [==============================] - 1s 219ms/step - loss: 2.1685 - accuracy: 0.2350 - val_loss: 2.1949 - val_accuracy: 0.2436\n",
            "Epoch 23/50\n",
            "7/7 [==============================] - 1s 146ms/step - loss: 2.1459 - accuracy: 0.2350 - val_loss: 2.1887 - val_accuracy: 0.2492\n",
            "Epoch 24/50\n",
            "7/7 [==============================] - 1s 218ms/step - loss: 2.1577 - accuracy: 0.2600 - val_loss: 2.1833 - val_accuracy: 0.2553\n",
            "Epoch 25/50\n",
            "7/7 [==============================] - 1s 219ms/step - loss: 2.1347 - accuracy: 0.2700 - val_loss: 2.1777 - val_accuracy: 0.2587\n",
            "Epoch 26/50\n",
            "7/7 [==============================] - 1s 147ms/step - loss: 2.1331 - accuracy: 0.2500 - val_loss: 2.1729 - val_accuracy: 0.2614\n",
            "Epoch 27/50\n",
            "7/7 [==============================] - 1s 218ms/step - loss: 2.1545 - accuracy: 0.2850 - val_loss: 2.1682 - val_accuracy: 0.2639\n",
            "Epoch 28/50\n",
            "7/7 [==============================] - 1s 147ms/step - loss: 2.1340 - accuracy: 0.2800 - val_loss: 2.1633 - val_accuracy: 0.2682\n",
            "Epoch 29/50\n",
            "7/7 [==============================] - 1s 145ms/step - loss: 2.1245 - accuracy: 0.2750 - val_loss: 2.1586 - val_accuracy: 0.2716\n",
            "Epoch 30/50\n",
            "7/7 [==============================] - 1s 219ms/step - loss: 2.0908 - accuracy: 0.2950 - val_loss: 2.1525 - val_accuracy: 0.2766\n",
            "Epoch 31/50\n",
            "7/7 [==============================] - 1s 219ms/step - loss: 2.0890 - accuracy: 0.2750 - val_loss: 2.1463 - val_accuracy: 0.2781\n",
            "Epoch 32/50\n",
            "7/7 [==============================] - 1s 146ms/step - loss: 2.0967 - accuracy: 0.3500 - val_loss: 2.1405 - val_accuracy: 0.2822\n",
            "Epoch 33/50\n",
            "7/7 [==============================] - 1s 218ms/step - loss: 2.0925 - accuracy: 0.2950 - val_loss: 2.1352 - val_accuracy: 0.2854\n",
            "Epoch 34/50\n",
            "7/7 [==============================] - 1s 147ms/step - loss: 2.0965 - accuracy: 0.3050 - val_loss: 2.1299 - val_accuracy: 0.2881\n",
            "Epoch 35/50\n",
            "7/7 [==============================] - 1s 152ms/step - loss: 2.0738 - accuracy: 0.3250 - val_loss: 2.1257 - val_accuracy: 0.2899\n",
            "Epoch 36/50\n",
            "7/7 [==============================] - 1s 144ms/step - loss: 2.0840 - accuracy: 0.3100 - val_loss: 2.1219 - val_accuracy: 0.2935\n",
            "Epoch 37/50\n",
            "7/7 [==============================] - 1s 147ms/step - loss: 2.0663 - accuracy: 0.3100 - val_loss: 2.1170 - val_accuracy: 0.2960\n",
            "Epoch 38/50\n",
            "7/7 [==============================] - 1s 148ms/step - loss: 2.0573 - accuracy: 0.3400 - val_loss: 2.1126 - val_accuracy: 0.2997\n",
            "Epoch 39/50\n",
            "7/7 [==============================] - 1s 147ms/step - loss: 2.0811 - accuracy: 0.3100 - val_loss: 2.1077 - val_accuracy: 0.3014\n",
            "Epoch 40/50\n",
            "7/7 [==============================] - 1s 149ms/step - loss: 2.0343 - accuracy: 0.3650 - val_loss: 2.1029 - val_accuracy: 0.3028\n",
            "Epoch 41/50\n",
            "7/7 [==============================] - 1s 142ms/step - loss: 2.0179 - accuracy: 0.4100 - val_loss: 2.0974 - val_accuracy: 0.3037\n",
            "Epoch 42/50\n",
            "7/7 [==============================] - 1s 147ms/step - loss: 2.0154 - accuracy: 0.3600 - val_loss: 2.0913 - val_accuracy: 0.3067\n",
            "Epoch 43/50\n",
            "7/7 [==============================] - 1s 219ms/step - loss: 2.0320 - accuracy: 0.3650 - val_loss: 2.0865 - val_accuracy: 0.3085\n",
            "Epoch 44/50\n",
            "7/7 [==============================] - 1s 219ms/step - loss: 2.0257 - accuracy: 0.3700 - val_loss: 2.0815 - val_accuracy: 0.3103\n",
            "Epoch 45/50\n",
            "7/7 [==============================] - 1s 219ms/step - loss: 2.0393 - accuracy: 0.3350 - val_loss: 2.0756 - val_accuracy: 0.3121\n",
            "Epoch 46/50\n",
            "7/7 [==============================] - 1s 219ms/step - loss: 1.9712 - accuracy: 0.4350 - val_loss: 2.0710 - val_accuracy: 0.3160\n",
            "Epoch 47/50\n",
            "7/7 [==============================] - 1s 154ms/step - loss: 2.0026 - accuracy: 0.3650 - val_loss: 2.0663 - val_accuracy: 0.3200\n",
            "Epoch 48/50\n",
            "7/7 [==============================] - 1s 219ms/step - loss: 2.0045 - accuracy: 0.3500 - val_loss: 2.0626 - val_accuracy: 0.3225\n",
            "Epoch 49/50\n",
            "7/7 [==============================] - 1s 148ms/step - loss: 1.9983 - accuracy: 0.3750 - val_loss: 2.0583 - val_accuracy: 0.3242\n",
            "Epoch 50/50\n",
            "7/7 [==============================] - 1s 219ms/step - loss: 1.9801 - accuracy: 0.4250 - val_loss: 2.0544 - val_accuracy: 0.3263\n"
          ]
        }
      ],
      "source": [
        "history = model_2.fit(\n",
        "  x_train, y_train,\n",
        "  batch_size=BATCH_SIZE,\n",
        "  epochs=EPOCHS,\n",
        "  validation_data=[x_test, y_test],\n",
        ")"
      ]
    },
    {
      "cell_type": "markdown",
      "metadata": {
        "id": "Hcy4hOPQDYvs"
      },
      "source": [
        "##**<font color=#d0f002>Q3.B) Plot results new model</font>**"
      ]
    },
    {
      "cell_type": "code",
      "execution_count": 26,
      "metadata": {
        "colab": {
          "base_uri": "https://localhost:8080/",
          "height": 287
        },
        "id": "O_fr410kDa6X",
        "outputId": "86d8da54-28d9-40b8-e696-a6e793ae7306"
      },
      "outputs": [
        {
          "data": {
            "image/png": "[encoded data removed]",
            "text/plain": [
              "<Figure size 432x288 with 2 Axes>"
            ]
          },
          "metadata": {
            "needs_background": "light"
          },
          "output_type": "display_data"
        }
      ],
      "source": [
        "plot(history, \"Model 2\")"
      ]
    },
    {
      "cell_type": "markdown",
      "metadata": {
        "id": "PeOlobPeSFVq"
      },
      "source": [
        "#**<font color=\"cyan\">Q3.C</font>**"
      ]
    },
    {
      "cell_type": "code",
      "execution_count": 32,
      "metadata": {
        "id": "zdpvHHUeTomr"
      },
      "outputs": [],
      "source": [
        "def final_model():\n",
        "  base_model = Sequential([model_maker()])\n",
        "  classifier = Dense(10, activation='softmax', name='classifier')(base_model.outputs[0])\n",
        "  pretrained = Dense(4, activation='softmax', name='pretrained')(base_model.outputs[0])\n",
        "  end_model = Model(inputs=base_model.inputs, outputs=[classifier, pretrained])\n",
        "  return end_model"
      ]
    },
    {
      "cell_type": "markdown",
      "metadata": {
        "id": "4zOpf4-rW4CB"
      },
      "source": [
        "##**<font color=#d0f002>Q3.C) History of two outputs model</font>**"
      ]
    },
    {
      "cell_type": "code",
      "execution_count": 33,
      "metadata": {
        "colab": {
          "base_uri": "https://localhost:8080/"
        },
        "id": "eZ0Rz0A8V10-",
        "outputId": "52a9c764-ac25-46e5-de0c-4be3e8271070"
      },
      "outputs": [
        {
          "name": "stdout",
          "output_type": "stream",
          "text": [
            "Model: \"model\"\n",
            "__________________________________________________________________________________________________\n",
            " Layer (type)                   Output Shape         Param #     Connected to                     \n",
            "==================================================================================================\n",
            " base_input (InputLayer)        [(None, 32, 32, 3)]  0           []                               \n",
            "                                                                                                  \n",
            " base (Functional)              (None, 1024)         230336      ['base_input[0][0]']             \n",
            "                                                                                                  \n",
            " classifier (Dense)             (None, 10)           10250       ['base[0][0]']                   \n",
            "                                                                                                  \n",
            " pretrained (Dense)             (None, 4)            4100        ['base[0][0]']                   \n",
            "                                                                                                  \n",
            "==================================================================================================\n",
            "Total params: 244,686\n",
            "Trainable params: 242,190\n",
            "Non-trainable params: 2,496\n",
            "__________________________________________________________________________________________________\n"
          ]
        }
      ],
      "source": [
        "final_model().summary()"
      ]
    },
    {
      "cell_type": "markdown",
      "metadata": {
        "id": "OnLmEgQncjWI"
      },
      "source": [
        "##**<font color=#d0f002>Q3.C) Prepare data </font>**"
      ]
    },
    {
      "cell_type": "code",
      "execution_count": 36,
      "metadata": {
        "colab": {
          "base_uri": "https://localhost:8080/"
        },
        "id": "ikwGvil6cok_",
        "outputId": "25c27ac2-4654-4c98-b511-e91c8f528fcc"
      },
      "outputs": [
        {
          "name": "stdout",
          "output_type": "stream",
          "text": [
            "(50000, 32, 32, 3)\n",
            "(50000, 10)\n",
            "(50000, 4)\n"
          ]
        }
      ],
      "source": [
        "y_train_class = np.concatenate((y_train, np.zeros((x_train_rotated.shape[0], 10))), axis=0)\n",
        "y_train_rot = np.concatenate((np.zeros((y_train.shape[0], 4)), y_train_rotated), axis=0)\n",
        "\n",
        "x_train_two = np.concatenate((x_train, x_train_rotated), axis=0)\n",
        "y_train_two = [y_train_class, y_train_rot]\n",
        "\n",
        "print(x_train_two.shape)\n",
        "print(y_train_two[0].shape)\n",
        "print(y_train_two[1].shape)"
      ]
    },
    {
      "cell_type": "markdown",
      "metadata": {
        "id": "N0kBIDZQleUA"
      },
      "source": [
        "##**<font color=#d0f002>Q3.C) State 1</font>**"
      ]
    },
    {
      "cell_type": "code",
      "execution_count": 38,
      "metadata": {
        "id": "YZqGWCxvkuOf"
      },
      "outputs": [],
      "source": [
        "model_3 = final_model()\n",
        "model_3.compile(\n",
        "  optimizer=Adam(0.001),\n",
        "  metrics=['accuracy'],\n",
        "  loss_weights={\n",
        "        'classifier': 10,\n",
        "        'pretrained': 1\n",
        "    },\n",
        "  loss=CategoricalCrossentropy(),\n",
        ")"
      ]
    },
    {
      "cell_type": "code",
      "execution_count": 39,
      "metadata": {
        "colab": {
          "base_uri": "https://localhost:8080/"
        },
        "id": "AV7vhmx1oGJ8",
        "outputId": "0a624384-1a08-4bd4-be6f-2649ebe87f6d"
      },
      "outputs": [
        {
          "name": "stdout",
          "output_type": "stream",
          "text": [
            "Epoch 1/15\n",
            "1563/1563 [==============================] - 12s 7ms/step - loss: 1.7984 - classifier_loss: 0.0137 - pretrained_loss: 1.6614 - classifier_accuracy: 0.0973 - pretrained_accuracy: 0.3086 - val_loss: 25.7117 - val_classifier_loss: 2.5712 - val_pretrained_loss: 0.0000e+00 - val_classifier_accuracy: 0.0978 - val_pretrained_accuracy: 0.0000e+00\n",
            "Epoch 2/15\n",
            "1563/1563 [==============================] - 11s 7ms/step - loss: 1.9967 - classifier_loss: 0.0178 - pretrained_loss: 1.8185 - classifier_accuracy: 0.0974 - pretrained_accuracy: 0.3026 - val_loss: 30.3745 - val_classifier_loss: 3.0375 - val_pretrained_loss: 0.0000e+00 - val_classifier_accuracy: 0.1017 - val_pretrained_accuracy: 0.0000e+00\n",
            "Epoch 3/15\n",
            "1563/1563 [==============================] - 11s 7ms/step - loss: 2.1897 - classifier_loss: 0.0192 - pretrained_loss: 1.9979 - classifier_accuracy: 0.0987 - pretrained_accuracy: 0.2928 - val_loss: 26.4854 - val_classifier_loss: 2.6485 - val_pretrained_loss: 0.0000e+00 - val_classifier_accuracy: 0.1447 - val_pretrained_accuracy: 0.0000e+00\n",
            "Epoch 4/15\n",
            "1563/1563 [==============================] - 11s 7ms/step - loss: 2.4197 - classifier_loss: 0.0169 - pretrained_loss: 2.2505 - classifier_accuracy: 0.0995 - pretrained_accuracy: 0.2881 - val_loss: 24.8280 - val_classifier_loss: 2.4828 - val_pretrained_loss: 0.0000e+00 - val_classifier_accuracy: 0.1133 - val_pretrained_accuracy: 0.0000e+00\n",
            "Epoch 5/15\n",
            "1563/1563 [==============================] - 11s 7ms/step - loss: 2.5965 - classifier_loss: 0.0157 - pretrained_loss: 2.4399 - classifier_accuracy: 0.0982 - pretrained_accuracy: 0.2886 - val_loss: 25.9419 - val_classifier_loss: 2.5942 - val_pretrained_loss: 0.0000e+00 - val_classifier_accuracy: 0.1004 - val_pretrained_accuracy: 0.0000e+00\n",
            "Epoch 6/15\n",
            "1563/1563 [==============================] - 11s 7ms/step - loss: 2.7822 - classifier_loss: 0.0147 - pretrained_loss: 2.6355 - classifier_accuracy: 0.1013 - pretrained_accuracy: 0.2859 - val_loss: 27.9855 - val_classifier_loss: 2.7986 - val_pretrained_loss: 0.0000e+00 - val_classifier_accuracy: 0.1000 - val_pretrained_accuracy: 0.0000e+00\n",
            "Epoch 7/15\n",
            "1563/1563 [==============================] - 10s 7ms/step - loss: 2.9979 - classifier_loss: 0.0136 - pretrained_loss: 2.8623 - classifier_accuracy: 0.1068 - pretrained_accuracy: 0.2862 - val_loss: 26.2446 - val_classifier_loss: 2.6245 - val_pretrained_loss: 0.0000e+00 - val_classifier_accuracy: 0.1000 - val_pretrained_accuracy: 0.0000e+00\n",
            "Epoch 8/15\n",
            "1563/1563 [==============================] - 10s 7ms/step - loss: 3.1372 - classifier_loss: 0.0128 - pretrained_loss: 3.0091 - classifier_accuracy: 0.0962 - pretrained_accuracy: 0.2902 - val_loss: 31.1919 - val_classifier_loss: 3.1192 - val_pretrained_loss: 0.0000e+00 - val_classifier_accuracy: 0.1000 - val_pretrained_accuracy: 0.0000e+00\n",
            "Epoch 9/15\n",
            "1563/1563 [==============================] - 10s 7ms/step - loss: 3.4836 - classifier_loss: 0.0125 - pretrained_loss: 3.3582 - classifier_accuracy: 0.0990 - pretrained_accuracy: 0.2903 - val_loss: 26.4361 - val_classifier_loss: 2.6436 - val_pretrained_loss: 0.0000e+00 - val_classifier_accuracy: 0.1000 - val_pretrained_accuracy: 0.0000e+00\n",
            "Epoch 10/15\n",
            "1563/1563 [==============================] - 10s 7ms/step - loss: 3.4373 - classifier_loss: 0.0122 - pretrained_loss: 3.3155 - classifier_accuracy: 0.0963 - pretrained_accuracy: 0.2883 - val_loss: 50.5166 - val_classifier_loss: 5.0517 - val_pretrained_loss: 0.0000e+00 - val_classifier_accuracy: 0.1000 - val_pretrained_accuracy: 0.0000e+00\n",
            "Epoch 11/15\n",
            "1563/1563 [==============================] - 12s 8ms/step - loss: 4.1043 - classifier_loss: 0.0148 - pretrained_loss: 3.9561 - classifier_accuracy: 0.1096 - pretrained_accuracy: 0.2857 - val_loss: 61.9291 - val_classifier_loss: 6.1929 - val_pretrained_loss: 0.0000e+00 - val_classifier_accuracy: 0.1000 - val_pretrained_accuracy: 0.0000e+00\n",
            "Epoch 12/15\n",
            "1563/1563 [==============================] - 10s 7ms/step - loss: 4.2955 - classifier_loss: 0.0155 - pretrained_loss: 4.1403 - classifier_accuracy: 0.0956 - pretrained_accuracy: 0.2817 - val_loss: 39.7883 - val_classifier_loss: 3.9788 - val_pretrained_loss: 0.0000e+00 - val_classifier_accuracy: 0.1000 - val_pretrained_accuracy: 0.0000e+00\n",
            "Epoch 13/15\n",
            "1563/1563 [==============================] - 11s 7ms/step - loss: 4.3965 - classifier_loss: 0.0193 - pretrained_loss: 4.2037 - classifier_accuracy: 0.0910 - pretrained_accuracy: 0.2838 - val_loss: 40.7623 - val_classifier_loss: 4.0762 - val_pretrained_loss: 0.0000e+00 - val_classifier_accuracy: 0.1000 - val_pretrained_accuracy: 0.0000e+00\n",
            "Epoch 14/15\n",
            "1563/1563 [==============================] - 11s 7ms/step - loss: 4.7232 - classifier_loss: 0.0178 - pretrained_loss: 4.5455 - classifier_accuracy: 0.0950 - pretrained_accuracy: 0.2872 - val_loss: 28.7771 - val_classifier_loss: 2.8777 - val_pretrained_loss: 0.0000e+00 - val_classifier_accuracy: 0.1000 - val_pretrained_accuracy: 0.0000e+00\n",
            "Epoch 15/15\n",
            "1563/1563 [==============================] - 11s 7ms/step - loss: 4.8406 - classifier_loss: 0.0200 - pretrained_loss: 4.6407 - classifier_accuracy: 0.0970 - pretrained_accuracy: 0.2822 - val_loss: 51.2300 - val_classifier_loss: 5.1230 - val_pretrained_loss: 0.0000e+00 - val_classifier_accuracy: 0.1000 - val_pretrained_accuracy: 0.0000e+00\n"
          ]
        }
      ],
      "source": [
        "history = model_3.fit(\n",
        "  x_train_two, y_train_two,\n",
        "  batch_size=BATCH_SIZE,\n",
        "  epochs=15,\n",
        "  validation_data=(x_test, {'classifier': y_test})\n",
        ")"
      ]
    },
    {
      "cell_type": "markdown",
      "metadata": {
        "id": "sU0GFGg2vL3_"
      },
      "source": [
        "##**<font color=#d0f002>Q3.C) State 2</font>**"
      ]
    },
    {
      "cell_type": "code",
      "execution_count": 40,
      "metadata": {
        "id": "5iHYzsaQvUzE"
      },
      "outputs": [],
      "source": [
        "model_3 = final_model()\n",
        "model_3.compile(\n",
        "  optimizer=Adam(0.001),\n",
        "  metrics=['accuracy'],\n",
        "  loss_weights={\n",
        "        'classifier': 1,\n",
        "        'pretrained': 10\n",
        "    },\n",
        "  loss=CategoricalCrossentropy(),\n",
        ")"
      ]
    },
    {
      "cell_type": "code",
      "execution_count": 41,
      "metadata": {
        "colab": {
          "base_uri": "https://localhost:8080/"
        },
        "id": "8x-TxMdtvgcJ",
        "outputId": "f633281e-1c13-4b44-bcd6-7a213eb532b9"
      },
      "outputs": [
        {
          "name": "stdout",
          "output_type": "stream",
          "text": [
            "Epoch 1/15\n",
            "1563/1563 [==============================] - 12s 7ms/step - loss: 14.6283 - classifier_loss: 0.0107 - pretrained_loss: 1.4618 - classifier_accuracy: 0.1053 - pretrained_accuracy: 0.4193 - val_loss: 2.3593 - val_classifier_loss: 2.3593 - val_pretrained_loss: 0.0000e+00 - val_classifier_accuracy: 0.1041 - val_pretrained_accuracy: 0.0000e+00\n",
            "Epoch 2/15\n",
            "1563/1563 [==============================] - 11s 7ms/step - loss: 16.7652 - classifier_loss: 0.0130 - pretrained_loss: 1.6752 - classifier_accuracy: 0.1043 - pretrained_accuracy: 0.3688 - val_loss: 2.4978 - val_classifier_loss: 2.4978 - val_pretrained_loss: 0.0000e+00 - val_classifier_accuracy: 0.1101 - val_pretrained_accuracy: 0.0000e+00\n",
            "Epoch 3/15\n",
            "1563/1563 [==============================] - 11s 7ms/step - loss: 19.7064 - classifier_loss: 0.0146 - pretrained_loss: 1.9692 - classifier_accuracy: 0.1048 - pretrained_accuracy: 0.3201 - val_loss: 2.4371 - val_classifier_loss: 2.4371 - val_pretrained_loss: 0.0000e+00 - val_classifier_accuracy: 0.0990 - val_pretrained_accuracy: 0.0000e+00\n",
            "Epoch 4/15\n",
            "1563/1563 [==============================] - 18s 11ms/step - loss: 21.6004 - classifier_loss: 0.0139 - pretrained_loss: 2.1587 - classifier_accuracy: 0.1061 - pretrained_accuracy: 0.3143 - val_loss: 2.5252 - val_classifier_loss: 2.5252 - val_pretrained_loss: 0.0000e+00 - val_classifier_accuracy: 0.1002 - val_pretrained_accuracy: 0.0000e+00\n",
            "Epoch 5/15\n",
            "1563/1563 [==============================] - 15s 10ms/step - loss: 23.2600 - classifier_loss: 0.0128 - pretrained_loss: 2.3247 - classifier_accuracy: 0.1052 - pretrained_accuracy: 0.3096 - val_loss: 2.3644 - val_classifier_loss: 2.3644 - val_pretrained_loss: 0.0000e+00 - val_classifier_accuracy: 0.1240 - val_pretrained_accuracy: 0.0000e+00\n",
            "Epoch 6/15\n",
            "1563/1563 [==============================] - 12s 8ms/step - loss: 26.1097 - classifier_loss: 0.0126 - pretrained_loss: 2.6097 - classifier_accuracy: 0.1074 - pretrained_accuracy: 0.3051 - val_loss: 2.4688 - val_classifier_loss: 2.4688 - val_pretrained_loss: 0.0000e+00 - val_classifier_accuracy: 0.1024 - val_pretrained_accuracy: 0.0000e+00\n",
            "Epoch 7/15\n",
            "1563/1563 [==============================] - 11s 7ms/step - loss: 27.5761 - classifier_loss: 0.0126 - pretrained_loss: 2.7563 - classifier_accuracy: 0.1050 - pretrained_accuracy: 0.2977 - val_loss: 2.4846 - val_classifier_loss: 2.4846 - val_pretrained_loss: 0.0000e+00 - val_classifier_accuracy: 0.0998 - val_pretrained_accuracy: 0.0000e+00\n",
            "Epoch 8/15\n",
            "1563/1563 [==============================] - 11s 7ms/step - loss: 31.6121 - classifier_loss: 0.0125 - pretrained_loss: 3.1600 - classifier_accuracy: 0.1068 - pretrained_accuracy: 0.2971 - val_loss: 2.7796 - val_classifier_loss: 2.7796 - val_pretrained_loss: 0.0000e+00 - val_classifier_accuracy: 0.1000 - val_pretrained_accuracy: 0.0000e+00\n",
            "Epoch 9/15\n",
            "1563/1563 [==============================] - 11s 7ms/step - loss: 32.6482 - classifier_loss: 0.0120 - pretrained_loss: 3.2636 - classifier_accuracy: 0.1070 - pretrained_accuracy: 0.2914 - val_loss: 2.9015 - val_classifier_loss: 2.9015 - val_pretrained_loss: 0.0000e+00 - val_classifier_accuracy: 0.0987 - val_pretrained_accuracy: 0.0000e+00\n",
            "Epoch 10/15\n",
            "1563/1563 [==============================] - 11s 7ms/step - loss: 34.3723 - classifier_loss: 0.0123 - pretrained_loss: 3.4360 - classifier_accuracy: 0.1074 - pretrained_accuracy: 0.2917 - val_loss: 2.5713 - val_classifier_loss: 2.5713 - val_pretrained_loss: 0.0000e+00 - val_classifier_accuracy: 0.1006 - val_pretrained_accuracy: 0.0000e+00\n",
            "Epoch 11/15\n",
            "1563/1563 [==============================] - 11s 7ms/step - loss: 37.3430 - classifier_loss: 0.0134 - pretrained_loss: 3.7330 - classifier_accuracy: 0.0966 - pretrained_accuracy: 0.2952 - val_loss: 5.6661 - val_classifier_loss: 5.6661 - val_pretrained_loss: 0.0000e+00 - val_classifier_accuracy: 0.1000 - val_pretrained_accuracy: 0.0000e+00\n",
            "Epoch 12/15\n",
            "1563/1563 [==============================] - 11s 7ms/step - loss: 39.4999 - classifier_loss: 0.0141 - pretrained_loss: 3.9486 - classifier_accuracy: 0.1000 - pretrained_accuracy: 0.2908 - val_loss: 2.9866 - val_classifier_loss: 2.9866 - val_pretrained_loss: 0.0000e+00 - val_classifier_accuracy: 0.1000 - val_pretrained_accuracy: 0.0000e+00\n",
            "Epoch 13/15\n",
            "1563/1563 [==============================] - 12s 7ms/step - loss: 41.5080 - classifier_loss: 0.0169 - pretrained_loss: 4.1491 - classifier_accuracy: 0.0972 - pretrained_accuracy: 0.2842 - val_loss: 3.2699 - val_classifier_loss: 3.2699 - val_pretrained_loss: 0.0000e+00 - val_classifier_accuracy: 0.1175 - val_pretrained_accuracy: 0.0000e+00\n",
            "Epoch 14/15\n",
            "1563/1563 [==============================] - 10s 7ms/step - loss: 46.8238 - classifier_loss: 0.0180 - pretrained_loss: 4.6806 - classifier_accuracy: 0.1015 - pretrained_accuracy: 0.2897 - val_loss: 3.7251 - val_classifier_loss: 3.7251 - val_pretrained_loss: 0.0000e+00 - val_classifier_accuracy: 0.1045 - val_pretrained_accuracy: 0.0000e+00\n",
            "Epoch 15/15\n",
            "1563/1563 [==============================] - 11s 7ms/step - loss: 47.3793 - classifier_loss: 0.0174 - pretrained_loss: 4.7362 - classifier_accuracy: 0.0934 - pretrained_accuracy: 0.2882 - val_loss: 3.6343 - val_classifier_loss: 3.6343 - val_pretrained_loss: 0.0000e+00 - val_classifier_accuracy: 0.1000 - val_pretrained_accuracy: 0.0000e+00\n"
          ]
        }
      ],
      "source": [
        "history = model_3.fit(\n",
        "  x_train_two, y_train_two,\n",
        "  batch_size=BATCH_SIZE,\n",
        "  epochs=15,\n",
        "  validation_data=(x_test, {'classifier': y_test})\n",
        ")"
      ]
    },
    {
      "cell_type": "markdown",
      "metadata": {
        "id": "oc5-tDvCvzak"
      },
      "source": [
        "##**<font color=#d0f002>Q3.C) State 3</font>**"
      ]
    },
    {
      "cell_type": "code",
      "execution_count": 42,
      "metadata": {
        "id": "V1W3vE-Vv2vG"
      },
      "outputs": [],
      "source": [
        "model_3 = final_model()\n",
        "model_3.compile(\n",
        "  optimizer=Adam(0.001),\n",
        "  metrics=['accuracy'],\n",
        "  loss_weights={\n",
        "        'classifier': 1,\n",
        "        'pretrained': 1\n",
        "    },\n",
        "  loss=CategoricalCrossentropy(),\n",
        ")"
      ]
    },
    {
      "cell_type": "code",
      "execution_count": 43,
      "metadata": {
        "colab": {
          "base_uri": "https://localhost:8080/"
        },
        "id": "jT_ysRxSv7ZL",
        "outputId": "aff3242d-cf79-4824-80c9-dd561ae0eeda"
      },
      "outputs": [
        {
          "name": "stdout",
          "output_type": "stream",
          "text": [
            "Epoch 1/15\n",
            "1563/1563 [==============================] - 12s 7ms/step - loss: 1.6134 - classifier_loss: 0.0118 - pretrained_loss: 1.6016 - classifier_accuracy: 0.1073 - pretrained_accuracy: 0.3550 - val_loss: 2.4684 - val_classifier_loss: 2.4684 - val_pretrained_loss: 0.0000e+00 - val_classifier_accuracy: 0.0867 - val_pretrained_accuracy: 0.0000e+00\n",
            "Epoch 2/15\n",
            "1563/1563 [==============================] - 11s 7ms/step - loss: 1.8130 - classifier_loss: 0.0161 - pretrained_loss: 1.7969 - classifier_accuracy: 0.1011 - pretrained_accuracy: 0.3331 - val_loss: 2.6809 - val_classifier_loss: 2.6809 - val_pretrained_loss: 0.0000e+00 - val_classifier_accuracy: 0.0898 - val_pretrained_accuracy: 0.0000e+00\n",
            "Epoch 3/15\n",
            "1563/1563 [==============================] - 16s 10ms/step - loss: 1.9860 - classifier_loss: 0.0193 - pretrained_loss: 1.9667 - classifier_accuracy: 0.1002 - pretrained_accuracy: 0.3123 - val_loss: 2.5807 - val_classifier_loss: 2.5807 - val_pretrained_loss: 0.0000e+00 - val_classifier_accuracy: 0.0940 - val_pretrained_accuracy: 0.0000e+00\n",
            "Epoch 4/15\n",
            "1563/1563 [==============================] - 11s 7ms/step - loss: 2.1688 - classifier_loss: 0.0168 - pretrained_loss: 2.1519 - classifier_accuracy: 0.0960 - pretrained_accuracy: 0.3016 - val_loss: 2.6065 - val_classifier_loss: 2.6065 - val_pretrained_loss: 0.0000e+00 - val_classifier_accuracy: 0.0986 - val_pretrained_accuracy: 0.0000e+00\n",
            "Epoch 5/15\n",
            "1563/1563 [==============================] - 11s 7ms/step - loss: 2.4322 - classifier_loss: 0.0146 - pretrained_loss: 2.4175 - classifier_accuracy: 0.0992 - pretrained_accuracy: 0.2953 - val_loss: 2.6103 - val_classifier_loss: 2.6103 - val_pretrained_loss: 0.0000e+00 - val_classifier_accuracy: 0.1151 - val_pretrained_accuracy: 0.0000e+00\n",
            "Epoch 6/15\n",
            "1563/1563 [==============================] - 12s 8ms/step - loss: 2.6480 - classifier_loss: 0.0145 - pretrained_loss: 2.6335 - classifier_accuracy: 0.1062 - pretrained_accuracy: 0.2992 - val_loss: 2.4714 - val_classifier_loss: 2.4714 - val_pretrained_loss: 0.0000e+00 - val_classifier_accuracy: 0.1000 - val_pretrained_accuracy: 0.0000e+00\n",
            "Epoch 7/15\n",
            "1563/1563 [==============================] - 11s 7ms/step - loss: 2.8641 - classifier_loss: 0.0134 - pretrained_loss: 2.8507 - classifier_accuracy: 0.1069 - pretrained_accuracy: 0.2926 - val_loss: 2.6145 - val_classifier_loss: 2.6145 - val_pretrained_loss: 0.0000e+00 - val_classifier_accuracy: 0.1003 - val_pretrained_accuracy: 0.0000e+00\n",
            "Epoch 8/15\n",
            "1563/1563 [==============================] - 11s 7ms/step - loss: 3.0768 - classifier_loss: 0.0124 - pretrained_loss: 3.0645 - classifier_accuracy: 0.1080 - pretrained_accuracy: 0.2960 - val_loss: 2.9825 - val_classifier_loss: 2.9825 - val_pretrained_loss: 0.0000e+00 - val_classifier_accuracy: 0.1003 - val_pretrained_accuracy: 0.0000e+00\n",
            "Epoch 9/15\n",
            "1563/1563 [==============================] - 11s 7ms/step - loss: 3.2676 - classifier_loss: 0.0132 - pretrained_loss: 3.2543 - classifier_accuracy: 0.1080 - pretrained_accuracy: 0.2915 - val_loss: 2.7292 - val_classifier_loss: 2.7292 - val_pretrained_loss: 0.0000e+00 - val_classifier_accuracy: 0.1030 - val_pretrained_accuracy: 0.0000e+00\n",
            "Epoch 10/15\n",
            "1563/1563 [==============================] - 11s 7ms/step - loss: 3.5332 - classifier_loss: 0.0126 - pretrained_loss: 3.5206 - classifier_accuracy: 0.1160 - pretrained_accuracy: 0.2944 - val_loss: 2.4447 - val_classifier_loss: 2.4447 - val_pretrained_loss: 0.0000e+00 - val_classifier_accuracy: 0.1048 - val_pretrained_accuracy: 0.0000e+00\n",
            "Epoch 11/15\n",
            "1563/1563 [==============================] - 11s 7ms/step - loss: 3.8495 - classifier_loss: 0.0136 - pretrained_loss: 3.8359 - classifier_accuracy: 0.1071 - pretrained_accuracy: 0.2860 - val_loss: 2.5564 - val_classifier_loss: 2.5564 - val_pretrained_loss: 0.0000e+00 - val_classifier_accuracy: 0.0850 - val_pretrained_accuracy: 0.0000e+00\n",
            "Epoch 12/15\n",
            "1563/1563 [==============================] - 10s 7ms/step - loss: 4.0686 - classifier_loss: 0.0156 - pretrained_loss: 4.0530 - classifier_accuracy: 0.1045 - pretrained_accuracy: 0.2915 - val_loss: 2.4591 - val_classifier_loss: 2.4591 - val_pretrained_loss: 0.0000e+00 - val_classifier_accuracy: 0.1026 - val_pretrained_accuracy: 0.0000e+00\n",
            "Epoch 13/15\n",
            "1563/1563 [==============================] - 11s 7ms/step - loss: 4.3893 - classifier_loss: 0.0178 - pretrained_loss: 4.3715 - classifier_accuracy: 0.0958 - pretrained_accuracy: 0.2882 - val_loss: 7.5419 - val_classifier_loss: 7.5419 - val_pretrained_loss: 0.0000e+00 - val_classifier_accuracy: 0.1000 - val_pretrained_accuracy: 0.0000e+00\n",
            "Epoch 14/15\n",
            "1563/1563 [==============================] - 10s 7ms/step - loss: 4.5310 - classifier_loss: 0.0185 - pretrained_loss: 4.5125 - classifier_accuracy: 0.1053 - pretrained_accuracy: 0.2864 - val_loss: 7.5315 - val_classifier_loss: 7.5315 - val_pretrained_loss: 0.0000e+00 - val_classifier_accuracy: 0.1000 - val_pretrained_accuracy: 0.0000e+00\n",
            "Epoch 15/15\n",
            "1563/1563 [==============================] - 11s 7ms/step - loss: 4.9620 - classifier_loss: 0.0205 - pretrained_loss: 4.9415 - classifier_accuracy: 0.1089 - pretrained_accuracy: 0.2873 - val_loss: 3.8603 - val_classifier_loss: 3.8603 - val_pretrained_loss: 0.0000e+00 - val_classifier_accuracy: 0.1000 - val_pretrained_accuracy: 0.0000e+00\n"
          ]
        }
      ],
      "source": [
        "history = model_3.fit(\n",
        "  x_train_two, y_train_two,\n",
        "  batch_size=BATCH_SIZE,\n",
        "  epochs=15,\n",
        "  validation_data=(x_test, {'classifier': y_test})\n",
        ")"
      ]
    }
  ],
  "metadata": {
    "accelerator": "GPU",
    "colab": {
      "provenance": []
    },
    "gpuClass": "standard",
    "kernelspec": {
      "display_name": "Python 3",
      "language": "python",
      "name": "python3"
    },
    "language_info": {
      "name": "python",
      "version": "3.10.2 (tags/v3.10.2:a58ebcc, Jan 17 2022, 14:12:15) [MSC v.1929 64 bit (AMD64)]"
    },
    "vscode": {
      "interpreter": {
        "hash": "fb4569285eef3a3450cb62085a5b1e0da4bce0af555edc33dcf29baf3acc1368"
      }
    }
  },
  "nbformat": 4,
  "nbformat_minor": 0
}
