{
  "cells": [
    {
      "cell_type": "markdown",
      "metadata": {
        "id": "UotI0aGrf5_T"
      },
      "source": [
        "# Data Agumentation Problem\n",
        "#### Here you need to compare two models with and without agumentation to see the difference"
      ]
    },
    {
      "cell_type": "markdown",
      "metadata": {
        "id": "IhIQCdKMf5_X"
      },
      "source": [
        "### Import libraries"
      ]
    },
    {
      "cell_type": "code",
      "execution_count": 2,
      "metadata": {
        "colab": {
          "base_uri": "https://localhost:8080/"
        },
        "id": "DApO-QgeUJyh",
        "outputId": "a5fc5766-92d5-4ad5-e2bb-9e4aa9b236be"
      },
      "outputs": [],
      "source": [
        "import glob\n",
        "import cv2\n",
        "import numpy as np\n",
        "import random\n",
        "from google.colab import drive\n",
        "drive.mount('/content/drive')\n",
        "import os"
      ]
    },
    {
      "cell_type": "markdown",
      "metadata": {
        "id": "5gYY41raf5_b"
      },
      "source": [
        "### Read images"
      ]
    },
    {
      "cell_type": "code",
      "execution_count": 12,
      "metadata": {
        "colab": {
          "base_uri": "https://localhost:8080/"
        },
        "id": "KnJzql-edFlp",
        "outputId": "f94ffb7f-a10c-4d7b-b43f-20223d5b6e56"
      },
      "outputs": [
        {
          "name": "stdout",
          "output_type": "stream",
          "text": [
            "Archive:  drive/MyDrive/data/HW3.zip\n",
            "  inflating: data_aug/cat.7305.jpg   \n",
            "  inflating: data_aug/dog.12247.jpg  \n",
            "  inflating: data_aug/dog.306.jpg    \n",
            "  inflating: data_aug/cat.4344.jpg   \n",
            "  inflating: data_aug/cat.1807.jpg   \n",
            "  inflating: data_aug/dog.11833.jpg  \n",
            "  inflating: data_aug/cat.5077.jpg   \n",
            "  inflating: data_aug/dog.10221.jpg  \n",
            "  inflating: data_aug/dog.6503.jpg   \n",
            "  inflating: data_aug/cat.5009.jpg   \n",
            "  inflating: data_aug/cat.7738.jpg   \n",
            "  inflating: data_aug/dog.9719.jpg   \n",
            "  inflating: data_aug/dog.9374.jpg   \n",
            "  inflating: data_aug/cat.10172.jpg  \n",
            "  inflating: data_aug/cat.2482.jpg   \n",
            "  inflating: data_aug/dog.42.jpg     \n",
            "  inflating: data_aug/cat.1021.jpg   \n",
            "  inflating: data_aug/dog.658.jpg    \n",
            "  inflating: data_aug/dog.1989.jpg   \n",
            "  inflating: data_aug/dog.6891.jpg   \n",
            "  inflating: data_aug/dog.301.jpg    \n",
            "  inflating: data_aug/cat.1666.jpg   \n",
            "  inflating: data_aug/dog.4439.jpg   \n",
            "  inflating: data_aug/cat.6706.jpg   \n",
            "  inflating: data_aug/cat.11843.jpg  \n",
            "  inflating: data_aug/cat.12479.jpg  \n",
            "  inflating: data_aug/dog.12181.jpg  \n",
            "  inflating: data_aug/cat.9378.jpg   \n",
            "  inflating: data_aug/cat.4772.jpg   \n",
            "  inflating: data_aug/cat.2098.jpg   \n",
            "  inflating: data_aug/dog.5657.jpg   \n",
            "  inflating: data_aug/cat.12263.jpg  \n",
            "  inflating: data_aug/dog.7487.jpg   \n",
            "  inflating: data_aug/dog.12031.jpg  \n",
            "  inflating: data_aug/dog.2078.jpg   \n",
            "  inflating: data_aug/cat.11946.jpg  \n",
            "  inflating: data_aug/cat.9501.jpg   \n",
            "  inflating: data_aug/dog.11777.jpg  \n",
            "  inflating: data_aug/dog.12399.jpg  \n",
            "  inflating: data_aug/cat.223.jpg    \n",
            "  inflating: data_aug/cat.2749.jpg   \n",
            "  inflating: data_aug/cat.8608.jpg   \n",
            "  inflating: data_aug/dog.6966.jpg   \n",
            "  inflating: data_aug/dog.6892.jpg   \n",
            "  inflating: data_aug/dog.9440.jpg   \n",
            "  inflating: data_aug/dog.1781.jpg   \n",
            "  inflating: data_aug/dog.3048.jpg   \n",
            "  inflating: data_aug/cat.3469.jpg   \n",
            "  inflating: data_aug/cat.4177.jpg   \n",
            "  inflating: data_aug/cat.5005.jpg   \n",
            "  inflating: data_aug/dog.11154.jpg  \n",
            "  inflating: data_aug/cat.6762.jpg   \n",
            "  inflating: data_aug/cat.8309.jpg   \n",
            "  inflating: data_aug/dog.2242.jpg   \n",
            "  inflating: data_aug/dog.699.jpg    \n",
            "  inflating: data_aug/cat.6038.jpg   \n",
            "  inflating: data_aug/cat.11959.jpg  \n",
            "  inflating: data_aug/cat.4071.jpg   \n",
            "  inflating: data_aug/cat.2479.jpg   \n",
            "  inflating: data_aug/cat.225.jpg    \n",
            "  inflating: data_aug/dog.7778.jpg   \n",
            "  inflating: data_aug/cat.9860.jpg   \n",
            "  inflating: data_aug/cat.9499.jpg   \n",
            "  inflating: data_aug/dog.8228.jpg   \n",
            "  inflating: data_aug/cat.11521.jpg  \n",
            "  inflating: data_aug/cat.3543.jpg   \n",
            "  inflating: data_aug/dog.10890.jpg  \n",
            "  inflating: data_aug/dog.11675.jpg  \n",
            "  inflating: data_aug/cat.11535.jpg  \n",
            "  inflating: data_aug/dog.6132.jpg   \n",
            "  inflating: data_aug/cat.4279.jpg   \n",
            "  inflating: data_aug/cat.98.jpg     \n",
            "  inflating: data_aug/dog.8629.jpg   \n",
            "  inflating: data_aug/dog.2092.jpg   \n",
            "  inflating: data_aug/cat.343.jpg    \n",
            "  inflating: data_aug/cat.9239.jpg   \n",
            "  inflating: data_aug/dog.10546.jpg  \n",
            "  inflating: data_aug/dog.12029.jpg  \n",
            "  inflating: data_aug/dog.5920.jpg   \n",
            "  inflating: data_aug/dog.11283.jpg  \n",
            "  inflating: data_aug/cat.119.jpg    \n",
            "  inflating: data_aug/cat.2326.jpg   \n",
            "  inflating: data_aug/dog.2793.jpg   \n",
            "  inflating: data_aug/dog.1687.jpg   \n",
            "  inflating: data_aug/cat.8908.jpg   \n",
            "  inflating: data_aug/cat.10949.jpg  \n",
            "  inflating: data_aug/dog.8715.jpg   \n",
            "  inflating: data_aug/cat.8740.jpg   \n",
            "  inflating: data_aug/cat.4126.jpg   \n",
            "  inflating: data_aug/cat.9890.jpg   \n",
            "  inflating: data_aug/dog.3788.jpg   \n",
            "  inflating: data_aug/dog.91.jpg     \n",
            "  inflating: data_aug/dog.3565.jpg   \n",
            "  inflating: data_aug/cat.1848.jpg   \n",
            "  inflating: data_aug/cat.10195.jpg  \n",
            "  inflating: data_aug/dog.11099.jpg  \n",
            "  inflating: data_aug/dog.6219.jpg   \n",
            "  inflating: data_aug/dog.8296.jpg   \n",
            "  inflating: data_aug/dog.11634.jpg  \n",
            "  inflating: data_aug/dog.9326.jpg   \n"
          ]
        }
      ],
      "source": [
        "# First we should read all the images from the provided directory,\n",
        "\n",
        "# 1. first unzip the .zip file attached with homeworks\n",
        "!unzip \"drive/MyDrive/data/HW3.zip\"\n",
        "\n",
        "# 2. read images from directory\n",
        "images = []\n",
        "dataset = os.listdir(\"./data_aug\")\n",
        "\n",
        "# 3. create labels array\n",
        "labels=[]\n",
        "for image in dataset:\n",
        "    images.append(cv2.imread(os.path.join(\"./data_aug\", image)))\n",
        "    label = image.split('.')[0]\n",
        "    if label == 'cat':\n",
        "        labels.append(0)\n",
        "    else:\n",
        "        labels.append(1)"
      ]
    },
    {
      "cell_type": "markdown",
      "metadata": {
        "id": "1Jmx1IPHf5_d"
      },
      "source": [
        "### Prepare Dataset"
      ]
    },
    {
      "cell_type": "code",
      "execution_count": 107,
      "metadata": {
        "colab": {
          "base_uri": "https://localhost:8080/"
        },
        "id": "AhInWVpUeqI2",
        "outputId": "25c0cbfb-164d-4189-d2e8-e570be02432b"
      },
      "outputs": [
        {
          "name": "stderr",
          "output_type": "stream",
          "text": [
            "/usr/local/lib/python3.7/dist-packages/ipykernel_launcher.py:3: VisibleDeprecationWarning: Creating an ndarray from ragged nested sequences (which is a list-or-tuple of lists-or-tuples-or ndarrays with different lengths or shapes) is deprecated. If you meant to do this, you must specify 'dtype=object' when creating the ndarray.\n",
            "  This is separate from the ipykernel package so we can avoid doing imports until\n"
          ]
        }
      ],
      "source": [
        "# Normalize your dataset in a way to have a image dataset with pixles in range (0 to 1)\n",
        "\n",
        "images = np.divide(images, 255)"
      ]
    },
    {
      "cell_type": "code",
      "execution_count": 108,
      "metadata": {
        "id": "WJvVTTO1gwr4"
      },
      "outputs": [],
      "source": [
        "# Resize your images to (28 * 28)\n",
        "\n",
        "x_train = []\n",
        "for image in images:\n",
        "  x_train.append(cv2.resize(image, (28, 28)))"
      ]
    },
    {
      "cell_type": "code",
      "execution_count": 109,
      "metadata": {
        "id": "hHAp88v5hjOX"
      },
      "outputs": [],
      "source": [
        "# Flatten your dataset images \n",
        "\n",
        "x_train = np.array(x_train)\n",
        "y_train = np.array(labels)\n",
        "x_train = x_train.flatten().reshape(100, 2352)\n",
        "y_train = y_train.flatten()"
      ]
    },
    {
      "cell_type": "code",
      "execution_count": 110,
      "metadata": {
        "colab": {
          "base_uri": "https://localhost:8080/"
        },
        "id": "YC-_5hy7iQy7",
        "outputId": "fe9340df-8cdb-4d58-e0e7-a8051c45e978"
      },
      "outputs": [
        {
          "name": "stdout",
          "output_type": "stream",
          "text": [
            "(100, 2352)\n",
            "(100,)\n"
          ]
        }
      ],
      "source": [
        "# Check your dataset and labels to be a numpy ndarray of sizes (100, 28 * 28 * 3) and (100, 1) respectively.\n",
        "\n",
        "print(x_train.shape)\n",
        "print(y_train.shape)"
      ]
    },
    {
      "cell_type": "markdown",
      "metadata": {
        "id": "dGrnmqx9f5_i"
      },
      "source": [
        "### Create your Model"
      ]
    },
    {
      "cell_type": "code",
      "execution_count": 103,
      "metadata": {
        "id": "6Mv7oW7jf5_i"
      },
      "outputs": [],
      "source": [
        "from tensorflow.keras.models import Sequential\n",
        "from tensorflow.keras.layers import Dense, Activation\n",
        "from tensorflow.keras.optimizers import Adam\n",
        "from tensorflow.keras.losses import BinaryCrossentropy\n",
        "from sklearn.model_selection import train_test_split\n",
        "import tensorflow as tf\n",
        "from tensorflow.keras import layers"
      ]
    },
    {
      "cell_type": "code",
      "execution_count": 112,
      "metadata": {
        "id": "vE6uEOVvf5_k"
      },
      "outputs": [],
      "source": [
        "# create a simple model of Keras MLP with desired number of dense layers and units and activation function\n",
        "# don't forget to shuffle the data\n",
        "# this is a binary classification problem\n",
        "\n",
        "model_temp_1 = Sequential()\n",
        "model_temp_1.add(Dense(512, input_shape=(2352, ), activation='relu'))\n",
        "model_temp_1.add(Dense(16, activation='relu'))\n",
        "model_temp_1.add(Dense(1, activation='sigmoid'))"
      ]
    },
    {
      "cell_type": "code",
      "execution_count": 113,
      "metadata": {
        "id": "ZKzNg6FRf5_k"
      },
      "outputs": [],
      "source": [
        "# Split your dataset to test and train with your desired implementation\n",
        "# use sklearn.model_selection.train_test_split\n",
        "\n",
        "x_train, x_test, y_train, y_test = train_test_split(x_train, y_train, test_size=0.33)"
      ]
    },
    {
      "cell_type": "code",
      "execution_count": 114,
      "metadata": {
        "colab": {
          "base_uri": "https://localhost:8080/"
        },
        "id": "hZm-bWBKf5_l",
        "outputId": "936c5e06-8928-43d4-c11f-e89483c77df7"
      },
      "outputs": [
        {
          "name": "stdout",
          "output_type": "stream",
          "text": [
            "Epoch 1/50\n",
            "2/2 - 1s - loss: 1.1977 - accuracy: 0.5283 - val_loss: 1.6105 - val_accuracy: 0.3571 - 795ms/epoch - 398ms/step\n",
            "Epoch 2/50\n",
            "2/2 - 0s - loss: 1.2946 - accuracy: 0.4906 - val_loss: 0.6882 - val_accuracy: 0.6429 - 43ms/epoch - 21ms/step\n",
            "Epoch 3/50\n",
            "2/2 - 0s - loss: 0.7566 - accuracy: 0.5283 - val_loss: 0.7058 - val_accuracy: 0.6429 - 46ms/epoch - 23ms/step\n",
            "Epoch 4/50\n",
            "2/2 - 0s - loss: 0.7425 - accuracy: 0.5094 - val_loss: 0.6869 - val_accuracy: 0.6429 - 55ms/epoch - 28ms/step\n",
            "Epoch 5/50\n",
            "2/2 - 0s - loss: 0.6821 - accuracy: 0.5472 - val_loss: 0.7095 - val_accuracy: 0.6429 - 45ms/epoch - 23ms/step\n",
            "Epoch 6/50\n",
            "2/2 - 0s - loss: 0.6754 - accuracy: 0.6415 - val_loss: 0.7785 - val_accuracy: 0.3571 - 50ms/epoch - 25ms/step\n",
            "Epoch 7/50\n",
            "2/2 - 0s - loss: 0.6936 - accuracy: 0.5094 - val_loss: 0.7425 - val_accuracy: 0.3571 - 52ms/epoch - 26ms/step\n",
            "Epoch 8/50\n",
            "2/2 - 0s - loss: 0.6573 - accuracy: 0.6226 - val_loss: 0.6983 - val_accuracy: 0.5000 - 45ms/epoch - 23ms/step\n",
            "Epoch 9/50\n",
            "2/2 - 0s - loss: 0.6532 - accuracy: 0.6038 - val_loss: 0.7010 - val_accuracy: 0.5714 - 46ms/epoch - 23ms/step\n",
            "Epoch 10/50\n",
            "2/2 - 0s - loss: 0.6236 - accuracy: 0.7736 - val_loss: 0.7191 - val_accuracy: 0.5000 - 48ms/epoch - 24ms/step\n",
            "Epoch 11/50\n",
            "2/2 - 0s - loss: 0.6076 - accuracy: 0.7547 - val_loss: 0.7195 - val_accuracy: 0.5000 - 49ms/epoch - 24ms/step\n",
            "Epoch 12/50\n",
            "2/2 - 0s - loss: 0.5896 - accuracy: 0.7925 - val_loss: 0.6981 - val_accuracy: 0.5000 - 46ms/epoch - 23ms/step\n",
            "Epoch 13/50\n",
            "2/2 - 0s - loss: 0.5662 - accuracy: 0.7925 - val_loss: 0.6859 - val_accuracy: 0.4286 - 49ms/epoch - 25ms/step\n",
            "Epoch 14/50\n",
            "2/2 - 0s - loss: 0.5664 - accuracy: 0.7358 - val_loss: 0.7283 - val_accuracy: 0.5714 - 49ms/epoch - 24ms/step\n",
            "Epoch 15/50\n",
            "2/2 - 0s - loss: 0.5308 - accuracy: 0.8302 - val_loss: 0.8036 - val_accuracy: 0.3571 - 47ms/epoch - 23ms/step\n",
            "Epoch 16/50\n",
            "2/2 - 0s - loss: 0.5631 - accuracy: 0.7170 - val_loss: 0.7247 - val_accuracy: 0.5714 - 46ms/epoch - 23ms/step\n",
            "Epoch 17/50\n",
            "2/2 - 0s - loss: 0.4998 - accuracy: 0.8679 - val_loss: 0.6932 - val_accuracy: 0.5714 - 47ms/epoch - 24ms/step\n",
            "Epoch 18/50\n",
            "2/2 - 0s - loss: 0.5331 - accuracy: 0.7170 - val_loss: 0.7290 - val_accuracy: 0.5714 - 60ms/epoch - 30ms/step\n",
            "Epoch 19/50\n",
            "2/2 - 0s - loss: 0.4868 - accuracy: 0.7925 - val_loss: 0.8432 - val_accuracy: 0.3571 - 58ms/epoch - 29ms/step\n",
            "Epoch 20/50\n",
            "2/2 - 0s - loss: 0.4795 - accuracy: 0.7736 - val_loss: 0.7218 - val_accuracy: 0.4286 - 46ms/epoch - 23ms/step\n",
            "Epoch 21/50\n",
            "2/2 - 0s - loss: 0.4383 - accuracy: 0.9057 - val_loss: 0.7133 - val_accuracy: 0.5000 - 56ms/epoch - 28ms/step\n",
            "Epoch 22/50\n",
            "2/2 - 0s - loss: 0.4799 - accuracy: 0.8302 - val_loss: 0.7446 - val_accuracy: 0.5000 - 47ms/epoch - 24ms/step\n",
            "Epoch 23/50\n",
            "2/2 - 0s - loss: 0.4055 - accuracy: 0.8868 - val_loss: 0.8174 - val_accuracy: 0.5000 - 49ms/epoch - 24ms/step\n",
            "Epoch 24/50\n",
            "2/2 - 0s - loss: 0.4232 - accuracy: 0.8868 - val_loss: 0.7727 - val_accuracy: 0.5000 - 49ms/epoch - 24ms/step\n",
            "Epoch 25/50\n",
            "2/2 - 0s - loss: 0.3949 - accuracy: 0.8868 - val_loss: 0.7359 - val_accuracy: 0.4286 - 43ms/epoch - 22ms/step\n",
            "Epoch 26/50\n",
            "2/2 - 0s - loss: 0.3925 - accuracy: 0.8868 - val_loss: 0.8182 - val_accuracy: 0.4286 - 56ms/epoch - 28ms/step\n",
            "Epoch 27/50\n",
            "2/2 - 0s - loss: 0.3885 - accuracy: 0.9057 - val_loss: 0.8891 - val_accuracy: 0.3571 - 48ms/epoch - 24ms/step\n",
            "Epoch 28/50\n",
            "2/2 - 0s - loss: 0.3567 - accuracy: 0.9057 - val_loss: 0.7651 - val_accuracy: 0.4286 - 44ms/epoch - 22ms/step\n",
            "Epoch 29/50\n",
            "2/2 - 0s - loss: 0.3544 - accuracy: 0.9057 - val_loss: 0.7701 - val_accuracy: 0.5000 - 49ms/epoch - 24ms/step\n",
            "Epoch 30/50\n",
            "2/2 - 0s - loss: 0.3231 - accuracy: 0.9434 - val_loss: 0.8963 - val_accuracy: 0.4286 - 48ms/epoch - 24ms/step\n",
            "Epoch 31/50\n",
            "2/2 - 0s - loss: 0.3295 - accuracy: 0.9057 - val_loss: 0.8735 - val_accuracy: 0.4286 - 48ms/epoch - 24ms/step\n",
            "Epoch 32/50\n",
            "2/2 - 0s - loss: 0.3265 - accuracy: 0.9434 - val_loss: 0.7927 - val_accuracy: 0.4286 - 47ms/epoch - 24ms/step\n",
            "Epoch 33/50\n",
            "2/2 - 0s - loss: 0.2899 - accuracy: 0.9623 - val_loss: 0.8463 - val_accuracy: 0.4286 - 43ms/epoch - 22ms/step\n",
            "Epoch 34/50\n",
            "2/2 - 0s - loss: 0.2806 - accuracy: 0.9623 - val_loss: 0.8652 - val_accuracy: 0.4286 - 51ms/epoch - 26ms/step\n",
            "Epoch 35/50\n",
            "2/2 - 0s - loss: 0.2747 - accuracy: 0.9811 - val_loss: 0.8105 - val_accuracy: 0.4286 - 51ms/epoch - 25ms/step\n",
            "Epoch 36/50\n",
            "2/2 - 0s - loss: 0.2615 - accuracy: 0.9811 - val_loss: 0.8409 - val_accuracy: 0.4286 - 58ms/epoch - 29ms/step\n",
            "Epoch 37/50\n",
            "2/2 - 0s - loss: 0.2456 - accuracy: 1.0000 - val_loss: 0.9036 - val_accuracy: 0.4286 - 76ms/epoch - 38ms/step\n",
            "Epoch 38/50\n",
            "2/2 - 0s - loss: 0.2485 - accuracy: 0.9811 - val_loss: 0.8488 - val_accuracy: 0.5000 - 75ms/epoch - 37ms/step\n",
            "Epoch 39/50\n",
            "2/2 - 0s - loss: 0.2311 - accuracy: 0.9811 - val_loss: 0.8650 - val_accuracy: 0.4286 - 66ms/epoch - 33ms/step\n",
            "Epoch 40/50\n",
            "2/2 - 0s - loss: 0.2188 - accuracy: 1.0000 - val_loss: 0.8982 - val_accuracy: 0.5000 - 72ms/epoch - 36ms/step\n",
            "Epoch 41/50\n",
            "2/2 - 0s - loss: 0.2112 - accuracy: 1.0000 - val_loss: 0.8542 - val_accuracy: 0.4286 - 68ms/epoch - 34ms/step\n",
            "Epoch 42/50\n",
            "2/2 - 0s - loss: 0.2049 - accuracy: 1.0000 - val_loss: 0.8709 - val_accuracy: 0.4286 - 72ms/epoch - 36ms/step\n",
            "Epoch 43/50\n",
            "2/2 - 0s - loss: 0.2021 - accuracy: 1.0000 - val_loss: 0.9218 - val_accuracy: 0.5000 - 66ms/epoch - 33ms/step\n",
            "Epoch 44/50\n",
            "2/2 - 0s - loss: 0.1897 - accuracy: 1.0000 - val_loss: 0.8299 - val_accuracy: 0.4286 - 68ms/epoch - 34ms/step\n",
            "Epoch 45/50\n",
            "2/2 - 0s - loss: 0.1878 - accuracy: 0.9811 - val_loss: 0.8880 - val_accuracy: 0.4286 - 65ms/epoch - 33ms/step\n",
            "Epoch 46/50\n",
            "2/2 - 0s - loss: 0.1716 - accuracy: 1.0000 - val_loss: 0.9017 - val_accuracy: 0.4286 - 67ms/epoch - 33ms/step\n",
            "Epoch 47/50\n",
            "2/2 - 0s - loss: 0.1648 - accuracy: 1.0000 - val_loss: 0.8858 - val_accuracy: 0.4286 - 72ms/epoch - 36ms/step\n",
            "Epoch 48/50\n",
            "2/2 - 0s - loss: 0.1736 - accuracy: 1.0000 - val_loss: 0.9200 - val_accuracy: 0.4286 - 65ms/epoch - 33ms/step\n",
            "Epoch 49/50\n",
            "2/2 - 0s - loss: 0.1543 - accuracy: 1.0000 - val_loss: 0.8424 - val_accuracy: 0.4286 - 66ms/epoch - 33ms/step\n",
            "Epoch 50/50\n",
            "2/2 - 0s - loss: 0.1484 - accuracy: 1.0000 - val_loss: 0.9595 - val_accuracy: 0.4286 - 66ms/epoch - 33ms/step\n"
          ]
        }
      ],
      "source": [
        "# Compile with your desired optimizer and loss function with 'accuracy' as metric\n",
        "# # Don't forget to monitor the overfitting, you should take care of val_accuracy and val_loss\n",
        "\n",
        "model_temp_1.compile(\n",
        "    loss='binary_crossentropy', \n",
        "    optimizer='adam', \n",
        "    metrics=['accuracy']\n",
        ")\n",
        "history = model_temp_1.fit(\n",
        "      x_train, \n",
        "      y_train,\n",
        "      epochs=50,\n",
        "      validation_split=0.2,\n",
        "      shuffle=True,\n",
        "      verbose=2\n",
        ")"
      ]
    },
    {
      "cell_type": "markdown",
      "metadata": {
        "id": "tbvj1AYEf5_m"
      },
      "source": [
        "### Plot results"
      ]
    },
    {
      "cell_type": "code",
      "execution_count": 115,
      "metadata": {
        "colab": {
          "base_uri": "https://localhost:8080/",
          "height": 545
        },
        "id": "YkpTMbvMf5_n",
        "outputId": "af4c7bf8-1544-4d16-ee65-d4cab6f5bc06"
      },
      "outputs": [
        {
          "data": {
            "image/png": "[encoded data removed]",
            "text/plain": [
              "<Figure size 432x288 with 1 Axes>"
            ]
          },
          "metadata": {
            "needs_background": "light"
          },
          "output_type": "display_data"
        },
        {
          "data": {
            "image/png": "[encoded data removed]",
            "text/plain": [
              "<Figure size 432x288 with 1 Axes>"
            ]
          },
          "metadata": {
            "needs_background": "light"
          },
          "output_type": "display_data"
        }
      ],
      "source": [
        "# Plot your data\n",
        "\n",
        "import matplotlib.pyplot as plt\n",
        "acc = history.history['accuracy']\n",
        "val_acc = history.history['val_accuracy']\n",
        "loss = history.history['loss']\n",
        "val_loss = history.history['val_loss']\n",
        "\n",
        "epochs = range(len(acc))\n",
        "\n",
        "plt.plot(epochs, acc, 'r', label='Training accuracy')\n",
        "plt.plot(epochs, val_acc, 'b', label='Validation accuracy')\n",
        "plt.title('Training and validation accuracy')\n",
        "plt.legend()\n",
        "\n",
        "plt.figure()\n",
        "\n",
        "plt.plot(epochs, loss, 'r', label='Training Loss')\n",
        "plt.plot(epochs, val_loss, 'b', label='Validation Loss')\n",
        "plt.title('Training and validation loss')\n",
        "plt.legend()\n",
        "\n",
        "plt.show()"
      ]
    },
    {
      "cell_type": "markdown",
      "metadata": {
        "id": "i5h0Vv6If5_o"
      },
      "source": [
        "### Evaluate results"
      ]
    },
    {
      "cell_type": "code",
      "execution_count": 116,
      "metadata": {
        "colab": {
          "base_uri": "https://localhost:8080/"
        },
        "id": "vKICYnYFf5_p",
        "outputId": "c0166c78-0bea-4354-d5d1-008d985b01a5"
      },
      "outputs": [
        {
          "name": "stdout",
          "output_type": "stream",
          "text": [
            "2/2 [==============================] - 0s 7ms/step - loss: 1.0000 - accuracy: 0.4242\n",
            "Test evaluation is:  [0.9999938607215881, 0.42424243688583374]\n"
          ]
        }
      ],
      "source": [
        "# Evaluate your model on the test data\n",
        "\n",
        "test_evaluate = model_temp_1.evaluate(x_test, y_test)\n",
        "print(\"Test evaluation is: \", test_evaluate)"
      ]
    },
    {
      "cell_type": "markdown",
      "metadata": {
        "id": "bcx5k8Ftf5_q"
      },
      "source": [
        "# Compare results with and without using agumentation\n",
        "### Now we need to do agumentation to create more images to help us overcome underfitting"
      ]
    },
    {
      "cell_type": "markdown",
      "metadata": {
        "id": "suuybOjLf5_r"
      },
      "source": [
        "### Agumentation Methods\n",
        "Here you should do the agumentation methods to produce more images\n"
      ]
    },
    {
      "cell_type": "code",
      "execution_count": 3,
      "metadata": {
        "id": "T6Y6_veDcNwt"
      },
      "outputs": [],
      "source": [
        "# In this cell you need to implement agumentation methods to increase our data\n",
        "# NOTICE! Only use libraries in CV2 or others, DON'T use KERAS and Pytorch!\n",
        "\n",
        "\n",
        "def fill(img, h, w):\n",
        "    ''' \n",
        "    we use this function to resize the shifted image and fill border pixles with different methods\n",
        "    \n",
        "    arguments \n",
        "    input img: a Numpy ndarray from any size of h * w * ch\n",
        "          h: an integer defining the height of target image\n",
        "          w: an integer defining the width of target image\n",
        "    \n",
        "    output: resized and interpolated image \n",
        "\n",
        "    '''\n",
        "        \n",
        "    img = cv2.resize(img, (h, w), cv2.INTER_CUBIC)\n",
        "    return img\n",
        "\n",
        "\n",
        "def horizontal_shift(img, ratio=0.5):\n",
        "\n",
        "    ''' \n",
        "    we use this function to shift the image horizontally with the given ratio\n",
        "    width_target = width_input - ratio * width_input\n",
        "    \n",
        "    Hint: select ratio in range (-ratio to ratio) uniformly, to simulate horizontally shift to right and left with different ratios\n",
        "\n",
        "\n",
        "    arguments \n",
        "    input img: a Numpy ndarray from any size of h * w * ch\n",
        "          ratio: a float number between 0 and 1\n",
        "    \n",
        "    output: resized and interpolated image \n",
        "\n",
        "    '''\n",
        "    \n",
        "    if ratio > 1 or ratio < 0:\n",
        "        print('Value should be less than 1 and greater than 0')\n",
        "        return img\n",
        "    ratio = random.uniform(-ratio, ratio) # you can change this\n",
        "    h, w = img.shape[:2]\n",
        "    to_shift = w*ratio\n",
        "    if ratio > 0:\n",
        "        img = img[:, :int(w-to_shift), :]\n",
        "    if ratio < 0:\n",
        "        img = img[:, int(-1*to_shift):, :]\n",
        "\n",
        "    img = fill(img, h, w) # fill image borders\n",
        "\n",
        "    return img\n"
      ]
    },
    {
      "cell_type": "code",
      "execution_count": 4,
      "metadata": {
        "id": "cmDF6i2kdKli"
      },
      "outputs": [],
      "source": [
        "    \n",
        "def vertical_shift(img, ratio=0.5):\n",
        "\n",
        "    ''' \n",
        "    we use this function to shift the image vertically with the given ratio\n",
        "    width_target = width_input - ratio * width_input\n",
        "    \n",
        "    Hint: select ratio in range (-ratio to ratio) uniformly, to simulate vertically shift to up and down with different ratios\n",
        "\n",
        "\n",
        "    arguments \n",
        "    input img: a Numpy ndarray from any size of h * w * ch\n",
        "          ratio: a float number between 0 and 1\n",
        "    \n",
        "    output: resized and interpolated image \n",
        "\n",
        "    '''\n",
        "\n",
        "    if ratio > 1 or ratio < 0:\n",
        "        print('Value should be less than 1 and greater than 0')\n",
        "        return img\n",
        "    ratio = random.uniform(-ratio, ratio)\n",
        "    h, w = img.shape[:2]\n",
        "    to_shift = h*ratio\n",
        "    if ratio > 0:\n",
        "        img = img[:int(h-to_shift), :, :]\n",
        "    if ratio < 0:\n",
        "        img = img[int(-1*to_shift):, :, :]\n",
        "        \n",
        "    img = fill(img, h, w)\n",
        "\n",
        "    return img\n",
        "\n"
      ]
    },
    {
      "cell_type": "code",
      "execution_count": 5,
      "metadata": {
        "id": "pJ31WDBQdNhz"
      },
      "outputs": [],
      "source": [
        "def brightness(img, low, high):\n",
        "\n",
        "    ''' \n",
        "    we use this function to change the brightness of the image with given high and low values\n",
        "    \n",
        "    Hint: first convert to HSV color domain, Next make your image brighter or darker then convert back to BGR\n",
        "\n",
        "    arguments \n",
        "    input img: a Numpy ndarray from any size of h * w * ch\n",
        "          low:\n",
        "          high:\n",
        "    \n",
        "    output: image with different brightness\n",
        "\n",
        "    '''\n",
        "\n",
        "    value = random.uniform(low, high)\n",
        "    hsv = cv2.cvtColor(img, cv2.COLOR_BGR2HSV)\n",
        "    hsv = np.array(hsv, dtype = np.float64)\n",
        "    hsv[:,:,1] = hsv[:,:,1]*value\n",
        "    hsv[:,:,1][hsv[:,:,1]>255]  = 255\n",
        "    hsv[:,:,2] = hsv[:,:,2]*value \n",
        "    hsv[:,:,2][hsv[:,:,2]>255]  = 255\n",
        "    hsv = np.array(hsv, dtype = np.uint8)\n",
        "    img = cv2.cvtColor(hsv, cv2.COLOR_HSV2BGR)\n",
        "    \n",
        "    return img"
      ]
    },
    {
      "cell_type": "code",
      "execution_count": 6,
      "metadata": {
        "id": "buuw_F7Bdaq-"
      },
      "outputs": [],
      "source": [
        "\n",
        "def zoom(img, value):\n",
        "\n",
        "    ''' \n",
        "    we use this function to zoom the image with given value\n",
        "    \n",
        "    arguments \n",
        "    input img: a Numpy ndarray from any size of h * w * ch\n",
        "          value: an integer number indicating the zoom effect\n",
        "    \n",
        "    output: zoomed image\n",
        "\n",
        "    '''\n",
        "    \n",
        "    if value > 1 or value < 0:\n",
        "        print('Value for zoom should be less than 1 and greater than 0')\n",
        "        return img\n",
        "    value = random.uniform(value, 1)\n",
        "    h, w = img.shape[:2]\n",
        "    h_taken = int(value*h)\n",
        "    w_taken = int(value*w)\n",
        "    h_start = random.randint(0, h-h_taken)\n",
        "    w_start = random.randint(0, w-w_taken)\n",
        "    img = img[h_start:h_start+h_taken, w_start:w_start+w_taken, :]\n",
        "    \n",
        "    img = fill(img, h, w)\n",
        "\n",
        "    return img"
      ]
    },
    {
      "cell_type": "code",
      "execution_count": 7,
      "metadata": {
        "id": "dRQTWQiYde3-"
      },
      "outputs": [],
      "source": [
        "def channel_shift(img, value):\n",
        "\n",
        "    ''' \n",
        "    we use this function to shift color channels to play with colors in the image\n",
        "    \n",
        "    arguments \n",
        "    input img: a Numpy ndarray from any size of h * w * ch\n",
        "          value: an integer number indicating the color change effect\n",
        "    \n",
        "    output: image with changed colors\n",
        "\n",
        "    '''\n",
        "    \n",
        "    value = int(random.uniform(-value, value))\n",
        "    img = img + value\n",
        "    img[:,:,:][img[:,:,:]>255]  = 255\n",
        "    img[:,:,:][img[:,:,:]<0]  = 0\n",
        "    img = img.astype(np.uint8)\n",
        "    \n",
        "    return img"
      ]
    },
    {
      "cell_type": "code",
      "execution_count": 8,
      "metadata": {
        "id": "-8fUbL8odizd"
      },
      "outputs": [],
      "source": [
        "def horizontal_flip(img):\n",
        "\n",
        "    ''' \n",
        "    we use this function to flip the image horizontally\n",
        "\n",
        "    arguments \n",
        "    input img: a Numpy ndarray from any size of h * w * ch\n",
        "    \n",
        "    output: horizontally fliped image\n",
        "\n",
        "    '''\n",
        "\n",
        "    return cv2.flip(img, 1)\n"
      ]
    },
    {
      "cell_type": "code",
      "execution_count": 9,
      "metadata": {
        "id": "_oXvmff4dtd7"
      },
      "outputs": [],
      "source": [
        "def vertical_flip(img):\n",
        "\n",
        "    ''' \n",
        "    we use this function to flip the image vertically\n",
        "    \n",
        "    arguments \n",
        "    input img: a Numpy ndarray from any size of h * w * ch\n",
        "    \n",
        "    output: vertically fliped image\n",
        "\n",
        "    '''\n",
        "    \n",
        "    return cv2.flip(img, 0)\n"
      ]
    },
    {
      "cell_type": "markdown",
      "metadata": {
        "id": "TwZ7aipEf5_y"
      },
      "source": [
        "### Prepare your dataset"
      ]
    },
    {
      "cell_type": "code",
      "execution_count": 69,
      "metadata": {
        "id": "AiAQnha9dwJ8"
      },
      "outputs": [],
      "source": [
        "# For each image in our dataset run the previous methods and create a new dataset\n",
        "\n",
        "images_2 = []\n",
        "for image in images:\n",
        "  images_2.append(image)\n",
        "  images_2.append(horizontal_shift(image))\n",
        "  images_2.append(vertical_shift(image))\n",
        "  images_2.append(brightness(image, 15, 30))\n",
        "  images_2.append(zoom(image, 0.4))\n",
        "  images_2.append(channel_shift(image, 7))\n",
        "  images_2.append(horizontal_flip(image))\n",
        "  images_2.append(vertical_flip(image))"
      ]
    },
    {
      "cell_type": "code",
      "execution_count": 70,
      "metadata": {
        "id": "INX5G0lfgOz4"
      },
      "outputs": [],
      "source": [
        "\n",
        "# Extend your labels array new size with correct labels maped to each agumented image\n",
        "labels_2 = []\n",
        "for label in labels:\n",
        "  labels_2.append(label)\n",
        "  labels_2.append(label)\n",
        "  labels_2.append(label)\n",
        "  labels_2.append(label)\n",
        "  labels_2.append(label)\n",
        "  labels_2.append(label)\n",
        "  labels_2.append(label)\n",
        "  labels_2.append(label)"
      ]
    },
    {
      "cell_type": "code",
      "execution_count": 71,
      "metadata": {
        "colab": {
          "base_uri": "https://localhost:8080/"
        },
        "id": "r_pRCQimf5_0",
        "outputId": "cfb08d81-26e7-4d5b-cd94-db3fda5bfb0c"
      },
      "outputs": [
        {
          "name": "stderr",
          "output_type": "stream",
          "text": [
            "/usr/local/lib/python3.7/dist-packages/ipykernel_launcher.py:3: VisibleDeprecationWarning: Creating an ndarray from ragged nested sequences (which is a list-or-tuple of lists-or-tuples-or ndarrays with different lengths or shapes) is deprecated. If you meant to do this, you must specify 'dtype=object' when creating the ndarray.\n",
            "  This is separate from the ipykernel package so we can avoid doing imports until\n"
          ]
        }
      ],
      "source": [
        "# Normalize your dataset in a way to have a image dataset with pixles in range (0 to 1)\n",
        "\n",
        "images_2 = np.divide(images_2, 255)"
      ]
    },
    {
      "cell_type": "code",
      "execution_count": 72,
      "metadata": {
        "id": "vBKnBl4sf5_0"
      },
      "outputs": [],
      "source": [
        "# Resize your images to (28 * 28)\n",
        "\n",
        "x_train_2 = []\n",
        "for image in images_2:\n",
        "  x_train_2.append(cv2.resize(image, (28, 28)))"
      ]
    },
    {
      "cell_type": "code",
      "execution_count": 73,
      "metadata": {
        "id": "h5aQWVE0f5_1"
      },
      "outputs": [],
      "source": [
        "# Flatten your dataset images \n",
        "\n",
        "x_train_2 = np.array(x_train_2)\n",
        "y_train_2 = np.array(labels_2)\n",
        "x_train_2 = x_train_2.flatten().reshape(800, 2352)\n",
        "y_train_2 = y_train_2.flatten()"
      ]
    },
    {
      "cell_type": "code",
      "execution_count": 64,
      "metadata": {
        "colab": {
          "base_uri": "https://localhost:8080/"
        },
        "id": "UVdLxsy8f5_2",
        "outputId": "7955ffd9-fdf3-428d-d03a-19fcc8e010fc"
      },
      "outputs": [
        {
          "name": "stdout",
          "output_type": "stream",
          "text": [
            "(800, 2352)\n",
            "(800,)\n"
          ]
        }
      ],
      "source": [
        "# Check your dataset and labels to be a numpy ndarray of sizes (800, 28 * 28 * 3) and (800, 1) respectively.\n",
        "\n",
        "print(x_train_2.shape)\n",
        "print(y_train_2.shape)"
      ]
    },
    {
      "cell_type": "markdown",
      "metadata": {
        "id": "IwpyI2HGf5_2"
      },
      "source": [
        "### Create your model"
      ]
    },
    {
      "cell_type": "code",
      "execution_count": 80,
      "metadata": {
        "id": "h_gj61R8f5_3"
      },
      "outputs": [],
      "source": [
        "# create a simple model of Keras MLP with desired number of dense layers and units and activation function\n",
        "# don't forget to shuffle the data\n",
        "# this is a binary classification problem\n",
        "\n",
        "model_temp_2 = Sequential()\n",
        "model_temp_2.add(Dense(512, input_shape=(2352, ), activation='relu'))\n",
        "model_temp_2.add(Dense(16, activation='relu'))\n",
        "model_temp_2.add(Dense(1, activation='sigmoid'))"
      ]
    },
    {
      "cell_type": "code",
      "execution_count": 81,
      "metadata": {
        "id": "D1MZeTXef5_4"
      },
      "outputs": [],
      "source": [
        "# Split your dataset to test and train with the desired implementation\n",
        "# use sklearn.model_selection.train_test_split\n",
        "\n",
        "x_train_2, x_test_2, y_train_2, y_test_2 = train_test_split(x_train_2, y_train_2, test_size=0.33)"
      ]
    },
    {
      "cell_type": "code",
      "execution_count": 82,
      "metadata": {
        "colab": {
          "base_uri": "https://localhost:8080/"
        },
        "id": "AOw9wdhIf5_5",
        "outputId": "9b13f8cc-31a4-4675-dfc6-0e91d4f883cf"
      },
      "outputs": [
        {
          "name": "stdout",
          "output_type": "stream",
          "text": [
            "Epoch 1/50\n",
            "9/9 - 1s - loss: 1.0402 - accuracy: 0.5087 - val_loss: 0.8829 - val_accuracy: 0.4722 - 1s/epoch - 154ms/step\n",
            "Epoch 2/50\n",
            "9/9 - 0s - loss: 0.6995 - accuracy: 0.5923 - val_loss: 0.7316 - val_accuracy: 0.5000 - 111ms/epoch - 12ms/step\n",
            "Epoch 3/50\n",
            "9/9 - 0s - loss: 0.6618 - accuracy: 0.5784 - val_loss: 0.6557 - val_accuracy: 0.5556 - 121ms/epoch - 13ms/step\n",
            "Epoch 4/50\n",
            "9/9 - 0s - loss: 0.6362 - accuracy: 0.6481 - val_loss: 0.6346 - val_accuracy: 0.6250 - 112ms/epoch - 12ms/step\n",
            "Epoch 5/50\n",
            "9/9 - 0s - loss: 0.6757 - accuracy: 0.6098 - val_loss: 0.6729 - val_accuracy: 0.5000 - 126ms/epoch - 14ms/step\n",
            "Epoch 6/50\n",
            "9/9 - 0s - loss: 0.7454 - accuracy: 0.5401 - val_loss: 0.6469 - val_accuracy: 0.5556 - 125ms/epoch - 14ms/step\n",
            "Epoch 7/50\n",
            "9/9 - 0s - loss: 0.5863 - accuracy: 0.6794 - val_loss: 0.7433 - val_accuracy: 0.5000 - 105ms/epoch - 12ms/step\n",
            "Epoch 8/50\n",
            "9/9 - 0s - loss: 0.6136 - accuracy: 0.6655 - val_loss: 0.7845 - val_accuracy: 0.4861 - 105ms/epoch - 12ms/step\n",
            "Epoch 9/50\n",
            "9/9 - 0s - loss: 0.5577 - accuracy: 0.7352 - val_loss: 0.6347 - val_accuracy: 0.6111 - 123ms/epoch - 14ms/step\n",
            "Epoch 10/50\n",
            "9/9 - 0s - loss: 0.5305 - accuracy: 0.7352 - val_loss: 0.7188 - val_accuracy: 0.5139 - 138ms/epoch - 15ms/step\n",
            "Epoch 11/50\n",
            "9/9 - 0s - loss: 0.5581 - accuracy: 0.7108 - val_loss: 0.6278 - val_accuracy: 0.6389 - 160ms/epoch - 18ms/step\n",
            "Epoch 12/50\n",
            "9/9 - 0s - loss: 0.5093 - accuracy: 0.7770 - val_loss: 0.6051 - val_accuracy: 0.6944 - 139ms/epoch - 15ms/step\n",
            "Epoch 13/50\n",
            "9/9 - 0s - loss: 0.4740 - accuracy: 0.8258 - val_loss: 0.6023 - val_accuracy: 0.7361 - 135ms/epoch - 15ms/step\n",
            "Epoch 14/50\n",
            "9/9 - 0s - loss: 0.5120 - accuracy: 0.7317 - val_loss: 0.6129 - val_accuracy: 0.7083 - 142ms/epoch - 16ms/step\n",
            "Epoch 15/50\n",
            "9/9 - 0s - loss: 0.4747 - accuracy: 0.7213 - val_loss: 0.5818 - val_accuracy: 0.7361 - 154ms/epoch - 17ms/step\n",
            "Epoch 16/50\n",
            "9/9 - 0s - loss: 0.4303 - accuracy: 0.8467 - val_loss: 0.5769 - val_accuracy: 0.6806 - 142ms/epoch - 16ms/step\n",
            "Epoch 17/50\n",
            "9/9 - 0s - loss: 0.4092 - accuracy: 0.8537 - val_loss: 0.5862 - val_accuracy: 0.6944 - 135ms/epoch - 15ms/step\n",
            "Epoch 18/50\n",
            "9/9 - 0s - loss: 0.4109 - accuracy: 0.8502 - val_loss: 0.5962 - val_accuracy: 0.7222 - 148ms/epoch - 16ms/step\n",
            "Epoch 19/50\n",
            "9/9 - 0s - loss: 0.3895 - accuracy: 0.8780 - val_loss: 0.5974 - val_accuracy: 0.6667 - 145ms/epoch - 16ms/step\n",
            "Epoch 20/50\n",
            "9/9 - 0s - loss: 0.4327 - accuracy: 0.7805 - val_loss: 0.7339 - val_accuracy: 0.5694 - 144ms/epoch - 16ms/step\n",
            "Epoch 21/50\n",
            "9/9 - 0s - loss: 0.4258 - accuracy: 0.7700 - val_loss: 0.5746 - val_accuracy: 0.7083 - 139ms/epoch - 15ms/step\n",
            "Epoch 22/50\n",
            "9/9 - 0s - loss: 0.3778 - accuracy: 0.8432 - val_loss: 0.5983 - val_accuracy: 0.7222 - 138ms/epoch - 15ms/step\n",
            "Epoch 23/50\n",
            "9/9 - 0s - loss: 0.3640 - accuracy: 0.8467 - val_loss: 0.5681 - val_accuracy: 0.7222 - 140ms/epoch - 16ms/step\n",
            "Epoch 24/50\n",
            "9/9 - 0s - loss: 0.3230 - accuracy: 0.8955 - val_loss: 0.6278 - val_accuracy: 0.6944 - 131ms/epoch - 15ms/step\n",
            "Epoch 25/50\n",
            "9/9 - 0s - loss: 0.3188 - accuracy: 0.8711 - val_loss: 0.5821 - val_accuracy: 0.7083 - 154ms/epoch - 17ms/step\n",
            "Epoch 26/50\n",
            "9/9 - 0s - loss: 0.2988 - accuracy: 0.8990 - val_loss: 0.6220 - val_accuracy: 0.6667 - 144ms/epoch - 16ms/step\n",
            "Epoch 27/50\n",
            "9/9 - 0s - loss: 0.2913 - accuracy: 0.9024 - val_loss: 0.6173 - val_accuracy: 0.6944 - 147ms/epoch - 16ms/step\n",
            "Epoch 28/50\n",
            "9/9 - 0s - loss: 0.3483 - accuracy: 0.8467 - val_loss: 0.5778 - val_accuracy: 0.7500 - 137ms/epoch - 15ms/step\n",
            "Epoch 29/50\n",
            "9/9 - 0s - loss: 0.2693 - accuracy: 0.9024 - val_loss: 0.5996 - val_accuracy: 0.6944 - 143ms/epoch - 16ms/step\n",
            "Epoch 30/50\n",
            "9/9 - 0s - loss: 0.2621 - accuracy: 0.9094 - val_loss: 0.5833 - val_accuracy: 0.7083 - 131ms/epoch - 15ms/step\n",
            "Epoch 31/50\n",
            "9/9 - 0s - loss: 0.2305 - accuracy: 0.9408 - val_loss: 0.5750 - val_accuracy: 0.7361 - 113ms/epoch - 13ms/step\n",
            "Epoch 32/50\n",
            "9/9 - 0s - loss: 0.2301 - accuracy: 0.9373 - val_loss: 0.6236 - val_accuracy: 0.7083 - 122ms/epoch - 14ms/step\n",
            "Epoch 33/50\n",
            "9/9 - 0s - loss: 0.2138 - accuracy: 0.9477 - val_loss: 0.5954 - val_accuracy: 0.6806 - 114ms/epoch - 13ms/step\n",
            "Epoch 34/50\n",
            "9/9 - 0s - loss: 0.1966 - accuracy: 0.9617 - val_loss: 0.6075 - val_accuracy: 0.7361 - 112ms/epoch - 12ms/step\n",
            "Epoch 35/50\n",
            "9/9 - 0s - loss: 0.2178 - accuracy: 0.9408 - val_loss: 0.5918 - val_accuracy: 0.7083 - 112ms/epoch - 12ms/step\n",
            "Epoch 36/50\n",
            "9/9 - 0s - loss: 0.2083 - accuracy: 0.9408 - val_loss: 0.5916 - val_accuracy: 0.7083 - 110ms/epoch - 12ms/step\n",
            "Epoch 37/50\n",
            "9/9 - 0s - loss: 0.1699 - accuracy: 0.9686 - val_loss: 0.5856 - val_accuracy: 0.7639 - 157ms/epoch - 17ms/step\n",
            "Epoch 38/50\n",
            "9/9 - 0s - loss: 0.1529 - accuracy: 0.9791 - val_loss: 0.6082 - val_accuracy: 0.7361 - 136ms/epoch - 15ms/step\n",
            "Epoch 39/50\n",
            "9/9 - 0s - loss: 0.1579 - accuracy: 0.9686 - val_loss: 0.6166 - val_accuracy: 0.7083 - 108ms/epoch - 12ms/step\n",
            "Epoch 40/50\n",
            "9/9 - 0s - loss: 0.1394 - accuracy: 0.9895 - val_loss: 0.5983 - val_accuracy: 0.7083 - 138ms/epoch - 15ms/step\n",
            "Epoch 41/50\n",
            "9/9 - 0s - loss: 0.1463 - accuracy: 0.9721 - val_loss: 0.7594 - val_accuracy: 0.6389 - 111ms/epoch - 12ms/step\n",
            "Epoch 42/50\n",
            "9/9 - 0s - loss: 0.1498 - accuracy: 0.9791 - val_loss: 0.6165 - val_accuracy: 0.7222 - 110ms/epoch - 12ms/step\n",
            "Epoch 43/50\n",
            "9/9 - 0s - loss: 0.1187 - accuracy: 0.9895 - val_loss: 0.6271 - val_accuracy: 0.7222 - 111ms/epoch - 12ms/step\n",
            "Epoch 44/50\n",
            "9/9 - 0s - loss: 0.1247 - accuracy: 0.9686 - val_loss: 0.7457 - val_accuracy: 0.7361 - 115ms/epoch - 13ms/step\n",
            "Epoch 45/50\n",
            "9/9 - 0s - loss: 0.1465 - accuracy: 0.9547 - val_loss: 0.6504 - val_accuracy: 0.6667 - 107ms/epoch - 12ms/step\n",
            "Epoch 46/50\n",
            "9/9 - 0s - loss: 0.0985 - accuracy: 0.9895 - val_loss: 0.6327 - val_accuracy: 0.6806 - 122ms/epoch - 14ms/step\n",
            "Epoch 47/50\n",
            "9/9 - 0s - loss: 0.0905 - accuracy: 0.9930 - val_loss: 0.6249 - val_accuracy: 0.7361 - 111ms/epoch - 12ms/step\n",
            "Epoch 48/50\n",
            "9/9 - 0s - loss: 0.0815 - accuracy: 0.9965 - val_loss: 0.6468 - val_accuracy: 0.7083 - 268ms/epoch - 30ms/step\n",
            "Epoch 49/50\n",
            "9/9 - 0s - loss: 0.0817 - accuracy: 0.9965 - val_loss: 0.6696 - val_accuracy: 0.7083 - 321ms/epoch - 36ms/step\n",
            "Epoch 50/50\n",
            "9/9 - 0s - loss: 0.0800 - accuracy: 0.9861 - val_loss: 0.6811 - val_accuracy: 0.6667 - 212ms/epoch - 24ms/step\n"
          ]
        }
      ],
      "source": [
        "# Compile your model to introduce loss function optimizer and metrices to monitor accuracy metric and train on the data\n",
        "# Don't forget to monitor the overfitting, you should take care of val_accuracy and val_loss\n",
        "\n",
        "model_temp_2.compile(\n",
        "    loss='binary_crossentropy', \n",
        "    optimizer='adam', \n",
        "    metrics=['accuracy']\n",
        ")\n",
        "history = model_temp_2.fit(\n",
        "      x_train_2, \n",
        "      y_train_2,\n",
        "      epochs=50,\n",
        "      validation_split=0.2,\n",
        "      shuffle=True,\n",
        "      verbose=2\n",
        ")"
      ]
    },
    {
      "cell_type": "markdown",
      "metadata": {
        "id": "3xb8ty0qf5_5"
      },
      "source": [
        "### Plot your results"
      ]
    },
    {
      "cell_type": "code",
      "execution_count": 83,
      "metadata": {
        "colab": {
          "base_uri": "https://localhost:8080/",
          "height": 545
        },
        "id": "okCRqyxdf5_6",
        "outputId": "edfb3d49-51b7-4a15-9efc-2b4eab6d4ca6"
      },
      "outputs": [
        {
          "data": {
            "image/png": "[encoded data removed]",
            "text/plain": [
              "<Figure size 432x288 with 1 Axes>"
            ]
          },
          "metadata": {
            "needs_background": "light"
          },
          "output_type": "display_data"
        },
        {
          "data": {
            "image/png": "[encoded data removed]",
            "text/plain": [
              "<Figure size 432x288 with 1 Axes>"
            ]
          },
          "metadata": {
            "needs_background": "light"
          },
          "output_type": "display_data"
        }
      ],
      "source": [
        "# Plot your data\n",
        "\n",
        "import matplotlib.pyplot as plt\n",
        "acc = history.history['accuracy']\n",
        "val_acc = history.history['val_accuracy']\n",
        "loss = history.history['loss']\n",
        "val_loss = history.history['val_loss']\n",
        "\n",
        "epochs = range(len(acc))\n",
        "\n",
        "plt.plot(epochs, acc, 'r', label='Training accuracy')\n",
        "plt.plot(epochs, val_acc, 'b', label='Validation accuracy')\n",
        "plt.title('Training and validation accuracy')\n",
        "plt.legend()\n",
        "\n",
        "plt.figure()\n",
        "\n",
        "plt.plot(epochs, loss, 'r', label='Training Loss')\n",
        "plt.plot(epochs, val_loss, 'b', label='Validation Loss')\n",
        "plt.title('Training and validation loss')\n",
        "plt.legend()\n",
        "\n",
        "plt.show()"
      ]
    },
    {
      "cell_type": "markdown",
      "metadata": {
        "id": "nmMyKwYxf5_7"
      },
      "source": [
        "### Evaluate results"
      ]
    },
    {
      "cell_type": "code",
      "execution_count": 84,
      "metadata": {
        "colab": {
          "base_uri": "https://localhost:8080/"
        },
        "id": "S_r-a_ahf5_7",
        "outputId": "64036393-9b4d-480e-c9c0-0e1536f5c3df"
      },
      "outputs": [
        {
          "name": "stdout",
          "output_type": "stream",
          "text": [
            "6/6 [==============================] - 0s 6ms/step - loss: 0.6737 - accuracy: 0.6780\n",
            "Test evaluation is:  [0.673651933670044, 0.6779661178588867]\n"
          ]
        }
      ],
      "source": [
        "# Evaluate your model on the test data\n",
        "\n",
        "test_evaluate_2 = model_temp_2.evaluate(x_test_2, y_test_2)\n",
        "print(\"Test evaluation is: \", test_evaluate_2)"
      ]
    },
    {
      "cell_type": "markdown",
      "metadata": {
        "id": "qCaf2Papf5_7"
      },
      "source": [
        "# Compare your results with and without using agumentation to see the difference"
      ]
    },
    {
      "cell_type": "markdown",
      "metadata": {
        "id": "Q5d0JUMDf5_8"
      },
      "source": [
        "## Optional Bonus Activity"
      ]
    },
    {
      "cell_type": "code",
      "execution_count": null,
      "metadata": {
        "id": "VuifPrHPm40L"
      },
      "outputs": [],
      "source": [
        "# Optional\n",
        "\n",
        "# Keras data Augmentation\n",
        "\n",
        "#use the bellow links\n",
        "\n",
        "# https://keras.io/guides/keras_cv/custom_image_augmentations/\n",
        "\n",
        "# https://keras.io/api/preprocessing/image/"
      ]
    },
    {
      "cell_type": "code",
      "execution_count": 97,
      "metadata": {
        "colab": {
          "base_uri": "https://localhost:8080/"
        },
        "id": "7h2K3nYTZ_Ge",
        "outputId": "19183a7c-2e8f-4108-e94b-2717e46e8474"
      },
      "outputs": [
        {
          "name": "stdout",
          "output_type": "stream",
          "text": [
            "Archive:  drive/MyDrive/data/HW3_2.zip\n",
            "replace data_aug/cat/cat.10172.jpg? [y]es, [n]o, [A]ll, [N]one, [r]ename: A\n",
            "  inflating: data_aug/cat/cat.10172.jpg  \n",
            "  inflating: data_aug/cat/cat.10195.jpg  \n",
            "  inflating: data_aug/cat/cat.1021.jpg  \n",
            "  inflating: data_aug/cat/cat.10949.jpg  \n",
            "  inflating: data_aug/cat/cat.11521.jpg  \n",
            "  inflating: data_aug/cat/cat.11535.jpg  \n",
            "  inflating: data_aug/cat/cat.11843.jpg  \n",
            "  inflating: data_aug/cat/cat.119.jpg  \n",
            "  inflating: data_aug/cat/cat.11946.jpg  \n",
            "  inflating: data_aug/cat/cat.11959.jpg  \n",
            "  inflating: data_aug/cat/cat.12263.jpg  \n",
            "  inflating: data_aug/cat/cat.12479.jpg  \n",
            "  inflating: data_aug/cat/cat.1666.jpg  \n",
            "  inflating: data_aug/cat/cat.1807.jpg  \n",
            "  inflating: data_aug/cat/cat.1848.jpg  \n",
            "  inflating: data_aug/cat/cat.2098.jpg  \n",
            "  inflating: data_aug/cat/cat.223.jpg  \n",
            "  inflating: data_aug/cat/cat.225.jpg  \n",
            "  inflating: data_aug/cat/cat.2326.jpg  \n",
            "  inflating: data_aug/cat/cat.2479.jpg  \n",
            "  inflating: data_aug/cat/cat.2482.jpg  \n",
            "  inflating: data_aug/cat/cat.2749.jpg  \n",
            "  inflating: data_aug/cat/cat.343.jpg  \n",
            "  inflating: data_aug/cat/cat.3469.jpg  \n",
            "  inflating: data_aug/cat/cat.3543.jpg  \n",
            "  inflating: data_aug/cat/cat.4071.jpg  \n",
            "  inflating: data_aug/cat/cat.4126.jpg  \n",
            "  inflating: data_aug/cat/cat.4177.jpg  \n",
            "  inflating: data_aug/cat/cat.4279.jpg  \n",
            "  inflating: data_aug/cat/cat.4344.jpg  \n",
            "  inflating: data_aug/cat/cat.4772.jpg  \n",
            "  inflating: data_aug/cat/cat.5005.jpg  \n",
            "  inflating: data_aug/cat/cat.5009.jpg  \n",
            "  inflating: data_aug/cat/cat.5077.jpg  \n",
            "  inflating: data_aug/cat/cat.6038.jpg  \n",
            "  inflating: data_aug/cat/cat.6706.jpg  \n",
            "  inflating: data_aug/cat/cat.6762.jpg  \n",
            "  inflating: data_aug/cat/cat.7305.jpg  \n",
            "  inflating: data_aug/cat/cat.7738.jpg  \n",
            "  inflating: data_aug/cat/cat.8309.jpg  \n",
            "  inflating: data_aug/cat/cat.8608.jpg  \n",
            "  inflating: data_aug/cat/cat.8740.jpg  \n",
            "  inflating: data_aug/cat/cat.8908.jpg  \n",
            "  inflating: data_aug/cat/cat.9239.jpg  \n",
            "  inflating: data_aug/cat/cat.9378.jpg  \n",
            "  inflating: data_aug/cat/cat.9499.jpg  \n",
            "  inflating: data_aug/cat/cat.9501.jpg  \n",
            "  inflating: data_aug/cat/cat.98.jpg  \n",
            "  inflating: data_aug/cat/cat.9860.jpg  \n",
            "  inflating: data_aug/cat/cat.9890.jpg  \n",
            "  inflating: data_aug/dog/dog.10221.jpg  \n",
            "  inflating: data_aug/dog/dog.10546.jpg  \n",
            "  inflating: data_aug/dog/dog.10890.jpg  \n",
            "  inflating: data_aug/dog/dog.11099.jpg  \n",
            "  inflating: data_aug/dog/dog.11154.jpg  \n",
            "  inflating: data_aug/dog/dog.11283.jpg  \n",
            "  inflating: data_aug/dog/dog.11634.jpg  \n",
            "  inflating: data_aug/dog/dog.11675.jpg  \n",
            "  inflating: data_aug/dog/dog.11777.jpg  \n",
            "  inflating: data_aug/dog/dog.11833.jpg  \n",
            "  inflating: data_aug/dog/dog.12029.jpg  \n",
            "  inflating: data_aug/dog/dog.12031.jpg  \n",
            "  inflating: data_aug/dog/dog.12181.jpg  \n",
            "  inflating: data_aug/dog/dog.12247.jpg  \n",
            "  inflating: data_aug/dog/dog.12399.jpg  \n",
            "  inflating: data_aug/dog/dog.1687.jpg  \n",
            "  inflating: data_aug/dog/dog.1781.jpg  \n",
            "  inflating: data_aug/dog/dog.1989.jpg  \n",
            "  inflating: data_aug/dog/dog.2078.jpg  \n",
            "  inflating: data_aug/dog/dog.2092.jpg  \n",
            "  inflating: data_aug/dog/dog.2242.jpg  \n",
            "  inflating: data_aug/dog/dog.2793.jpg  \n",
            "  inflating: data_aug/dog/dog.301.jpg  \n",
            "  inflating: data_aug/dog/dog.3048.jpg  \n",
            "  inflating: data_aug/dog/dog.306.jpg  \n",
            "  inflating: data_aug/dog/dog.3565.jpg  \n",
            "  inflating: data_aug/dog/dog.3788.jpg  \n",
            "  inflating: data_aug/dog/dog.42.jpg  \n",
            "  inflating: data_aug/dog/dog.4439.jpg  \n",
            "  inflating: data_aug/dog/dog.5657.jpg  \n",
            "  inflating: data_aug/dog/dog.5920.jpg  \n",
            "  inflating: data_aug/dog/dog.6132.jpg  \n",
            "  inflating: data_aug/dog/dog.6219.jpg  \n",
            "  inflating: data_aug/dog/dog.6503.jpg  \n",
            "  inflating: data_aug/dog/dog.658.jpg  \n",
            "  inflating: data_aug/dog/dog.6891.jpg  \n",
            "  inflating: data_aug/dog/dog.6892.jpg  \n",
            "  inflating: data_aug/dog/dog.6966.jpg  \n",
            "  inflating: data_aug/dog/dog.699.jpg  \n",
            "  inflating: data_aug/dog/dog.7487.jpg  \n",
            "  inflating: data_aug/dog/dog.7778.jpg  \n",
            "  inflating: data_aug/dog/dog.8228.jpg  \n",
            "  inflating: data_aug/dog/dog.8296.jpg  \n",
            "  inflating: data_aug/dog/dog.8629.jpg  \n",
            "  inflating: data_aug/dog/dog.8715.jpg  \n",
            "  inflating: data_aug/dog/dog.91.jpg  \n",
            "  inflating: data_aug/dog/dog.9326.jpg  \n",
            "  inflating: data_aug/dog/dog.9374.jpg  \n",
            "  inflating: data_aug/dog/dog.9440.jpg  \n",
            "  inflating: data_aug/dog/dog.9719.jpg  \n",
            "Found 100 files belonging to 2 classes.\n"
          ]
        }
      ],
      "source": [
        "!unzip \"drive/MyDrive/data/HW3_2.zip\"\n",
        "dataset_3 = tf.keras.preprocessing.image_dataset_from_directory(\n",
        "    \"./data_aug\",\n",
        "    seed=30,\n",
        "    image_size=(28, 28),\n",
        "    batch_size=100\n",
        ")"
      ]
    },
    {
      "cell_type": "code",
      "execution_count": 98,
      "metadata": {
        "colab": {
          "base_uri": "https://localhost:8080/"
        },
        "id": "cMnzRAZ6g5ES",
        "outputId": "6b2536da-cc11-4e11-982a-1b5f814a0900"
      },
      "outputs": [
        {
          "name": "stdout",
          "output_type": "stream",
          "text": [
            "50\n",
            "50\n"
          ]
        }
      ],
      "source": [
        "print(len(os.listdir('./data_aug/dog')))\n",
        "print(len(os.listdir('./data_aug/cat')))"
      ]
    },
    {
      "cell_type": "code",
      "execution_count": 99,
      "metadata": {
        "colab": {
          "base_uri": "https://localhost:8080/"
        },
        "id": "yld9T_b5hJEu",
        "outputId": "b8a9f64e-f8fb-49fe-d44d-4ffabe9c1e11"
      },
      "outputs": [
        {
          "name": "stdout",
          "output_type": "stream",
          "text": [
            "['cat', 'dog']\n"
          ]
        }
      ],
      "source": [
        "class_names = dataset_3.class_names\n",
        "print(class_names)"
      ]
    },
    {
      "cell_type": "code",
      "execution_count": 123,
      "metadata": {
        "colab": {
          "base_uri": "https://localhost:8080/"
        },
        "id": "j7muXGhgheGk",
        "outputId": "1cd00b15-60ae-444c-dcca-d673123de5ed"
      },
      "outputs": [
        {
          "name": "stdout",
          "output_type": "stream",
          "text": [
            "(100, 28, 28, 3)\n",
            "(100,)\n"
          ]
        }
      ],
      "source": [
        "for image, label in dataset_3:\n",
        "  print(image.shape)\n",
        "  print(label.shape)\n",
        "  break"
      ]
    },
    {
      "cell_type": "code",
      "execution_count": 134,
      "metadata": {
        "id": "RRVa5Sa2hxEU"
      },
      "outputs": [],
      "source": [
        "normalization = tf.keras.layers.Rescaling(1./255)\n",
        "normalized_dataset_3 = dataset_3.map(lambda x, y: (normalization(x), y))\n",
        "x_train_3, y_train_3 = next(iter(normalized_dataset_3))"
      ]
    },
    {
      "cell_type": "code",
      "execution_count": 135,
      "metadata": {
        "colab": {
          "base_uri": "https://localhost:8080/"
        },
        "id": "_hXXbQSTjDBk",
        "outputId": "e7796058-5a68-4bbc-c257-ff49423c47d7"
      },
      "outputs": [
        {
          "name": "stdout",
          "output_type": "stream",
          "text": [
            "(100, 2352)\n",
            "(100,)\n"
          ]
        }
      ],
      "source": [
        "x_train_3 = np.array(x_train_3)\n",
        "y_train_3 = np.array(y_train_3)\n",
        "x_train_3 = x_train_3.flatten().reshape(100, 2352)\n",
        "print(x_train_3.shape)\n",
        "print(y_train_3.shape)"
      ]
    },
    {
      "cell_type": "code",
      "execution_count": 136,
      "metadata": {
        "id": "r3Jy538pkM9G"
      },
      "outputs": [],
      "source": [
        "data_augmentation = tf.keras.Sequential([\n",
        "  layers.RandomFlip(\"horizontal_and_vertical\"),\n",
        "  layers.RandomRotation(0.2),\n",
        "])"
      ]
    },
    {
      "cell_type": "code",
      "execution_count": 137,
      "metadata": {
        "id": "dHjsQKxEk47j"
      },
      "outputs": [],
      "source": [
        "resize_images = tf.keras.Sequential([\n",
        "  layers.Resizing(25, 25)\n",
        "])"
      ]
    },
    {
      "cell_type": "code",
      "execution_count": 138,
      "metadata": {
        "id": "hCrhADQ6lOZ_"
      },
      "outputs": [],
      "source": [
        "model_temp_3 = tf.keras.Sequential([\n",
        "  Dense(512, input_shape=(2352,), activation='relu'),\n",
        "  Dense(16, kernel_initializer='normal', activation='relu'),\n",
        "  Dense(1, kernel_initializer='normal', activation='sigmoid')\n",
        "])"
      ]
    },
    {
      "cell_type": "code",
      "execution_count": 139,
      "metadata": {
        "id": "oYIMP0ySm-jU"
      },
      "outputs": [],
      "source": [
        "x_train_3, x_test_3, y_train_3, y_test_3 = train_test_split(x_train_3, y_train_3, test_size=0.33)"
      ]
    },
    {
      "cell_type": "code",
      "execution_count": 140,
      "metadata": {
        "colab": {
          "base_uri": "https://localhost:8080/"
        },
        "id": "p_3V_PTxnphJ",
        "outputId": "23061bf4-b8c6-479e-fe85-1ee9543e7eb9"
      },
      "outputs": [
        {
          "name": "stdout",
          "output_type": "stream",
          "text": [
            "Epoch 1/50\n",
            "11/11 - 1s - loss: 0.6955 - accuracy: 0.4906 - val_loss: 0.6931 - val_accuracy: 0.5000 - 780ms/epoch - 71ms/step\n",
            "Epoch 2/50\n",
            "11/11 - 0s - loss: 0.6932 - accuracy: 0.4528 - val_loss: 0.6931 - val_accuracy: 0.5000 - 96ms/epoch - 9ms/step\n",
            "Epoch 3/50\n",
            "11/11 - 0s - loss: 0.6932 - accuracy: 0.5094 - val_loss: 0.6931 - val_accuracy: 0.5000 - 111ms/epoch - 10ms/step\n",
            "Epoch 4/50\n",
            "11/11 - 0s - loss: 0.6932 - accuracy: 0.5094 - val_loss: 0.6931 - val_accuracy: 0.5000 - 100ms/epoch - 9ms/step\n",
            "Epoch 5/50\n",
            "11/11 - 0s - loss: 0.6931 - accuracy: 0.5094 - val_loss: 0.6931 - val_accuracy: 0.5000 - 99ms/epoch - 9ms/step\n",
            "Epoch 6/50\n",
            "11/11 - 0s - loss: 0.6931 - accuracy: 0.5094 - val_loss: 0.6931 - val_accuracy: 0.5000 - 123ms/epoch - 11ms/step\n",
            "Epoch 7/50\n",
            "11/11 - 0s - loss: 0.6931 - accuracy: 0.5094 - val_loss: 0.6931 - val_accuracy: 0.5000 - 129ms/epoch - 12ms/step\n",
            "Epoch 8/50\n",
            "11/11 - 0s - loss: 0.6931 - accuracy: 0.5094 - val_loss: 0.6931 - val_accuracy: 0.5000 - 124ms/epoch - 11ms/step\n",
            "Epoch 9/50\n",
            "11/11 - 0s - loss: 0.6931 - accuracy: 0.5094 - val_loss: 0.6931 - val_accuracy: 0.5000 - 121ms/epoch - 11ms/step\n",
            "Epoch 10/50\n",
            "11/11 - 0s - loss: 0.6932 - accuracy: 0.5094 - val_loss: 0.6931 - val_accuracy: 0.5000 - 121ms/epoch - 11ms/step\n",
            "Epoch 11/50\n",
            "11/11 - 0s - loss: 0.6932 - accuracy: 0.5094 - val_loss: 0.6931 - val_accuracy: 0.5000 - 136ms/epoch - 12ms/step\n",
            "Epoch 12/50\n",
            "11/11 - 0s - loss: 0.6931 - accuracy: 0.5094 - val_loss: 0.6932 - val_accuracy: 0.5000 - 130ms/epoch - 12ms/step\n",
            "Epoch 13/50\n",
            "11/11 - 0s - loss: 0.6931 - accuracy: 0.5094 - val_loss: 0.6931 - val_accuracy: 0.5000 - 131ms/epoch - 12ms/step\n",
            "Epoch 14/50\n",
            "11/11 - 0s - loss: 0.6932 - accuracy: 0.5094 - val_loss: 0.6932 - val_accuracy: 0.5000 - 139ms/epoch - 13ms/step\n",
            "Epoch 15/50\n",
            "11/11 - 0s - loss: 0.6931 - accuracy: 0.5094 - val_loss: 0.6932 - val_accuracy: 0.5000 - 124ms/epoch - 11ms/step\n",
            "Epoch 16/50\n",
            "11/11 - 0s - loss: 0.6931 - accuracy: 0.5094 - val_loss: 0.6932 - val_accuracy: 0.5000 - 132ms/epoch - 12ms/step\n",
            "Epoch 17/50\n",
            "11/11 - 0s - loss: 0.6931 - accuracy: 0.5094 - val_loss: 0.6932 - val_accuracy: 0.5000 - 118ms/epoch - 11ms/step\n",
            "Epoch 18/50\n",
            "11/11 - 0s - loss: 0.6931 - accuracy: 0.5094 - val_loss: 0.6932 - val_accuracy: 0.5000 - 132ms/epoch - 12ms/step\n",
            "Epoch 19/50\n",
            "11/11 - 0s - loss: 0.6931 - accuracy: 0.5094 - val_loss: 0.6932 - val_accuracy: 0.5000 - 124ms/epoch - 11ms/step\n",
            "Epoch 20/50\n",
            "11/11 - 0s - loss: 0.6931 - accuracy: 0.5094 - val_loss: 0.6932 - val_accuracy: 0.5000 - 117ms/epoch - 11ms/step\n",
            "Epoch 21/50\n",
            "11/11 - 0s - loss: 0.6931 - accuracy: 0.5094 - val_loss: 0.6932 - val_accuracy: 0.5000 - 127ms/epoch - 12ms/step\n",
            "Epoch 22/50\n",
            "11/11 - 0s - loss: 0.6931 - accuracy: 0.5094 - val_loss: 0.6932 - val_accuracy: 0.5000 - 114ms/epoch - 10ms/step\n",
            "Epoch 23/50\n",
            "11/11 - 0s - loss: 0.6931 - accuracy: 0.5094 - val_loss: 0.6932 - val_accuracy: 0.5000 - 110ms/epoch - 10ms/step\n",
            "Epoch 24/50\n",
            "11/11 - 0s - loss: 0.6931 - accuracy: 0.5094 - val_loss: 0.6932 - val_accuracy: 0.5000 - 127ms/epoch - 12ms/step\n",
            "Epoch 25/50\n",
            "11/11 - 0s - loss: 0.6931 - accuracy: 0.5094 - val_loss: 0.6932 - val_accuracy: 0.5000 - 113ms/epoch - 10ms/step\n",
            "Epoch 26/50\n",
            "11/11 - 0s - loss: 0.6931 - accuracy: 0.5094 - val_loss: 0.6932 - val_accuracy: 0.5000 - 129ms/epoch - 12ms/step\n",
            "Epoch 27/50\n",
            "11/11 - 0s - loss: 0.6931 - accuracy: 0.5094 - val_loss: 0.6932 - val_accuracy: 0.5000 - 129ms/epoch - 12ms/step\n",
            "Epoch 28/50\n",
            "11/11 - 0s - loss: 0.6931 - accuracy: 0.5094 - val_loss: 0.6932 - val_accuracy: 0.5000 - 117ms/epoch - 11ms/step\n",
            "Epoch 29/50\n",
            "11/11 - 0s - loss: 0.6931 - accuracy: 0.5094 - val_loss: 0.6932 - val_accuracy: 0.5000 - 121ms/epoch - 11ms/step\n",
            "Epoch 30/50\n",
            "11/11 - 0s - loss: 0.6931 - accuracy: 0.5094 - val_loss: 0.6932 - val_accuracy: 0.5000 - 133ms/epoch - 12ms/step\n",
            "Epoch 31/50\n",
            "11/11 - 0s - loss: 0.6931 - accuracy: 0.5094 - val_loss: 0.6932 - val_accuracy: 0.5000 - 127ms/epoch - 12ms/step\n",
            "Epoch 32/50\n",
            "11/11 - 0s - loss: 0.6931 - accuracy: 0.5094 - val_loss: 0.6932 - val_accuracy: 0.5000 - 117ms/epoch - 11ms/step\n",
            "Epoch 33/50\n",
            "11/11 - 0s - loss: 0.6931 - accuracy: 0.5094 - val_loss: 0.6932 - val_accuracy: 0.5000 - 123ms/epoch - 11ms/step\n",
            "Epoch 34/50\n",
            "11/11 - 0s - loss: 0.6931 - accuracy: 0.5094 - val_loss: 0.6932 - val_accuracy: 0.5000 - 114ms/epoch - 10ms/step\n",
            "Epoch 35/50\n",
            "11/11 - 0s - loss: 0.6930 - accuracy: 0.5094 - val_loss: 0.6932 - val_accuracy: 0.5000 - 118ms/epoch - 11ms/step\n",
            "Epoch 36/50\n",
            "11/11 - 0s - loss: 0.6931 - accuracy: 0.5094 - val_loss: 0.6932 - val_accuracy: 0.5000 - 124ms/epoch - 11ms/step\n",
            "Epoch 37/50\n",
            "11/11 - 0s - loss: 0.6930 - accuracy: 0.5094 - val_loss: 0.6932 - val_accuracy: 0.5000 - 130ms/epoch - 12ms/step\n",
            "Epoch 38/50\n",
            "11/11 - 0s - loss: 0.6931 - accuracy: 0.5094 - val_loss: 0.6932 - val_accuracy: 0.5000 - 116ms/epoch - 11ms/step\n",
            "Epoch 39/50\n",
            "11/11 - 0s - loss: 0.6931 - accuracy: 0.5094 - val_loss: 0.6932 - val_accuracy: 0.5000 - 121ms/epoch - 11ms/step\n",
            "Epoch 40/50\n",
            "11/11 - 0s - loss: 0.6932 - accuracy: 0.5094 - val_loss: 0.6932 - val_accuracy: 0.5000 - 109ms/epoch - 10ms/step\n",
            "Epoch 41/50\n",
            "11/11 - 0s - loss: 0.6931 - accuracy: 0.5094 - val_loss: 0.6932 - val_accuracy: 0.5000 - 127ms/epoch - 12ms/step\n",
            "Epoch 42/50\n",
            "11/11 - 0s - loss: 0.6930 - accuracy: 0.5094 - val_loss: 0.6932 - val_accuracy: 0.5000 - 127ms/epoch - 12ms/step\n",
            "Epoch 43/50\n",
            "11/11 - 0s - loss: 0.6931 - accuracy: 0.5094 - val_loss: 0.6932 - val_accuracy: 0.5000 - 127ms/epoch - 12ms/step\n",
            "Epoch 44/50\n",
            "11/11 - 0s - loss: 0.6930 - accuracy: 0.5094 - val_loss: 0.6932 - val_accuracy: 0.5000 - 128ms/epoch - 12ms/step\n",
            "Epoch 45/50\n",
            "11/11 - 0s - loss: 0.6930 - accuracy: 0.5094 - val_loss: 0.6932 - val_accuracy: 0.5000 - 138ms/epoch - 13ms/step\n",
            "Epoch 46/50\n",
            "11/11 - 0s - loss: 0.6930 - accuracy: 0.5094 - val_loss: 0.6932 - val_accuracy: 0.5000 - 122ms/epoch - 11ms/step\n",
            "Epoch 47/50\n",
            "11/11 - 0s - loss: 0.6930 - accuracy: 0.5094 - val_loss: 0.6932 - val_accuracy: 0.5000 - 119ms/epoch - 11ms/step\n",
            "Epoch 48/50\n",
            "11/11 - 0s - loss: 0.6930 - accuracy: 0.5094 - val_loss: 0.6932 - val_accuracy: 0.5000 - 118ms/epoch - 11ms/step\n",
            "Epoch 49/50\n",
            "11/11 - 0s - loss: 0.6930 - accuracy: 0.5094 - val_loss: 0.6932 - val_accuracy: 0.5000 - 121ms/epoch - 11ms/step\n",
            "Epoch 50/50\n",
            "11/11 - 0s - loss: 0.6930 - accuracy: 0.5094 - val_loss: 0.6932 - val_accuracy: 0.5000 - 132ms/epoch - 12ms/step\n"
          ]
        }
      ],
      "source": [
        "model_temp_3.compile(\n",
        "  loss='binary_crossentropy', \n",
        "  optimizer='adam', \n",
        "  metrics=['accuracy']\n",
        ")\n",
        "history = model_temp_3.fit(\n",
        "  x_train_3,\n",
        "  y_train_3,\n",
        "  epochs=50,\n",
        "  batch_size=5,\n",
        "  validation_split=0.2,\n",
        "  shuffle=True,\n",
        "  verbose=2\n",
        ")"
      ]
    },
    {
      "cell_type": "code",
      "execution_count": 141,
      "metadata": {
        "colab": {
          "base_uri": "https://localhost:8080/",
          "height": 545
        },
        "id": "MuuDyBMwoqhN",
        "outputId": "178b7c68-73ef-4ff2-bc33-ba643d596419"
      },
      "outputs": [
        {
          "data": {
            "image/png": "[encoded data removed]",
            "text/plain": [
              "<Figure size 432x288 with 1 Axes>"
            ]
          },
          "metadata": {
            "needs_background": "light"
          },
          "output_type": "display_data"
        },
        {
          "data": {
            "image/png": "[encoded data removed]",
            "text/plain": [
              "<Figure size 432x288 with 1 Axes>"
            ]
          },
          "metadata": {
            "needs_background": "light"
          },
          "output_type": "display_data"
        }
      ],
      "source": [
        "import matplotlib.pyplot as plt\n",
        "acc = history.history['accuracy']\n",
        "val_acc = history.history['val_accuracy']\n",
        "loss = history.history['loss']\n",
        "val_loss = history.history['val_loss']\n",
        "\n",
        "epochs = range(len(acc))\n",
        "\n",
        "plt.plot(epochs, acc, 'r', label='Training accuracy')\n",
        "plt.plot(epochs, val_acc, 'b', label='Validation accuracy')\n",
        "plt.title('Training and validation accuracy')\n",
        "plt.legend()\n",
        "\n",
        "plt.figure()\n",
        "\n",
        "plt.plot(epochs, loss, 'r', label='Training Loss')\n",
        "plt.plot(epochs, val_loss, 'b', label='Validation Loss')\n",
        "plt.title('Training and validation loss')\n",
        "plt.legend()\n",
        "\n",
        "plt.show()"
      ]
    },
    {
      "cell_type": "code",
      "execution_count": 142,
      "metadata": {
        "colab": {
          "base_uri": "https://localhost:8080/"
        },
        "id": "-Y91Cx5JpZkz",
        "outputId": "efdc8ff2-f518-426a-de69-1826398cc843"
      },
      "outputs": [
        {
          "name": "stdout",
          "output_type": "stream",
          "text": [
            "2/2 [==============================] - 0s 9ms/step - loss: 0.6935 - accuracy: 0.4848\n",
            "Test evaluation is:  [0.6935147047042847, 0.4848484992980957]\n"
          ]
        }
      ],
      "source": [
        "test_evaluate_3 = model_temp_3.evaluate(x_test_3, y_test_3)\n",
        "print(\"Test evaluation is: \", test_evaluate_3)"
      ]
    }
  ],
  "metadata": {
    "colab": {
      "provenance": []
    },
    "kernelspec": {
      "display_name": "Python 3.10.2 64-bit",
      "language": "python",
      "name": "python3"
    },
    "language_info": {
      "codemirror_mode": {
        "name": "ipython",
        "version": 3
      },
      "file_extension": ".py",
      "mimetype": "text/x-python",
      "name": "python",
      "nbconvert_exporter": "python",
      "pygments_lexer": "ipython3",
      "version": "3.10.2 (tags/v3.10.2:a58ebcc, Jan 17 2022, 14:12:15) [MSC v.1929 64 bit (AMD64)]"
    },
    "vscode": {
      "interpreter": {
        "hash": "fb4569285eef3a3450cb62085a5b1e0da4bce0af555edc33dcf29baf3acc1368"
      }
    }
  },
  "nbformat": 4,
  "nbformat_minor": 0
}
